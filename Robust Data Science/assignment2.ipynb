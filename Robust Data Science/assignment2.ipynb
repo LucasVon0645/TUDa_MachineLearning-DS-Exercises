{
 "cells": [
  {
   "cell_type": "code",
   "execution_count": 2,
   "metadata": {},
   "outputs": [],
   "source": [
    "import numpy as np\n",
    "import matplotlib.pyplot as plt\n",
    "import scipy.stats as stats\n",
    "\n",
    "np.random.seed(123)"
   ]
  },
  {
   "cell_type": "code",
   "execution_count": 3,
   "metadata": {},
   "outputs": [],
   "source": [
    "def weight_function(x: float) -> float:\n",
    "    if x >= 0 and x <= 3:\n",
    "        return 1 - x/3\n",
    "    elif x < 0 and x >= -3:\n",
    "        return 1 + x/3\n",
    "    else:\n",
    "        return 0\n",
    "\n",
    "def weight_function_vectorized(x: np.ndarray) -> np.ndarray:\n",
    "    return np.vectorize(weight_function)(x)\n",
    "\n",
    "def phi_function(x: float) -> float:\n",
    "    return weight_function(x)*x\n",
    "\n",
    "def rho_scale_vectorized(x: np.ndarray) -> np.ndarray:\n",
    "    return x * np.vectorize(phi_function)(x)"
   ]
  },
  {
   "cell_type": "code",
   "execution_count": 29,
   "metadata": {},
   "outputs": [],
   "source": [
    "def m_estimator_loc(samples, weight_function, initial_mean_estimate = None, std_estimate=None, epsilon=0.001):\n",
    "    if initial_mean_estimate is None:\n",
    "        initial_mean_estimate = np.median(samples)\n",
    "    if std_estimate is None:\n",
    "        std_estimate = stats.median_abs_deviation(samples, scale='normal')\n",
    "    \n",
    "    mu_i = initial_mean_estimate\n",
    "    sigma = std_estimate\n",
    "    iterations_count = 0\n",
    "    diff = 1\n",
    "\n",
    "    while diff > epsilon:\n",
    "        iterations_count += 1\n",
    "        weights = weight_function((samples - mu_i) / sigma)\n",
    "        mu_i_1 = np.sum(weights * samples) / np.sum(weights)\n",
    "        diff = abs(mu_i - mu_i_1)/sigma\n",
    "        mu_i = mu_i_1\n",
    "    \n",
    "    return mu_i, iterations_count, diff"
   ]
  },
  {
   "cell_type": "code",
   "execution_count": 30,
   "metadata": {},
   "outputs": [],
   "source": [
    "def m_estimator_scale(samples, weight_function, b, mean_estimate = None, initial_std_estimate = None, epsilon=0.001):\n",
    "    if mean_estimate is None:\n",
    "        mean_estimate = np.median(samples)\n",
    "    if initial_std_estimate is None:\n",
    "        initial_std_estimate = stats.median_abs_deviation(samples, scale='normal')\n",
    "    \n",
    "    mu = mean_estimate\n",
    "    sigma_i = initial_std_estimate\n",
    "    iterations_count = 0\n",
    "    diff = 1\n",
    "    N = len(samples)\n",
    "\n",
    "    while diff > epsilon:\n",
    "        iterations_count += 1\n",
    "        weights = weight_function((samples - mu) / sigma_i)\n",
    "        sigma_i_1 = np.sqrt(1/(N*b) * np.sum(weights * (samples - mu)**2))\n",
    "        diff = abs(sigma_i_1/sigma_i - 1)\n",
    "        sigma_i = sigma_i_1\n",
    "        \n",
    "    return sigma_i, iterations_count, diff"
   ]
  },
  {
   "cell_type": "code",
   "execution_count": null,
   "metadata": {},
   "outputs": [],
   "source": [
    "_, axes = plt.subplots(nrows=1, ncols=2, figsize=(10, 3))\n",
    "\n",
    "x_array = np.linspace(-4, 4, 1000)\n",
    "axes[0].plot(x_array, [weight_function(x) for x in x_array], label='$w(x)$')\n",
    "axes[1].plot(x_array, [phi_function(x) for x in x_array], label='$\\phi(x)$', color='red')\n",
    "\n",
    "axes[0].set_title('Weight function')\n",
    "axes[0].set_xlabel('x')\n",
    "axes[0].set_ylabel('w(x)')\n",
    "axes[0].legend()\n",
    "axes[0].grid()\n",
    "\n",
    "axes[1].set_title('Basis function')\n",
    "axes[1].set_xlabel('x')\n",
    "axes[1].set_ylabel('$\\phi(x)$')\n",
    "axes[1].legend()\n",
    "axes[1].grid()\n",
    "\n",
    "plt.show()"
   ]
  },
  {
   "cell_type": "code",
   "execution_count": null,
   "metadata": {},
   "outputs": [],
   "source": [
    "samples_normal_dist = np.random.normal(0, 1, 1000)\n",
    "\n",
    "# monte carlo integration for the expected value of the scale function\n",
    "b = rho_scale_vectorized(samples_normal_dist).mean()\n",
    "\n",
    "print(f'Expected value of the scale function: b = {b}')"
   ]
  },
  {
   "cell_type": "code",
   "execution_count": 8,
   "metadata": {},
   "outputs": [],
   "source": [
    "epsilon = 0.001\n",
    "\n",
    "y_array = np.array([1.03, 0.72, -0.30, 0.29, -5.78])"
   ]
  },
  {
   "cell_type": "code",
   "execution_count": null,
   "metadata": {},
   "outputs": [],
   "source": [
    "mu_0 = np.median(y_array)\n",
    "std_0 = stats.median_abs_deviation(y_array, scale='normal')\n",
    "\n",
    "print(f'Median: {mu_0}')\n",
    "print(f'Median absolute deviation: {std_0}')"
   ]
  },
  {
   "cell_type": "code",
   "execution_count": null,
   "metadata": {},
   "outputs": [],
   "source": [
    "print(f'Estimated location parameter: {mu_i}')\n",
    "print(f'Number of iterations: {iterations_count}')\n",
    "print(f'Error: {diff}')"
   ]
  },
  {
   "cell_type": "code",
   "execution_count": null,
   "metadata": {},
   "outputs": [],
   "source": [
    "scale, iterations_count, diff = m_estimator_scale(y_array, weight_function_vectorized, b)\n",
    "\n",
    "print(f'Estimated scale: {scale}')\n",
    "print(f'Number of iterations: {iterations_count}')\n",
    "print(f'Error: {diff}')"
   ]
  },
  {
   "cell_type": "code",
   "execution_count": null,
   "metadata": {},
   "outputs": [],
   "source": [
    "loc, iterations_count, diff = m_estimator_loc(y_array, weight_function_vectorized, std_estimate=std)\n",
    "\n",
    "print(f'Estimated location parameter: {loc}')\n",
    "print(f'Number of iterations: {iterations_count}')\n",
    "print(f'Error: {diff}')"
   ]
  },
  {
   "cell_type": "code",
   "execution_count": null,
   "metadata": {},
   "outputs": [],
   "source": [
    "loc, iterations_count, diff = m_estimator_loc(y_array, weight_function_vectorized)\n",
    "\n",
    "print(f'Estimated location parameter: {loc}')\n",
    "print(f'Number of iterations: {iterations_count}')\n",
    "print(f'Error: {diff}')"
   ]
  },
  {
   "cell_type": "code",
   "execution_count": null,
   "metadata": {},
   "outputs": [],
   "source": []
  }
 ],
 "metadata": {
  "kernelspec": {
   "display_name": "base",
   "language": "python",
   "name": "python3"
  },
  "language_info": {
   "codemirror_mode": {
    "name": "ipython",
    "version": 3
   },
   "file_extension": ".py",
   "mimetype": "text/x-python",
   "name": "python",
   "nbconvert_exporter": "python",
   "pygments_lexer": "ipython3",
   "version": "3.11.7"
  }
 },
 "nbformat": 4,
 "nbformat_minor": 2
}
