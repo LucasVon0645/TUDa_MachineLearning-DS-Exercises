{
 "cells": [
  {
   "cell_type": "code",
   "execution_count": 29,
   "metadata": {},
   "outputs": [],
   "source": [
    "import torch\n",
    "import torch.utils\n",
    "import torchvision\n",
    "import torchvision.transforms as transforms"
   ]
  },
  {
   "cell_type": "code",
   "execution_count": 30,
   "metadata": {},
   "outputs": [
    {
     "name": "stdout",
     "output_type": "stream",
     "text": [
      "Files already downloaded and verified\n",
      "Files already downloaded and verified\n"
     ]
    }
   ],
   "source": [
    "import torch.utils.data\n",
    "\n",
    "\n",
    "transform_compose = transforms.Compose([transforms.ToTensor(), transforms.Normalize((0.5, 0.5, 0.5), (0.5, 0.5, 0.5))])\n",
    "\n",
    "batch_size = 4\n",
    "\n",
    "train_set = torchvision.datasets.CIFAR10(root=\"./data\", train=True, download=True, transform=transform_compose)\n",
    "train_loader = torch.utils.data.DataLoader(train_set, batch_size=batch_size, shuffle=True, num_workers=2)\n",
    "\n",
    "test_set = torchvision.datasets.CIFAR10(root=\"./data\", train=False, download=True, transform=transform_compose)\n",
    "test_loader = torch.utils.data.DataLoader(test_set, batch_size=batch_size, shuffle=True, num_workers=2)\n",
    "\n",
    "classes = ('plane', 'car', 'bird', 'cat',\n",
    "           'deer', 'dog', 'frog', 'horse', 'ship', 'truck')"
   ]
  },
  {
   "cell_type": "code",
   "execution_count": 31,
   "metadata": {},
   "outputs": [
    {
     "data": {
      "image/png": "[encoded data removed]",
      "text/plain": [
       "<Figure size 640x480 with 1 Axes>"
      ]
     },
     "metadata": {},
     "output_type": "display_data"
    },
    {
     "name": "stdout",
     "output_type": "stream",
     "text": [
      "car   ship  frog  cat  \n"
     ]
    }
   ],
   "source": [
    "import matplotlib.pyplot as plt\n",
    "import numpy as np\n",
    "\n",
    "# img here is a tensor\n",
    "def imgshow(img):\n",
    "    img = img / 2 + 0.5\n",
    "    npimg = img.numpy()\n",
    "    plt.imshow(np.transpose(npimg, (1, 2, 0)))\n",
    "    plt.show()\n",
    "\n",
    "# get some random training images\n",
    "dataiter = iter(train_loader)\n",
    "images, labels = next(dataiter)\n",
    "\n",
    "# show images\n",
    "imgshow(torchvision.utils.make_grid(images))\n",
    "# print labels\n",
    "print(' '.join(f'{classes[labels[j]]:5s}' for j in range(batch_size)))"
   ]
  },
  {
   "cell_type": "code",
   "execution_count": 32,
   "metadata": {},
   "outputs": [],
   "source": [
    "from torch import nn\n",
    "\n",
    "class MyFirstNeuralNetwork(nn.Module):\n",
    "    def __init__(self):\n",
    "        super().__init__()\n",
    "        self.flatten = nn.Flatten()\n",
    "        self.linear_relu_stack = nn.Sequential(\n",
    "            nn.Linear(28*28, 512),\n",
    "            nn.ReLU(),\n",
    "            nn.Linear(512, 512),\n",
    "            nn.ReLU(),\n",
    "            nn.Linear(512, 10),\n",
    "        )\n",
    "    def forward(self, X):\n",
    "        X = self.flatten(X)\n",
    "        activations = self.linear_relu_stack(X)\n",
    "        return activations"
   ]
  },
  {
   "cell_type": "code",
   "execution_count": 33,
   "metadata": {},
   "outputs": [
    {
     "name": "stdout",
     "output_type": "stream",
     "text": [
      "MyFirstNeuralNetwork(\n",
      "  (flatten): Flatten(start_dim=1, end_dim=-1)\n",
      "  (linear_relu_stack): Sequential(\n",
      "    (0): Linear(in_features=784, out_features=512, bias=True)\n",
      "    (1): ReLU()\n",
      "    (2): Linear(in_features=512, out_features=512, bias=True)\n",
      "    (3): ReLU()\n",
      "    (4): Linear(in_features=512, out_features=10, bias=True)\n",
      "  )\n",
      ")\n"
     ]
    }
   ],
   "source": [
    "model = MyFirstNeuralNetwork()\n",
    "print(model)"
   ]
  },
  {
   "cell_type": "code",
   "execution_count": 34,
   "metadata": {},
   "outputs": [
    {
     "name": "stdout",
     "output_type": "stream",
     "text": [
      "Layer: linear_relu_stack.0.weight | Size: torch.Size([512, 784]) | Values: Parameter containing:\n",
      "tensor([[-0.0260,  0.0174,  0.0269,  ..., -0.0058,  0.0208, -0.0186],\n",
      "        [-0.0118, -0.0135,  0.0290,  ...,  0.0235,  0.0136, -0.0294],\n",
      "        [-0.0340,  0.0115,  0.0074,  ...,  0.0005,  0.0223,  0.0017],\n",
      "        ...,\n",
      "        [-0.0022,  0.0145, -0.0227,  ...,  0.0342,  0.0264, -0.0343],\n",
      "        [ 0.0350, -0.0250,  0.0146,  ...,  0.0248, -0.0303, -0.0278],\n",
      "        [ 0.0085, -0.0276,  0.0046,  ..., -0.0157, -0.0332,  0.0321]],\n",
      "       requires_grad=True)\n",
      "Layer: linear_relu_stack.0.bias | Size: torch.Size([512]) | Values: Parameter containing:\n",
      "tensor([-1.9271e-02,  5.7390e-03, -2.5112e-02,  8.3101e-03,  2.4403e-02,\n",
      "         1.5134e-02, -2.3676e-02,  1.8090e-03, -1.1521e-02,  2.7051e-02,\n",
      "         4.4083e-03,  3.4689e-02,  2.8101e-02, -4.4718e-03, -2.4400e-02,\n",
      "        -1.8295e-02,  1.5032e-03,  2.2382e-02, -2.8557e-02,  2.7588e-02,\n",
      "        -2.6700e-02, -3.4609e-02, -4.5438e-03,  3.2980e-02,  2.2093e-02,\n",
      "         2.9920e-02,  1.2948e-02, -3.2545e-02,  1.1426e-02,  3.3088e-02,\n",
      "        -1.1035e-02, -1.3834e-02, -3.3105e-03, -3.2926e-02, -3.0140e-02,\n",
      "        -9.7594e-03,  2.8862e-02,  2.4497e-02, -1.3844e-03, -1.9843e-02,\n",
      "         2.2086e-02, -2.4189e-02,  2.8394e-02,  1.6691e-02,  3.3872e-02,\n",
      "        -2.5767e-02, -3.4455e-03,  2.2989e-02,  1.4618e-02, -1.3517e-02,\n",
      "         8.9447e-03,  1.1234e-02,  2.2350e-02,  2.4955e-02,  1.4143e-02,\n",
      "        -4.3045e-03,  1.3588e-02, -2.7352e-02, -1.1472e-02, -2.2853e-02,\n",
      "         7.7558e-03, -1.3831e-02, -1.7990e-03,  1.2755e-02,  2.6741e-02,\n",
      "         2.3472e-02,  2.8477e-02, -3.2068e-03, -1.3232e-02,  1.2909e-03,\n",
      "        -1.6768e-02, -2.4930e-02,  9.2691e-03,  1.4037e-02, -3.5366e-02,\n",
      "        -1.6830e-02, -3.2095e-03, -1.0319e-02,  2.3577e-02, -7.6099e-04,\n",
      "        -1.6883e-02, -8.5980e-03, -1.8507e-02,  2.7365e-02, -3.1081e-02,\n",
      "        -4.0567e-03, -1.5222e-02, -2.7522e-02, -1.3308e-02, -3.4207e-02,\n",
      "        -3.4574e-02, -1.8774e-02,  1.9115e-02, -1.0565e-02,  2.0064e-02,\n",
      "        -1.2825e-02,  7.1070e-03, -2.6536e-02, -1.1075e-02, -8.2551e-03,\n",
      "         3.2530e-02,  1.9326e-02,  2.8460e-02, -1.1965e-02,  2.1887e-03,\n",
      "         2.0108e-02, -1.2110e-02, -2.6642e-02, -1.0001e-02, -2.2182e-02,\n",
      "         3.4564e-02,  7.1743e-03,  4.2025e-04,  2.6659e-02,  3.2942e-02,\n",
      "         9.8447e-03, -9.4808e-03,  1.1483e-02,  1.6122e-02, -1.5149e-02,\n",
      "         9.9441e-03,  1.5583e-02, -2.8191e-02,  3.0721e-02, -5.0837e-03,\n",
      "         3.5094e-02, -9.9897e-03,  2.3681e-02, -1.1871e-03, -1.3234e-02,\n",
      "         2.2611e-02,  1.2712e-02, -5.7342e-03, -2.2712e-02, -3.2568e-02,\n",
      "        -1.5604e-02,  2.3743e-02, -2.3659e-02,  2.8962e-02,  2.9320e-02,\n",
      "        -2.6387e-04, -2.9732e-02, -1.9082e-02, -3.0335e-02, -2.6796e-02,\n",
      "        -3.3639e-02,  3.4804e-02,  2.6304e-02, -3.3381e-02, -7.4270e-03,\n",
      "         1.5535e-03, -3.3589e-02, -2.6635e-03,  2.8454e-02,  7.4574e-03,\n",
      "         1.2437e-02, -1.4570e-02, -3.5711e-02,  1.5493e-03,  2.2381e-02,\n",
      "         4.7398e-03,  2.2740e-02,  1.1215e-02,  8.1426e-04, -3.3304e-02,\n",
      "         1.8399e-02, -1.7751e-02, -5.0049e-03, -2.0712e-02,  3.1167e-02,\n",
      "        -2.6608e-02, -1.3972e-02, -3.4798e-02, -1.3180e-02, -5.6239e-03,\n",
      "        -2.6575e-02,  3.2592e-02,  1.4865e-02,  3.4982e-02,  1.1314e-02,\n",
      "        -2.6058e-03, -1.8967e-02,  1.2365e-02,  3.5306e-02, -1.5455e-02,\n",
      "         3.1043e-02, -9.9579e-03, -1.5391e-02, -1.3092e-03,  5.3347e-04,\n",
      "        -3.5041e-02,  9.7702e-04,  3.0390e-02, -2.8202e-02,  5.3245e-03,\n",
      "        -3.4118e-02,  3.7862e-04, -3.4103e-02,  1.7820e-02, -1.1327e-02,\n",
      "         2.0950e-02,  2.0187e-02, -3.0413e-02,  3.7873e-03, -7.8863e-03,\n",
      "         2.9754e-02, -2.4909e-02,  1.2134e-02, -4.0223e-03, -3.5071e-02,\n",
      "         5.6126e-03, -2.0996e-02,  1.3840e-02, -3.0577e-02, -2.5085e-03,\n",
      "         5.9463e-03, -2.8274e-02, -1.3934e-02, -1.1412e-02, -2.5573e-02,\n",
      "        -2.1031e-02, -8.7114e-03, -2.3969e-02,  8.0239e-04, -2.7464e-02,\n",
      "        -6.1501e-03, -3.3502e-02,  2.1799e-02, -2.5953e-02, -1.4163e-02,\n",
      "         1.9457e-02,  2.7332e-02,  1.8762e-02, -9.2741e-03,  7.5195e-03,\n",
      "        -1.3970e-02,  1.5166e-03,  2.5602e-02, -1.0884e-02, -4.8354e-03,\n",
      "         1.3735e-02, -3.2854e-02, -2.9019e-02,  9.4309e-03,  1.8510e-02,\n",
      "        -1.6863e-02, -2.9596e-02,  1.2597e-02,  1.4758e-02, -1.9495e-02,\n",
      "         1.7008e-02,  3.1721e-02,  1.7056e-02, -2.4527e-02, -2.8525e-02,\n",
      "         2.3685e-02,  2.5064e-02,  2.1369e-02,  5.1201e-03, -3.0668e-02,\n",
      "         2.5635e-02, -1.5491e-02,  2.3972e-02,  1.2079e-02,  3.4743e-02,\n",
      "        -2.2937e-02, -1.4400e-02,  2.9091e-02, -2.9126e-03, -2.8580e-03,\n",
      "        -1.4248e-02, -2.4961e-02, -3.4993e-02, -4.2214e-03,  1.6655e-02,\n",
      "        -2.7153e-02, -1.0388e-03, -2.6443e-02, -9.2817e-03, -2.9242e-02,\n",
      "         3.1887e-02, -1.9159e-02,  9.4334e-03,  3.3160e-02, -1.3839e-04,\n",
      "        -3.3321e-02, -2.9270e-02,  1.8060e-02,  1.0561e-02,  5.6250e-03,\n",
      "        -1.7921e-02, -1.1173e-02, -9.5272e-03,  1.2847e-02, -1.8665e-02,\n",
      "        -3.5392e-02,  3.0283e-02,  5.9263e-03, -3.1423e-02,  1.8641e-02,\n",
      "         1.3283e-03,  1.1678e-02,  1.2866e-03, -1.9402e-02, -9.1817e-03,\n",
      "        -2.6416e-02,  9.4425e-03,  4.1868e-03,  1.4153e-02, -2.5985e-02,\n",
      "        -1.0246e-02, -2.3103e-02, -1.7417e-02, -2.8571e-02, -7.4315e-03,\n",
      "         5.6373e-03,  1.2870e-02,  3.2373e-02, -2.8779e-02, -3.3989e-02,\n",
      "         1.2596e-02,  1.5858e-02, -9.9822e-03,  1.7721e-02,  1.3854e-02,\n",
      "        -8.1733e-03, -2.3752e-02, -1.6589e-02,  3.4488e-03, -3.3589e-02,\n",
      "         3.4276e-02, -2.6640e-02, -1.6581e-02, -3.4370e-02, -1.7216e-02,\n",
      "        -1.3046e-02, -1.0726e-02, -3.1154e-02, -2.6512e-02, -1.4052e-02,\n",
      "        -3.0985e-02, -1.2859e-03,  9.0408e-03,  1.6362e-03, -1.1412e-02,\n",
      "        -3.0820e-02, -1.7011e-02,  2.6068e-03,  1.3675e-03, -2.0606e-02,\n",
      "         2.6910e-02, -3.1875e-02,  2.1871e-02, -3.1906e-02,  1.9312e-02,\n",
      "        -2.1552e-02, -2.2199e-02,  1.9089e-02,  1.0870e-03,  9.6711e-03,\n",
      "         3.0131e-04, -1.2685e-02, -1.0561e-02, -2.9818e-02, -2.5823e-02,\n",
      "         2.3073e-02,  1.6553e-02, -9.8132e-03, -4.1063e-03,  1.7160e-02,\n",
      "        -2.3871e-02,  2.8116e-02, -2.4295e-02,  7.9644e-03, -1.7486e-03,\n",
      "         3.2486e-02, -1.2342e-02,  5.1442e-03, -1.5818e-02,  2.0680e-02,\n",
      "         1.0780e-02, -9.3910e-03, -1.9867e-02, -3.4180e-03, -1.0392e-02,\n",
      "        -2.4880e-02,  1.6425e-02,  1.3983e-02, -4.1781e-03, -1.1600e-02,\n",
      "         3.6166e-03,  1.4525e-03, -4.6251e-03, -3.0138e-02,  2.5394e-02,\n",
      "        -2.7747e-02, -2.7873e-02, -1.9451e-02, -1.3790e-02,  3.1111e-02,\n",
      "         3.2351e-02,  1.7318e-02, -2.9496e-02,  2.4473e-02,  2.8455e-02,\n",
      "         7.4823e-03,  1.0830e-02, -3.3651e-02,  6.5016e-03, -6.6340e-03,\n",
      "        -3.3213e-02, -1.4600e-02,  2.0991e-03, -7.6082e-03, -1.7156e-02,\n",
      "        -1.1650e-02,  7.2864e-03,  1.2149e-02,  4.4278e-03,  1.2895e-02,\n",
      "         3.2944e-03, -1.7202e-02, -8.9776e-03,  1.7126e-02, -1.1458e-02,\n",
      "         5.0144e-03,  1.3582e-02, -2.2396e-02,  5.5738e-03,  4.9181e-03,\n",
      "         1.9851e-02,  2.0295e-02,  1.2054e-02,  2.9764e-02, -3.1089e-02,\n",
      "         1.5677e-02, -1.6100e-02, -4.9131e-03,  1.6390e-02, -1.6262e-03,\n",
      "        -2.4507e-02,  2.9348e-02, -3.2270e-02, -4.6373e-03, -6.1816e-03,\n",
      "        -2.0737e-02, -1.7272e-02, -2.6325e-02, -9.0040e-06, -5.0920e-03,\n",
      "        -3.3630e-02, -2.1412e-03, -1.9266e-03, -2.3631e-02,  1.8828e-02,\n",
      "        -1.5154e-02, -2.7074e-02,  2.4852e-02, -3.1941e-02, -1.6832e-02,\n",
      "        -1.6079e-02,  1.1032e-02, -9.7579e-03,  2.5196e-02, -1.7255e-02,\n",
      "         3.0047e-02,  2.4207e-02, -3.3623e-03, -2.4177e-02, -4.0700e-03,\n",
      "         2.6279e-02, -2.6765e-02,  1.7778e-02, -2.4233e-02,  2.9851e-02,\n",
      "        -3.4884e-02, -2.2363e-02, -8.3568e-03, -2.5331e-02,  2.4988e-02,\n",
      "        -1.2347e-02,  2.4678e-02,  1.0418e-02,  1.9043e-02,  3.2884e-04,\n",
      "         2.9594e-02, -1.6478e-03, -1.1359e-02, -1.8799e-02, -1.5937e-02,\n",
      "        -3.3357e-02,  2.0749e-02,  9.2899e-03, -3.2248e-02,  2.3749e-02,\n",
      "        -1.5648e-02,  1.3007e-02,  3.1083e-02,  2.1291e-02,  8.5774e-03,\n",
      "        -2.5980e-02,  1.0215e-02, -3.4780e-02,  1.5151e-02, -2.7942e-02,\n",
      "        -3.2885e-02, -1.2324e-02, -1.2538e-02, -1.0937e-02,  3.2295e-02,\n",
      "         1.7496e-02,  1.6437e-02], requires_grad=True)\n",
      "Layer: linear_relu_stack.2.weight | Size: torch.Size([512, 512]) | Values: Parameter containing:\n",
      "tensor([[-0.0168, -0.0192,  0.0320,  ...,  0.0329,  0.0125, -0.0337],\n",
      "        [-0.0284,  0.0226, -0.0144,  ..., -0.0137,  0.0396,  0.0337],\n",
      "        [-0.0060, -0.0375,  0.0060,  ..., -0.0424,  0.0281, -0.0330],\n",
      "        ...,\n",
      "        [ 0.0325,  0.0224,  0.0045,  ...,  0.0029,  0.0407, -0.0065],\n",
      "        [ 0.0143, -0.0123, -0.0137,  ...,  0.0251,  0.0410,  0.0156],\n",
      "        [-0.0134, -0.0390, -0.0004,  ...,  0.0404, -0.0288, -0.0093]],\n",
      "       requires_grad=True)\n",
      "Layer: linear_relu_stack.2.bias | Size: torch.Size([512]) | Values: Parameter containing:\n",
      "tensor([-1.4697e-02, -9.2929e-03,  1.1687e-02, -2.3849e-02, -3.1937e-02,\n",
      "         4.0248e-02, -4.1831e-02, -5.0547e-03, -6.4213e-03, -1.0541e-02,\n",
      "         2.6183e-02,  4.0903e-02,  4.4177e-02, -4.3971e-02,  3.7125e-03,\n",
      "        -3.3546e-02, -3.0516e-02, -1.4377e-02,  2.5032e-03, -1.8650e-02,\n",
      "        -1.7811e-02,  3.5286e-02, -1.7450e-02, -4.2837e-02,  2.0101e-02,\n",
      "        -1.2898e-02, -1.3921e-02,  3.3065e-02,  3.3750e-02, -2.5548e-02,\n",
      "        -1.1417e-03, -1.5283e-02,  2.3658e-02,  2.1596e-02, -4.0845e-02,\n",
      "        -3.2571e-02, -3.3824e-02, -2.8315e-02, -2.7168e-02,  1.8465e-02,\n",
      "        -1.6011e-02, -5.3341e-03,  2.2888e-02,  1.1212e-02,  5.0166e-03,\n",
      "         1.6620e-03,  4.0921e-03,  1.8379e-02, -3.8421e-02,  7.6001e-03,\n",
      "        -6.5457e-03,  3.7048e-02, -2.4080e-02,  2.1371e-02, -3.8736e-02,\n",
      "         5.6293e-03,  3.8062e-02,  4.0458e-02, -5.0684e-03,  3.0074e-02,\n",
      "         1.4798e-02, -3.8152e-02, -1.1938e-02, -4.7478e-03, -2.7654e-02,\n",
      "         1.2621e-02, -1.4351e-03, -3.6636e-02, -3.5031e-02,  2.5856e-02,\n",
      "        -6.7798e-03, -3.9276e-02,  2.7311e-02,  2.8056e-02, -3.2406e-02,\n",
      "         2.1949e-03,  2.0322e-03,  2.5835e-02, -4.2656e-02,  1.7822e-03,\n",
      "        -4.1384e-02,  3.3030e-02,  3.4004e-02,  1.6780e-02, -4.4118e-02,\n",
      "         8.1814e-03,  1.3651e-02, -1.3247e-02,  1.0675e-02, -3.4163e-02,\n",
      "        -1.6203e-02, -3.1434e-02,  1.9479e-02,  3.2059e-02,  2.2174e-02,\n",
      "        -3.5091e-02, -2.4820e-02,  2.2465e-02,  8.9235e-03, -4.1699e-02,\n",
      "         2.1295e-02,  1.4851e-02, -2.6461e-02, -1.0645e-02,  9.3159e-03,\n",
      "        -6.8397e-03, -1.5669e-02,  1.9693e-02, -1.2357e-02, -3.4127e-02,\n",
      "         2.2884e-02, -7.7173e-03,  4.2250e-02, -3.1525e-02, -3.6224e-03,\n",
      "        -1.5650e-02,  1.6086e-02,  1.4270e-02, -3.8126e-02, -2.4120e-02,\n",
      "        -3.3551e-02, -3.3001e-02,  3.1643e-02,  1.1824e-02,  4.2832e-02,\n",
      "        -2.8043e-02, -6.8704e-03,  1.6262e-02, -2.2775e-02, -3.0812e-02,\n",
      "        -1.9121e-02,  2.7094e-02, -4.1881e-02,  1.1290e-02, -2.8162e-02,\n",
      "        -7.4575e-03, -2.9311e-02, -3.2364e-02, -3.3104e-02,  2.2283e-02,\n",
      "         1.4740e-02, -1.8745e-02, -2.3728e-02, -2.1757e-02,  1.8591e-02,\n",
      "        -6.2374e-03, -1.7633e-03, -2.2319e-02, -3.0095e-02, -3.0711e-02,\n",
      "         1.6408e-02,  4.0329e-03, -2.0418e-02, -3.6723e-02,  3.8036e-02,\n",
      "         2.2647e-02, -3.9475e-02,  2.2774e-02,  3.6558e-03,  3.8607e-02,\n",
      "         1.4847e-02,  1.7775e-02, -1.9743e-02,  3.8253e-02,  1.7081e-02,\n",
      "         9.0038e-03,  1.6561e-02, -6.8733e-03, -3.4006e-02, -3.0504e-02,\n",
      "        -1.8419e-02,  2.4519e-02, -4.0623e-02, -3.0295e-02, -3.9356e-02,\n",
      "         8.1790e-03,  2.7248e-02, -1.0841e-02, -2.3584e-02,  1.1718e-03,\n",
      "        -1.5681e-02, -3.6546e-02,  3.9811e-03, -1.9818e-02, -9.0659e-03,\n",
      "        -2.1298e-02,  2.8488e-02, -3.5247e-02, -3.6636e-02, -2.2684e-02,\n",
      "         2.7172e-02,  2.2343e-02,  2.7611e-03, -2.9441e-02, -2.8738e-02,\n",
      "        -8.0513e-03,  3.5240e-03,  3.2701e-02, -4.2117e-02,  3.0747e-02,\n",
      "         3.6417e-02,  1.2763e-02, -2.1492e-02,  2.3288e-02,  1.0289e-02,\n",
      "         2.1279e-03, -3.4862e-02, -2.4272e-02, -2.8719e-02, -3.3552e-02,\n",
      "        -1.1801e-03,  4.1813e-02,  3.3389e-02, -3.6542e-02, -3.3747e-02,\n",
      "         2.4576e-02,  4.3266e-02,  3.8571e-02, -3.6639e-02, -1.6034e-02,\n",
      "         2.6629e-02,  1.1819e-02,  2.9390e-02,  3.3646e-03, -2.3952e-02,\n",
      "        -3.2279e-02, -1.4268e-02, -1.0318e-02, -4.3065e-02, -4.0666e-02,\n",
      "        -2.2928e-02,  1.2319e-02, -3.1921e-02,  1.2171e-02, -3.1746e-02,\n",
      "         3.2459e-03, -3.5786e-02, -4.9900e-03, -2.1556e-02, -4.3332e-02,\n",
      "        -4.4553e-03,  3.6393e-02, -4.1583e-03, -2.5709e-02,  4.0473e-02,\n",
      "         3.3555e-02, -1.8121e-02,  1.0483e-02,  1.8679e-02,  2.3211e-02,\n",
      "        -1.6175e-02, -8.4410e-03, -4.0257e-03, -1.7340e-02,  4.0367e-03,\n",
      "        -2.4923e-02,  3.4506e-02,  2.3004e-02,  3.2041e-02, -2.6875e-02,\n",
      "        -1.2161e-02, -2.9239e-02, -1.7117e-02,  1.3320e-02,  5.6436e-03,\n",
      "         4.1470e-02, -1.4611e-02, -2.5851e-02, -2.9085e-02, -2.3890e-02,\n",
      "         3.9569e-02, -3.0258e-02,  1.7498e-02,  1.1221e-02,  2.8438e-02,\n",
      "         7.6219e-03, -1.2785e-02,  2.9242e-02,  2.9273e-02,  3.9212e-02,\n",
      "         1.4274e-02, -4.3799e-02,  1.3948e-02, -3.0259e-02, -2.4005e-03,\n",
      "         1.4401e-02, -1.6172e-02,  1.5256e-03, -8.7544e-03, -8.8953e-03,\n",
      "        -2.4637e-02, -4.2043e-03, -3.9211e-02,  3.6579e-02,  2.9131e-02,\n",
      "        -3.2697e-02, -3.7596e-02,  1.5102e-02,  1.3071e-02,  1.1556e-02,\n",
      "        -1.5014e-02,  1.7529e-02, -3.0826e-02, -1.8238e-02,  5.1901e-03,\n",
      "         3.8297e-02,  4.3272e-02, -4.3646e-02,  2.6111e-03, -1.1745e-02,\n",
      "         1.6064e-02,  2.2498e-02, -3.4746e-02, -2.6560e-02,  2.6987e-02,\n",
      "         2.7835e-02, -1.5031e-02, -1.4466e-02, -1.5371e-02, -2.0133e-02,\n",
      "        -1.7161e-02,  7.5935e-03,  3.4345e-02,  3.9574e-02, -6.4106e-04,\n",
      "         4.0836e-02,  3.9461e-03, -4.1649e-03, -1.4292e-03, -3.0172e-02,\n",
      "        -1.2825e-02, -3.7954e-02, -1.0948e-02, -5.2581e-04, -2.4713e-02,\n",
      "        -2.3492e-02, -2.8494e-02,  1.3097e-02, -1.8228e-02,  2.4851e-02,\n",
      "        -3.9593e-02, -1.9665e-02,  1.5133e-02, -3.5643e-02,  9.9374e-03,\n",
      "         3.2359e-02,  4.2622e-02, -8.2241e-04, -3.9267e-02, -1.4267e-03,\n",
      "        -2.2583e-02, -2.5522e-02, -3.5324e-02, -3.2744e-02, -1.6678e-03,\n",
      "        -3.3376e-02,  1.5273e-02,  3.0082e-02,  3.6542e-02, -3.1929e-02,\n",
      "         3.9383e-02, -6.6630e-03,  1.8117e-02,  3.4339e-02, -2.0649e-02,\n",
      "         3.6573e-02, -1.5427e-02,  2.6299e-02,  2.4284e-02, -1.6370e-02,\n",
      "        -7.4980e-03, -1.6209e-02,  2.5441e-02, -2.7004e-02,  2.2977e-02,\n",
      "         4.2347e-02,  9.0617e-03,  2.4459e-02, -1.5168e-02,  4.1863e-03,\n",
      "         1.2934e-02,  3.8016e-02,  2.9959e-02, -3.9075e-02,  4.9988e-04,\n",
      "        -1.7883e-02, -1.5894e-02, -2.3693e-02, -1.9682e-02,  4.1324e-02,\n",
      "        -1.9078e-02,  4.3149e-02,  3.7515e-02, -1.6898e-02,  2.5941e-02,\n",
      "         3.1006e-02,  5.8677e-03,  2.1243e-02, -3.1462e-02, -2.0618e-02,\n",
      "        -4.3279e-02, -1.0326e-02, -5.6847e-03, -6.0846e-03, -1.8359e-02,\n",
      "        -3.1238e-02, -2.5485e-02,  1.8227e-03, -2.4736e-05,  2.7722e-02,\n",
      "        -8.4092e-03, -1.9406e-02, -1.3349e-02,  3.8652e-02,  8.9444e-03,\n",
      "        -3.0912e-02, -3.7520e-02, -2.0804e-02,  4.0419e-03,  2.0790e-03,\n",
      "        -1.5732e-02, -2.1115e-02,  8.3453e-03, -5.6224e-03,  2.3526e-02,\n",
      "         1.4778e-02, -3.1993e-02,  5.1223e-05, -5.8633e-03, -6.1917e-03,\n",
      "        -4.7016e-03,  2.6618e-02,  1.4871e-02,  8.9217e-03, -9.9305e-03,\n",
      "         2.0186e-02,  5.5406e-03, -3.8505e-02, -3.6782e-02, -3.8623e-02,\n",
      "        -3.8594e-02,  1.6466e-02,  4.1953e-02,  1.8675e-02,  1.0416e-02,\n",
      "         3.6867e-02, -1.9989e-02,  3.7524e-02, -6.2443e-03, -3.0896e-02,\n",
      "        -4.1430e-02, -3.2534e-02, -1.3835e-02,  3.1052e-02, -2.3182e-02,\n",
      "        -4.2724e-02, -4.1000e-02,  3.3497e-02,  4.1998e-02,  4.4193e-02,\n",
      "        -2.1557e-02,  1.8406e-02, -2.9898e-02,  9.2101e-03, -2.4714e-02,\n",
      "         3.5140e-02, -4.3696e-02, -6.1178e-03, -4.3209e-03, -2.3739e-02,\n",
      "         1.4929e-02, -2.3928e-02,  2.6234e-03,  4.0224e-02,  3.6559e-02,\n",
      "        -1.9161e-02, -1.7399e-02,  9.6735e-03,  4.1524e-02, -5.2616e-03,\n",
      "         2.9132e-02, -3.0248e-02,  3.5395e-02, -2.5500e-02, -3.8364e-02,\n",
      "        -3.2934e-02, -3.9890e-02, -4.3095e-02,  4.3974e-02,  1.8358e-02,\n",
      "        -3.1880e-02, -3.3605e-02, -1.4129e-02,  1.3254e-02, -9.9167e-03,\n",
      "         2.2596e-03, -4.6386e-03,  1.0452e-02, -4.9299e-03, -1.8341e-02,\n",
      "        -3.5861e-02, -3.1583e-02,  2.0944e-03, -2.3412e-02,  2.3566e-02,\n",
      "         3.6319e-02, -6.5915e-03,  3.8856e-02,  9.5905e-03, -1.3851e-03,\n",
      "         3.0748e-02,  4.1977e-03], requires_grad=True)\n",
      "Layer: linear_relu_stack.4.weight | Size: torch.Size([10, 512]) | Values: Parameter containing:\n",
      "tensor([[-0.0215, -0.0304,  0.0341,  ...,  0.0438,  0.0385, -0.0408],\n",
      "        [-0.0420, -0.0166,  0.0186,  ...,  0.0183,  0.0315,  0.0290],\n",
      "        [ 0.0189, -0.0271, -0.0114,  ...,  0.0277, -0.0243,  0.0438],\n",
      "        ...,\n",
      "        [-0.0251, -0.0150,  0.0203,  ...,  0.0380,  0.0065,  0.0040],\n",
      "        [-0.0326, -0.0113, -0.0152,  ..., -0.0139, -0.0318, -0.0392],\n",
      "        [-0.0416, -0.0047,  0.0154,  ..., -0.0029, -0.0357, -0.0048]],\n",
      "       requires_grad=True)\n",
      "Layer: linear_relu_stack.4.bias | Size: torch.Size([10]) | Values: Parameter containing:\n",
      "tensor([-0.0149,  0.0401,  0.0309, -0.0333,  0.0322,  0.0169, -0.0403, -0.0242,\n",
      "        -0.0287,  0.0402], requires_grad=True)\n"
     ]
    }
   ],
   "source": [
    "for name, param in model.named_parameters():\n",
    "    print(f\"Layer: {name} | Size: {param.size()} | Values: {param}\")"
   ]
  },
  {
   "cell_type": "code",
   "execution_count": 35,
   "metadata": {},
   "outputs": [],
   "source": [
    "class MyFirstCCN(nn.Module):\n",
    "    def __init__(self):\n",
    "        super().__init__()\n",
    "        self.flatten = nn.Flatten()\n",
    "        self.conv_layers = nn.Sequential(\n",
    "            # Conv Layer 1\n",
    "            nn.Conv2d(3, 6, 5),\n",
    "            nn.ReLU(),\n",
    "            nn.MaxPool2d(2,2),\n",
    "            \n",
    "            # Conv. Layer 2\n",
    "            nn.Conv2d(6, 16, 5),\n",
    "            nn.ReLU(),\n",
    "            nn.MaxPool2d(2,2),\n",
    "        )\n",
    "        self.fc_layers = nn.Sequential(\n",
    "            nn.Linear(16 * 5 * 5, 120),\n",
    "            nn.ReLU(),\n",
    "            nn.Linear(120, 84),\n",
    "            nn.ReLU(),\n",
    "            nn.Linear(84, 10),\n",
    "            nn.ReLU(),\n",
    "        )\n",
    "    \n",
    "    def forward(self, x):\n",
    "        x = self.conv_layers(x)\n",
    "        x = self.flatten(x)\n",
    "        x = self.fc_layers(x)\n",
    "        return x"
   ]
  },
  {
   "cell_type": "code",
   "execution_count": 36,
   "metadata": {},
   "outputs": [
    {
     "name": "stdout",
     "output_type": "stream",
     "text": [
      "MyFirstCCN(\n",
      "  (flatten): Flatten(start_dim=1, end_dim=-1)\n",
      "  (conv_layers): Sequential(\n",
      "    (0): Conv2d(3, 6, kernel_size=(5, 5), stride=(1, 1))\n",
      "    (1): ReLU()\n",
      "    (2): MaxPool2d(kernel_size=2, stride=2, padding=0, dilation=1, ceil_mode=False)\n",
      "    (3): Conv2d(6, 16, kernel_size=(5, 5), stride=(1, 1))\n",
      "    (4): ReLU()\n",
      "    (5): MaxPool2d(kernel_size=2, stride=2, padding=0, dilation=1, ceil_mode=False)\n",
      "  )\n",
      "  (fc_layers): Sequential(\n",
      "    (0): Linear(in_features=400, out_features=120, bias=True)\n",
      "    (1): ReLU()\n",
      "    (2): Linear(in_features=120, out_features=84, bias=True)\n",
      "    (3): ReLU()\n",
      "    (4): Linear(in_features=84, out_features=10, bias=True)\n",
      "    (5): ReLU()\n",
      "  )\n",
      ")\n"
     ]
    }
   ],
   "source": [
    "cnn_model = MyFirstCCN()\n",
    "print(cnn_model)"
   ]
  },
  {
   "cell_type": "code",
   "execution_count": 37,
   "metadata": {},
   "outputs": [],
   "source": [
    "import torch.optim as optim\n",
    "\n",
    "criterion = nn.CrossEntropyLoss()\n",
    "optimizer = optim.SGD(cnn_model.parameters(), lr=0.001, momentum=0.9)"
   ]
  },
  {
   "cell_type": "code",
   "execution_count": 38,
   "metadata": {},
   "outputs": [
    {
     "name": "stdout",
     "output_type": "stream",
     "text": [
      "[1,  2000] loss: 2.261\n",
      "[1,  4000] loss: 2.072\n",
      "[1,  6000] loss: 1.786\n",
      "[1,  8000] loss: 1.630\n",
      "[1, 10000] loss: 1.532\n",
      "[1, 12000] loss: 1.491\n",
      "[2,  2000] loss: 1.427\n",
      "[2,  4000] loss: 1.410\n",
      "[2,  6000] loss: 1.371\n",
      "[2,  8000] loss: 1.352\n",
      "[2, 10000] loss: 1.325\n",
      "[2, 12000] loss: 1.311\n",
      "[3,  2000] loss: 1.256\n",
      "[3,  4000] loss: 1.239\n",
      "[3,  6000] loss: 1.215\n",
      "[3,  8000] loss: 1.206\n",
      "[3, 10000] loss: 1.210\n",
      "[3, 12000] loss: 1.213\n",
      "Finished Training\n"
     ]
    }
   ],
   "source": [
    "for epoch in range(3):  # loop over the dataset multiple times\n",
    "\n",
    "    running_loss = 0.0\n",
    "    for i, data in enumerate(train_loader, 0):\n",
    "        # get the inputs; data is a list of [inputs, labels]\n",
    "        inputs, labels = data\n",
    "\n",
    "        # zero the parameter gradients\n",
    "        optimizer.zero_grad()\n",
    "\n",
    "        # forward + backward + optimize\n",
    "        outputs = cnn_model(inputs)\n",
    "        loss = criterion(outputs, labels)\n",
    "        loss.backward()\n",
    "        optimizer.step()\n",
    "\n",
    "        # print statistics\n",
    "        running_loss += loss.item()\n",
    "        if i % 2000 == 1999:    # print every 2000 mini-batches\n",
    "            print(f'[{epoch + 1}, {i + 1:5d}] loss: {running_loss / 2000:.3f}')\n",
    "            running_loss = 0.0\n",
    "\n",
    "print('Finished Training')"
   ]
  },
  {
   "cell_type": "code",
   "execution_count": 39,
   "metadata": {},
   "outputs": [],
   "source": [
    "PATH = \"./cifar_net.pth\"\n",
    "\n",
    "torch.save(cnn_model.state_dict(), PATH)"
   ]
  },
  {
   "cell_type": "code",
   "execution_count": 40,
   "metadata": {},
   "outputs": [
    {
     "data": {
      "image/png": "[encoded data removed]",
      "text/plain": [
       "<Figure size 640x480 with 1 Axes>"
      ]
     },
     "metadata": {},
     "output_type": "display_data"
    },
    {
     "name": "stdout",
     "output_type": "stream",
     "text": [
      "True Labels:  ['car', 'bird', 'plane', 'frog']\n"
     ]
    }
   ],
   "source": [
    "data_iter = iter(test_loader)\n",
    "images, labels = next(data_iter)\n",
    "\n",
    "imgshow(torchvision.utils.make_grid(images))\n",
    "\n",
    "true_labels = list(map(lambda label_num: classes[label_num], labels))\n",
    "\n",
    "print(\"True Labels: \", true_labels)\n"
   ]
  },
  {
   "cell_type": "code",
   "execution_count": 41,
   "metadata": {},
   "outputs": [
    {
     "data": {
      "text/plain": [
       "<All keys matched successfully>"
      ]
     },
     "execution_count": 41,
     "metadata": {},
     "output_type": "execute_result"
    }
   ],
   "source": [
    "trained_model = MyFirstCCN()\n",
    "trained_model.load_state_dict(torch.load(PATH, weights_only=True))"
   ]
  },
  {
   "cell_type": "code",
   "execution_count": 42,
   "metadata": {},
   "outputs": [],
   "source": [
    "outputs = trained_model(images)"
   ]
  },
  {
   "cell_type": "code",
   "execution_count": 43,
   "metadata": {},
   "outputs": [
    {
     "name": "stdout",
     "output_type": "stream",
     "text": [
      "tensor([[2.0770, 1.5032, 0.8363, 1.1451, 1.0067, 0.5625, 0.0000, 1.0634, 2.7832,\n",
      "         1.2912],\n",
      "        [2.8249, 0.7176, 2.5714, 0.9192, 2.3858, 0.0000, 0.0780, 1.1380, 1.5454,\n",
      "         0.8747],\n",
      "        [5.2545, 1.6173, 2.1660, 0.6066, 1.7018, 0.0000, 0.6789, 0.4431, 3.3437,\n",
      "         1.9030],\n",
      "        [0.9834, 4.2332, 1.4341, 2.2846, 1.1272, 0.7087, 4.3497, 0.0000, 1.9577,\n",
      "         3.4861]], grad_fn=<ReluBackward0>)\n"
     ]
    }
   ],
   "source": [
    "print(outputs)"
   ]
  },
  {
   "cell_type": "code",
   "execution_count": 44,
   "metadata": {},
   "outputs": [
    {
     "data": {
      "text/plain": [
       "torch.return_types.max(\n",
       "values=tensor([2.7832, 2.8249, 5.2545, 4.3497], grad_fn=<MaxBackward0>),\n",
       "indices=tensor([8, 0, 0, 6]))"
      ]
     },
     "execution_count": 44,
     "metadata": {},
     "output_type": "execute_result"
    }
   ],
   "source": [
    "torch.max(outputs, 1)"
   ]
  },
  {
   "cell_type": "code",
   "execution_count": 45,
   "metadata": {},
   "outputs": [
    {
     "name": "stdout",
     "output_type": "stream",
     "text": [
      "Predicted Labels:  ['ship', 'plane', 'plane', 'frog']\n"
     ]
    }
   ],
   "source": [
    "\n",
    "_ , pred_labels = torch.max(outputs, 1)\n",
    "\n",
    "pred_labels_lst = [classes[i] for i in pred_labels]\n",
    "\n",
    "print(\"Predicted Labels: \", pred_labels_lst)"
   ]
  },
  {
   "cell_type": "code",
   "execution_count": 46,
   "metadata": {},
   "outputs": [
    {
     "name": "stdout",
     "output_type": "stream",
     "text": [
      "Accuracy of the network on the 10000 test images: 57 %\n"
     ]
    }
   ],
   "source": [
    "with torch.no_grad():\n",
    "    total = correct = 0\n",
    "    for data in test_loader:\n",
    "        images, labels = data\n",
    "        outputs = trained_model(images)\n",
    "        _, pred_labels = torch.max(outputs, 1)\n",
    "        total += labels.size(0)\n",
    "        correct += (pred_labels == labels).sum().item()\n",
    "\n",
    "print(f'Accuracy of the network on the 10000 test images: {100 * correct // total} %')"
   ]
  }
 ],
 "metadata": {
  "kernelspec": {
   "display_name": "torch_env",
   "language": "python",
   "name": "python3"
  },
  "language_info": {
   "codemirror_mode": {
    "name": "ipython",
    "version": 3
   },
   "file_extension": ".py",
   "mimetype": "text/x-python",
   "name": "python",
   "nbconvert_exporter": "python",
   "pygments_lexer": "ipython3",
   "version": "3.11.5"
  }
 },
 "nbformat": 4,
 "nbformat_minor": 2
}
