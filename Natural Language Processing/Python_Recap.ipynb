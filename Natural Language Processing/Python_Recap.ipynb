{
  "cells": [
    {
      "cell_type": "markdown",
      "metadata": {
        "id": "QR0Pc330kDDj"
      },
      "source": [
        "# Python"
      ]
    },
    {
      "cell_type": "markdown",
      "metadata": {
        "id": "3aIX9rVtkDDj"
      },
      "source": [
        "This notebook contains relevant information about Python that will be helpful during the whole class.\n",
        "\n",
        "## Jupyter is a Python shell divided in cells\n",
        "\n",
        "\n",
        "This cell is a *Markdown* cell (for texts like notes, manuals, etc.)\n",
        "You can edit this cell with a double click. `Ctrl + Enter` executes the cell, i.e. annotations for headlines, bullet lists and the like will be evaluated and the formatted result will be shown.\n",
        "\n",
        "The cell following the **\"Hello World!\"** headline is a *Code* cell\n",
        "It consists of an input `In [ ]` and an output.\n",
        "The execution of the entered code is started with `Ctrl + Enter`, just like the Markdown cell type.\n",
        "\n",
        "If the square brackets of the input cell are empty, the cell has not been executed yet.\n",
        "A star (`In [*]`) shows that the code of the cell is currently running.\n",
        "After the computation finished, the star is replaced with a number (e.g. `In [5]`) and the output (if any is produced) appears directly below the cell.\n",
        "\n",
        "The cells can be executed multiple times and in any order. The actual program flow is thus not defined by the cell order but by the numbers in the square brackets."
      ]
    },
    {
      "cell_type": "markdown",
      "metadata": {
        "id": "YSZf1UyN1I6R"
      },
      "source": [
        "# Basics"
      ]
    },
    {
      "cell_type": "markdown",
      "metadata": {
        "id": "-rikYAsckDDk"
      },
      "source": [
        "As usual, first thing we need is a hello world!\n",
        "\n",
        "### Hello world!"
      ]
    },
    {
      "cell_type": "code",
      "execution_count": null,
      "metadata": {
        "colab": {
          "base_uri": "https://localhost:8080/"
        },
        "id": "S801nsPwkDDk",
        "outputId": "3d8f265b-f049-4de9-945c-c902a10fd24c"
      },
      "outputs": [
        {
          "name": "stdout",
          "output_type": "stream",
          "text": [
            "hello world!\n"
          ]
        }
      ],
      "source": [
        "print(\"hello world!\")"
      ]
    },
    {
      "cell_type": "markdown",
      "metadata": {
        "id": "vYbO5QIkkDDk"
      },
      "source": [
        "What can we see from this first Python code line?\n",
        "\n",
        "- `print` is a key word in Python\n",
        "- strings can be defined just by using quotes\n",
        "- we don't need to create any main or any class to run code in Python"
      ]
    },
    {
      "cell_type": "markdown",
      "metadata": {
        "id": "DplMrGxPkDDl"
      },
      "source": [
        "### Here is a list of Python key words"
      ]
    },
    {
      "cell_type": "markdown",
      "metadata": {
        "id": "rFufV_iZkDDl"
      },
      "source": [
        "|   |   |   |   |   |\n",
        "|:---|:---|:---|:---|:---|\n",
        "|`and`|`as`|`assert`|`break`\n",
        "|`class`|`continue`|`def`|`del`  \n",
        "|`elif`|`else`|`except`|`exec`\n",
        "|`finally`|`for`|`from`|`global`\n",
        "|`if`|`import`|`in`|` is`\n",
        "|`lambda`|`not`|`or`|` pass`\n",
        "|`print`|`raise`|`return`|`try`\n",
        "|`while`|`with`|`yield`\n",
        "\n",
        "Taken from [Lean Python](http://file.allitebooks.com/20161117/Lean%20Python.pdf)"
      ]
    },
    {
      "cell_type": "markdown",
      "metadata": {
        "id": "fjsV67VmkDDl"
      },
      "source": [
        "### Defining variables:"
      ]
    },
    {
      "cell_type": "markdown",
      "metadata": {
        "id": "i2ddJbcTkDDl"
      },
      "source": [
        "In python you do not need to declare the type of the variable. The interpreter will infer them dynamically.\n",
        "In Python you can find the type out using `type()`. Defining variables is just as easy as using `=`. All variables have a type analogue to Java or any other programming language."
      ]
    },
    {
      "cell_type": "code",
      "execution_count": null,
      "metadata": {
        "id": "Jawfjua4kDDl"
      },
      "outputs": [],
      "source": [
        "a = 4   # I'm an integer\n",
        "b = 5.2 # I'm a float"
      ]
    },
    {
      "cell_type": "code",
      "execution_count": null,
      "metadata": {
        "colab": {
          "base_uri": "https://localhost:8080/"
        },
        "id": "gVS4B4b3kDDm",
        "outputId": "fdd2654e-7ef0-4683-b859-6cce5abeec37"
      },
      "outputs": [
        {
          "name": "stdout",
          "output_type": "stream",
          "text": [
            "3\n"
          ]
        }
      ],
      "source": [
        "variable = \"I'm a variable\" # This is a string\n",
        "\n",
        "c, d, e = 1, 2, 3 # this is the same as saying c = 1, d =  2, e = 3\n",
        "\n",
        "print(e)"
      ]
    },
    {
      "cell_type": "markdown",
      "metadata": {
        "id": "JvTNHbcSMqIp"
      },
      "source": [
        "#### TASK1: type of variables"
      ]
    },
    {
      "cell_type": "code",
      "execution_count": null,
      "metadata": {
        "colab": {
          "base_uri": "https://localhost:8080/"
        },
        "id": "2k2DsKVlkDDm",
        "outputId": "e2c1f189-18b2-4334-eb2e-72f13986f67d"
      },
      "outputs": [
        {
          "name": "stdout",
          "output_type": "stream",
          "text": [
            "<class 'int'> <class 'float'>\n"
          ]
        }
      ],
      "source": [
        "# Now it's your turn to find out, what is the type of variable, a and b\n",
        "type_a = None\n",
        "type_b = None\n",
        "## YOUR_CODE_STARTS_HERE\n",
        "type_a, type_b = type(a), type(b)\n",
        "## YOUR_CODE_ENDS_HERE\n",
        "## RESULT_CHECKING_POINT (result should be <class 'int'> <class 'float'>)\n",
        "print(type_a, type_b)"
      ]
    },
    {
      "cell_type": "markdown",
      "metadata": {
        "id": "UZPUTMhCkDDm"
      },
      "source": [
        "What about math opperations, what type should come out of summing __a__ and __b__"
      ]
    },
    {
      "cell_type": "code",
      "execution_count": null,
      "metadata": {
        "colab": {
          "base_uri": "https://localhost:8080/"
        },
        "id": "pxLv5SRzkDDm",
        "outputId": "e1535a54-0d2b-4a34-88ed-8e90d45cd7c7"
      },
      "outputs": [
        {
          "name": "stdout",
          "output_type": "stream",
          "text": [
            "9.2\n"
          ]
        }
      ],
      "source": [
        "# let's try it out!\n",
        "\n",
        "print(a + b) # Mixing integer and float numbers results in float type"
      ]
    },
    {
      "cell_type": "markdown",
      "metadata": {
        "id": "h_XKYWrKkDDm"
      },
      "source": [
        "#### TASK2: What about substraction and so on?"
      ]
    },
    {
      "cell_type": "code",
      "execution_count": null,
      "metadata": {
        "colab": {
          "base_uri": "https://localhost:8080/"
        },
        "id": "VpQo8F0LkDDm",
        "outputId": "66173ae6-9ace-4c8f-8bb2-2f16aa0fbfe4"
      },
      "outputs": [
        {
          "name": "stdout",
          "output_type": "stream",
          "text": [
            "-1.2000000000000002 20.8 0.7692307692307692 2\n"
          ]
        }
      ],
      "source": [
        "# It's your turn to compute these :)\n",
        "sub_a_b = None\n",
        "mul_a_b = None\n",
        "div_a_b = None\n",
        "mod_d_e = None\n",
        "\n",
        "# substraction\n",
        "## YOUR_CODE_STARTS_HERE\n",
        "sub_a_b = a - b\n",
        "mul_a_b = a * b\n",
        "div_a_b = a / b\n",
        "mod_d_e = d % e\n",
        "## YOUR_CODE_ENDS_HERE\n",
        "## RESULT_CHECKING_POINT (result should be -1.2000000000000002 20.8 0.7692307692307692 2)\n",
        "print(sub_a_b, mul_a_b, div_a_b, mod_d_e)"
      ]
    },
    {
      "cell_type": "markdown",
      "metadata": {
        "id": "EBJ8L04fkDDm"
      },
      "source": [
        "__Question__: What is the resulting type of a multiplication and what is the resulting type of a division? Are the results always of the same type?"
      ]
    },
    {
      "cell_type": "markdown",
      "metadata": {
        "id": "9VNhd-24kDDm"
      },
      "source": [
        "### Blocks"
      ]
    },
    {
      "cell_type": "markdown",
      "metadata": {
        "id": "FDifO-AtkDDm"
      },
      "source": [
        "In Python each statement is defined in a line. Sometimes, you can use a semicolon (;) to define several statement in a line.\n",
        "\n",
        "Other programming languages have { ... } to define a block, in Python we have **identation** and colon (:) in order to open the block.\n"
      ]
    },
    {
      "cell_type": "code",
      "execution_count": null,
      "metadata": {
        "colab": {
          "base_uri": "https://localhost:8080/"
        },
        "id": "MTxAwJOUkDDm",
        "outputId": "a953035d-de7c-4baa-e022-d14e4f1944bd"
      },
      "outputs": [
        {
          "name": "stdout",
          "output_type": "stream",
          "text": [
            "x is equal to 5\n",
            "end of the if\n"
          ]
        }
      ],
      "source": [
        "# if-statement - what will be the output?\n",
        "\n",
        "x = 5\n",
        "\n",
        "if x < 5:\n",
        "    print('x is smaller than 5')\n",
        "elif x == 5:\n",
        "    print('x is equal to 5')\n",
        "else:\n",
        "    print('x is greater than 5')\n",
        "print('end of the if')"
      ]
    },
    {
      "cell_type": "code",
      "execution_count": null,
      "metadata": {
        "collapsed": true,
        "id": "9hb7qieTkDDm"
      },
      "outputs": [],
      "source": [
        "# What can you say about this loop?\n",
        "\n",
        "# count = 0\n",
        "# while count < 5: # Here begins my block\n",
        "#     print(count)\n",
        "# count += 1"
      ]
    },
    {
      "cell_type": "markdown",
      "metadata": {
        "id": "T6_gJM1dkDDm"
      },
      "source": [
        "__Question__: What do we have to change for counting up to 5?<br>"
      ]
    },
    {
      "cell_type": "markdown",
      "metadata": {
        "id": "P4znzWA3OIRq"
      },
      "source": [
        "#### TASK3: sum up all numbers from 1 to 100"
      ]
    },
    {
      "cell_type": "code",
      "execution_count": null,
      "metadata": {
        "colab": {
          "base_uri": "https://localhost:8080/"
        },
        "id": "zk3C2uQIkDDm",
        "outputId": "8e6eb1e8-702d-45cb-80a4-9e2c7a155dfe"
      },
      "outputs": [
        {
          "name": "stdout",
          "output_type": "stream",
          "text": [
            "5050\n"
          ]
        }
      ],
      "source": [
        "sum_1_to_100 = None\n",
        "## YOUR_CODE_STARTS_HERE\n",
        "sum_1_to_100 = 0\n",
        "n = 1\n",
        "while n < 100 + 1:\n",
        "    sum_1_to_100 += n\n",
        "    n += 1\n",
        "\n",
        "# OR:\n",
        "\n",
        "sum_1_to_100 = 0\n",
        "for n in range(1, 100+1):\n",
        "  sum_1_to_100 += n\n",
        "## YOUR_CODE_ENDS_HERE\n",
        "## RESULT_CHECKING_POINT (result should be 5050)\n",
        "print(sum_1_to_100)"
      ]
    },
    {
      "cell_type": "markdown",
      "metadata": {
        "id": "1JnjRkgOkDDn"
      },
      "source": [
        "#### TASK4: sum up all numbers from 1 to 100 that are divisible by 3"
      ]
    },
    {
      "cell_type": "code",
      "execution_count": null,
      "metadata": {
        "colab": {
          "base_uri": "https://localhost:8080/"
        },
        "id": "bVv_IvcIkDDn",
        "outputId": "e16b196c-2603-486f-f1e3-e493f80421c8"
      },
      "outputs": [
        {
          "name": "stdout",
          "output_type": "stream",
          "text": [
            "1683\n"
          ]
        }
      ],
      "source": [
        "result = None\n",
        "## YOUR_CODE_STARTS_HERE\n",
        "result = 0\n",
        "for n in range(1, 100+1):\n",
        "  if n % 3 == 0:\n",
        "    result += n\n",
        "## YOUR_CODE_ENDS_HERE\n",
        "## RESULT_CHECKING_POINT (result should be 1683)\n",
        "print(result)"
      ]
    },
    {
      "cell_type": "markdown",
      "metadata": {
        "id": "5m2HnS7CkDDn"
      },
      "source": [
        "### Strings"
      ]
    },
    {
      "cell_type": "markdown",
      "metadata": {
        "id": "E4gwMf5ukDDn"
      },
      "source": [
        "Let's focus on strings because this class will be mainly on how we handle strings and many fun things that we can make with text. Again as we saw in our *hello world* example, we need quote to create a string, whether single (') or double (\") quotes it's actually not important, but **don't mix them**. Strings are a sequence of characters that concatenated form a text. We can also have one character strings or an empty string."
      ]
    },
    {
      "cell_type": "code",
      "execution_count": null,
      "metadata": {
        "id": "KjAdocLVkDDn"
      },
      "outputs": [],
      "source": [
        "first_str = \"Hello\"\n",
        "second_str = \"world\"\n",
        "empty_str = \"\"\n",
        "one_ch_str = \"!\""
      ]
    },
    {
      "cell_type": "markdown",
      "metadata": {
        "id": "HjofOPCSkDDn"
      },
      "source": [
        "#### String operations"
      ]
    },
    {
      "cell_type": "code",
      "execution_count": null,
      "metadata": {
        "colab": {
          "base_uri": "https://localhost:8080/"
        },
        "id": "E4b35okmkDDn",
        "outputId": "148ddec7-f514-442d-87e0-c6b43f642715"
      },
      "outputs": [
        {
          "name": "stdout",
          "output_type": "stream",
          "text": [
            "Helloworld!\n"
          ]
        }
      ],
      "source": [
        "# Concatenation\n",
        "\n",
        "print(first_str +  second_str + one_ch_str)"
      ]
    },
    {
      "cell_type": "markdown",
      "metadata": {
        "id": "EyKIH8cfkDDn"
      },
      "source": [
        "What's missing?"
      ]
    },
    {
      "cell_type": "code",
      "execution_count": null,
      "metadata": {
        "colab": {
          "base_uri": "https://localhost:8080/"
        },
        "id": "v_JC44fLkDDn",
        "outputId": "36dce159-9d22-47bb-fcca-75e785a251b0"
      },
      "outputs": [
        {
          "name": "stdout",
          "output_type": "stream",
          "text": [
            "Hello world!\n"
          ]
        }
      ],
      "source": [
        "space_str = \" \"\n",
        "print(first_str + space_str + second_str + one_ch_str)"
      ]
    },
    {
      "cell_type": "code",
      "execution_count": null,
      "metadata": {
        "colab": {
          "base_uri": "https://localhost:8080/"
        },
        "id": "sPix9DjKkDDn",
        "outputId": "66a22d61-aff5-4130-95fc-9d3a19ed3d3d"
      },
      "outputs": [
        {
          "name": "stdout",
          "output_type": "stream",
          "text": [
            "Hello world!!!!!\n"
          ]
        }
      ],
      "source": [
        "# Repetition of strings\n",
        "\n",
        "print(first_str + space_str + second_str + (one_ch_str * 5))"
      ]
    },
    {
      "cell_type": "code",
      "execution_count": null,
      "metadata": {
        "colab": {
          "base_uri": "https://localhost:8080/"
        },
        "id": "M0RlEcPfkDDn",
        "outputId": "a6fc47b8-1de2-4bf2-a597-296b74e413a1"
      },
      "outputs": [
        {
          "name": "stdout",
          "output_type": "stream",
          "text": [
            "Hello \n"
          ]
        }
      ],
      "source": [
        "greeting = first_str + space_str\n",
        "print(greeting)"
      ]
    },
    {
      "cell_type": "markdown",
      "metadata": {
        "id": "StknEMl_kDDn"
      },
      "source": [
        "__Important__: We can also use ordinary \"arithmetic\" operations on strings. So keep in mind, that the operators are overloaded."
      ]
    },
    {
      "cell_type": "code",
      "execution_count": null,
      "metadata": {
        "colab": {
          "base_uri": "https://localhost:8080/"
        },
        "id": "HWCx8yT0kDDn",
        "outputId": "b8157469-44cd-4320-b59b-921943200f9f"
      },
      "outputs": [
        {
          "name": "stdout",
          "output_type": "stream",
          "text": [
            "Hello world\n"
          ]
        }
      ],
      "source": [
        "greeting += second_str\n",
        "print(greeting)"
      ]
    },
    {
      "cell_type": "markdown",
      "metadata": {
        "id": "so_EQkRlkDDn"
      },
      "source": [
        "__Question__: What is the problem with following instruction?"
      ]
    },
    {
      "cell_type": "markdown",
      "metadata": {
        "id": "7VQC7HReAofY"
      },
      "source": [
        "*In Python, exceptions are errors that occur during the execution of a program. Instead of causing the program to crash, exceptions can be caught and handled so that the program can continue running.*"
      ]
    },
    {
      "cell_type": "code",
      "execution_count": null,
      "metadata": {
        "colab": {
          "base_uri": "https://localhost:8080/"
        },
        "id": "m55eVszikDDn",
        "outputId": "20822f77-9408-454b-d3f4-51a7230e2100"
      },
      "outputs": [
        {
          "name": "stdout",
          "output_type": "stream",
          "text": [
            "can only concatenate str (not \"int\") to str\n"
          ]
        }
      ],
      "source": [
        "n = 5\n",
        "try:\n",
        "  print('The value of n is ' + n)\n",
        "except Exception as e:\n",
        "  print(e)"
      ]
    },
    {
      "cell_type": "markdown",
      "metadata": {
        "id": "zV4X9mz1kDDn"
      },
      "source": [
        "#### TASK5: The value of n is 5"
      ]
    },
    {
      "cell_type": "markdown",
      "metadata": {
        "id": "_PzfUEshuTfi"
      },
      "source": [
        "Fix the issue above and print the string \"The value of n is 5\" using str concatentation operation"
      ]
    },
    {
      "cell_type": "code",
      "execution_count": null,
      "metadata": {
        "colab": {
          "base_uri": "https://localhost:8080/"
        },
        "id": "k_rZHT6XkDDo",
        "outputId": "46ae9d96-7e2f-4f4d-a42d-bda5d65fcc5c"
      },
      "outputs": [
        {
          "name": "stdout",
          "output_type": "stream",
          "text": [
            "The value of n is 5\n"
          ]
        }
      ],
      "source": [
        "## YOUR_CODE_STARTS_HERE\n",
        "print('The value of n is ' + str(n))\n",
        "## YOUR_CODE_ENDS_HERE\n",
        "## RESULT_CHECKING_POINT (result should be \"The value of n is 5\")"
      ]
    },
    {
      "cell_type": "markdown",
      "metadata": {
        "id": "5S4wjpG9kDDo"
      },
      "source": [
        "We can index elements using [ ] as follows"
      ]
    },
    {
      "cell_type": "code",
      "execution_count": null,
      "metadata": {
        "colab": {
          "base_uri": "https://localhost:8080/"
        },
        "id": "Pz_YomGvkDDo",
        "outputId": "96dda9a9-7715-419d-ecfe-6096b3e5f18b"
      },
      "outputs": [
        {
          "name": "stdout",
          "output_type": "stream",
          "text": [
            "l\n"
          ]
        }
      ],
      "source": [
        "print(first_str[3])"
      ]
    },
    {
      "cell_type": "code",
      "execution_count": null,
      "metadata": {
        "colab": {
          "base_uri": "https://localhost:8080/"
        },
        "id": "crJSIuoqkDDo",
        "outputId": "22925b7a-ce38-41c2-d06f-1bef2d8c3d08"
      },
      "outputs": [
        {
          "name": "stdout",
          "output_type": "stream",
          "text": [
            "pneumo\n"
          ]
        }
      ],
      "source": [
        "long_str = \"pneumonoultramicroscopicsilicovolcanoconiosis\"\n",
        "\n",
        "# Index ranges\n",
        "\n",
        "print(long_str[:6]) #== long_str[0:6]"
      ]
    },
    {
      "cell_type": "markdown",
      "metadata": {
        "id": "ZcjWaP-skDDo"
      },
      "source": [
        "__Question__: How many characters does long_str[:6] contain? What can we implicate for the last index?\n",
        "\n",
        "Indexes begin with 0 and end with length -1. __Attention__: The last position (index) of a string is long_str[-1] == long_str[len(long_str) - 1], but in a range the last index is exclusive."
      ]
    },
    {
      "cell_type": "code",
      "execution_count": null,
      "metadata": {
        "colab": {
          "base_uri": "https://localhost:8080/"
        },
        "id": "6Fje6RURkDDo",
        "outputId": "633dea06-0be0-44e0-d8c7-a6b13e761b43"
      },
      "outputs": [
        {
          "name": "stdout",
          "output_type": "stream",
          "text": [
            "45\n"
          ]
        }
      ],
      "source": [
        "print(len(long_str))"
      ]
    },
    {
      "cell_type": "code",
      "execution_count": null,
      "metadata": {
        "colab": {
          "base_uri": "https://localhost:8080/"
        },
        "id": "2tlqIOH7kDDo",
        "outputId": "eeaef72d-6316-4af0-83f4-60b6fe8f6c4a"
      },
      "outputs": [
        {
          "name": "stdout",
          "output_type": "stream",
          "text": [
            "volcanoconiosi\n"
          ]
        }
      ],
      "source": [
        "print(long_str[30:-1])"
      ]
    },
    {
      "cell_type": "markdown",
      "metadata": {
        "id": "o_GFIW1TkDDo"
      },
      "source": [
        "__Question__: We saw above the equivalence of long_str[:6] == long_str[0:6]. What is the equivalent expression to the following instruction?"
      ]
    },
    {
      "cell_type": "code",
      "execution_count": null,
      "metadata": {
        "colab": {
          "base_uri": "https://localhost:8080/"
        },
        "id": "o4qnn4dNkDDo",
        "outputId": "5e9fe270-c51e-4c06-b3b1-3c3256482dff"
      },
      "outputs": [
        {
          "name": "stdout",
          "output_type": "stream",
          "text": [
            "volcanoconiosis\n"
          ]
        }
      ],
      "source": [
        "print(long_str[30:])"
      ]
    },
    {
      "cell_type": "markdown",
      "metadata": {
        "id": "tpedovXLkDDo"
      },
      "source": [
        "An overview of logical operators:\n",
        "\n",
        "- == equal\n",
        "- != unequal\n",
        "- < less than\n",
        "- \\> greater than\n",
        "- <= less than or equal to >= greater than or equal to"
      ]
    },
    {
      "cell_type": "markdown",
      "metadata": {
        "id": "8zLdvOo8kDDo"
      },
      "source": [
        "### Important!\n",
        "- == means comparison\n",
        "- = means assignment"
      ]
    },
    {
      "cell_type": "code",
      "execution_count": null,
      "metadata": {
        "colab": {
          "base_uri": "https://localhost:8080/"
        },
        "id": "pCNcQN6RkDDp",
        "outputId": "bf30ffde-1ebf-4bca-a872-0098aa2cd570"
      },
      "outputs": [
        {
          "name": "stdout",
          "output_type": "stream",
          "text": [
            "True\n",
            "False\n"
          ]
        }
      ],
      "source": [
        "print(first_str[2] == first_str[3])\n",
        "print(first_str[1] == first_str[3])"
      ]
    },
    {
      "cell_type": "markdown",
      "metadata": {
        "id": "Uhr_BPmekDDp"
      },
      "source": [
        "#### TASK 6: how many o's do we have in `long_str`"
      ]
    },
    {
      "cell_type": "code",
      "execution_count": null,
      "metadata": {
        "colab": {
          "base_uri": "https://localhost:8080/"
        },
        "id": "mFORJblLkDDp",
        "outputId": "e868d30c-fec6-4249-8782-5f0d3d59eb23"
      },
      "outputs": [
        {
          "name": "stdout",
          "output_type": "stream",
          "text": [
            "9\n"
          ]
        }
      ],
      "source": [
        "## YOUR_CODE_STARTS_HERE\n",
        "print(len([ch for ch in long_str if ch == \"o\"]))\n",
        "## YOUR_CODE_ENDS_HERE\n",
        "## RESULT_CHECKING_POINT (result should be 9)"
      ]
    },
    {
      "cell_type": "markdown",
      "metadata": {
        "id": "Pdyc2JrfkDDp"
      },
      "source": [
        "#### String Methods"
      ]
    },
    {
      "cell_type": "markdown",
      "metadata": {
        "id": "t8uECnUOkDDp"
      },
      "source": [
        "There are several methods provided to support transforming, validating and in general working with strings. Here we have some of them."
      ]
    },
    {
      "cell_type": "code",
      "execution_count": null,
      "metadata": {
        "id": "TbG9bHfZkDDp"
      },
      "outputs": [],
      "source": [
        "text = 'This is text'\n",
        "nums = '123456'"
      ]
    },
    {
      "cell_type": "markdown",
      "metadata": {
        "id": "s_glYnlDkDDp"
      },
      "source": [
        "#### `str.find`"
      ]
    },
    {
      "cell_type": "code",
      "execution_count": null,
      "metadata": {
        "id": "Ei_TpCVEkDDp"
      },
      "outputs": [],
      "source": [
        "find1 = text.find('is')\n",
        "find2 = text.find('your')"
      ]
    },
    {
      "cell_type": "markdown",
      "metadata": {
        "id": "xKpBCJlykDDp"
      },
      "source": [
        "__Question__: What is the output of the find-method?\n",
        "\n",
        "__Task__: We want to get a user-friendly output if the words 'is' or 'your' can be found in the variable `text`, i.e.<br>\n",
        "'is' found in 'This is text'<br>\n",
        "'your' found in 'This is text'<br>\n",
        "if both words could be found in the text or the negated form if the word wasn't found. Try to be most generic as possible, i.e. hard code as few as possible."
      ]
    },
    {
      "cell_type": "code",
      "execution_count": null,
      "metadata": {
        "colab": {
          "base_uri": "https://localhost:8080/"
        },
        "id": "IcDkPmb806Lu",
        "outputId": "056e5683-e9a1-44e5-ff40-8d8fe1cf478a"
      },
      "outputs": [
        {
          "name": "stdout",
          "output_type": "stream",
          "text": [
            "is does exist\n",
            "your does not exist\n"
          ]
        }
      ],
      "source": [
        "SUBSTRING_NOT_EXISTS = None\n",
        "\n",
        "## YOUR_CODE_STARTS_HERE\n",
        "# Assign the value to `SUBSTRING_NOT_EXISTS`\n",
        "SUBSTRING_NOT_EXISTS = -1\n",
        "## YOUR_CODE_ENDS_HERE\n",
        "\n",
        "## RESULT_CHECKING_POINT (result should be \"is does exist\" \"your does not exist\")\n",
        "for substr in ['is', 'your']:\n",
        "    if text.find(substr) == SUBSTRING_NOT_EXISTS:\n",
        "        print(substr + \" does not exist\")\n",
        "    else:\n",
        "        print(substr + \" does exist\")"
      ]
    },
    {
      "cell_type": "markdown",
      "metadata": {
        "id": "tr-3Y-QvkDDp"
      },
      "source": [
        "####  Validation checks `str.isxxx`"
      ]
    },
    {
      "cell_type": "code",
      "execution_count": null,
      "metadata": {
        "colab": {
          "base_uri": "https://localhost:8080/"
        },
        "id": "uG7JjyFukDDp",
        "outputId": "f6b32686-c0e4-475d-caf3-7123e8597727"
      },
      "outputs": [
        {
          "data": {
            "text/plain": [
              "True"
            ]
          },
          "execution_count": 29,
          "metadata": {},
          "output_type": "execute_result"
        }
      ],
      "source": [
        "text.isalpha()\n",
        "text.isdigit()\n",
        "nums.isdigit()"
      ]
    },
    {
      "cell_type": "markdown",
      "metadata": {
        "id": "1XsdBLP5kDDp"
      },
      "source": [
        "#### Concatenation: `str.join`"
      ]
    },
    {
      "cell_type": "code",
      "execution_count": null,
      "metadata": {
        "colab": {
          "base_uri": "https://localhost:8080/"
        },
        "id": "MVfN20sOkDDp",
        "outputId": "83cc7e74-4315-4ec7-e088-fed370cea809"
      },
      "outputs": [
        {
          "name": "stdout",
          "output_type": "stream",
          "text": [
            "This is text123456\n",
            "This is text 123456\n"
          ]
        }
      ],
      "source": [
        "print(''.join((text,nums)))\n",
        "print(' '.join((text,nums)))"
      ]
    },
    {
      "cell_type": "markdown",
      "metadata": {
        "id": "erXuRfg7kDDp"
      },
      "source": [
        "#### Format important!!!"
      ]
    },
    {
      "cell_type": "code",
      "execution_count": null,
      "metadata": {
        "colab": {
          "base_uri": "https://localhost:8080/"
        },
        "id": "s8H-zO1QkDDp",
        "outputId": "3befeb03-6ab9-47d8-91d0-897f3b973ea7"
      },
      "outputs": [
        {
          "name": "stdout",
          "output_type": "stream",
          "text": [
            "John Doe is 24 years old\n",
            "John Doe is 24 years old\n",
            "John Doe is 24 years old\n"
          ]
        }
      ],
      "source": [
        "fname = \"John\"\n",
        "lname = \"Doe\"\n",
        "age = \"24\"\n",
        "print(\"{first} {last} is {age} years old\".format(first=fname, last=lname, age=age))\n",
        "print(f\"{fname} {lname} is {age} years old\")\n",
        "print(\"%s %s is %s years old\" % (fname, lname, age))  # old c-like way"
      ]
    },
    {
      "cell_type": "markdown",
      "metadata": {
        "id": "m3VAjT9NkDDq"
      },
      "source": [
        "#### Case changing `str.upper` and `str.lower`. Important!!!"
      ]
    },
    {
      "cell_type": "code",
      "execution_count": null,
      "metadata": {
        "colab": {
          "base_uri": "https://localhost:8080/",
          "height": 35
        },
        "id": "LgUvjZnvkDDq",
        "outputId": "72cbcca9-49c8-426b-e051-d361971da049"
      },
      "outputs": [
        {
          "data": {
            "application/vnd.google.colaboratory.intrinsic+json": {
              "type": "string"
            },
            "text/plain": [
              "'this is text'"
            ]
          },
          "execution_count": 32,
          "metadata": {},
          "output_type": "execute_result"
        }
      ],
      "source": [
        "text.upper()\n",
        "text.lower()"
      ]
    },
    {
      "cell_type": "markdown",
      "metadata": {
        "id": "Zj0-T1VHkDDq"
      },
      "source": [
        "#### `str.split`"
      ]
    },
    {
      "cell_type": "code",
      "execution_count": null,
      "metadata": {
        "colab": {
          "base_uri": "https://localhost:8080/"
        },
        "id": "TcJ1fk-OkDDq",
        "outputId": "f5e5d7b1-d84d-4b27-95f1-d80c60fa944c"
      },
      "outputs": [
        {
          "data": {
            "text/plain": [
              "['This', 'is', 'text']"
            ]
          },
          "execution_count": 33,
          "metadata": {},
          "output_type": "execute_result"
        }
      ],
      "source": [
        "text.split(' ')"
      ]
    },
    {
      "cell_type": "markdown",
      "metadata": {
        "id": "FSOairTvkDDq"
      },
      "source": [
        "#### Substitution"
      ]
    },
    {
      "cell_type": "code",
      "execution_count": null,
      "metadata": {
        "colab": {
          "base_uri": "https://localhost:8080/",
          "height": 35
        },
        "id": "jSdvqKr6kDDq",
        "outputId": "5637c256-4a9b-4a00-a477-a796ab5bcdee"
      },
      "outputs": [
        {
          "data": {
            "application/vnd.google.colaboratory.intrinsic+json": {
              "type": "string"
            },
            "text/plain": [
              "'Thwas was text'"
            ]
          },
          "execution_count": 34,
          "metadata": {},
          "output_type": "execute_result"
        }
      ],
      "source": [
        "text.replace('is','was')"
      ]
    },
    {
      "cell_type": "markdown",
      "metadata": {
        "id": "otz_eQ02kDDq"
      },
      "source": [
        "#### Stripping"
      ]
    },
    {
      "cell_type": "code",
      "execution_count": null,
      "metadata": {
        "colab": {
          "base_uri": "https://localhost:8080/"
        },
        "id": "ab8M85uCkDDq",
        "outputId": "ecb4836d-0bed-4dcd-a41c-e56f537bde62"
      },
      "outputs": [
        {
          "data": {
            "text/plain": [
              "(' a sentence with extra space',\n",
              " 'a sentence with extra space    ',\n",
              " 'a sentence with extra space')"
            ]
          },
          "execution_count": 35,
          "metadata": {},
          "output_type": "execute_result"
        }
      ],
      "source": [
        "text_with_space = \" a sentence with extra space    \"\n",
        "text_with_space.rstrip(), text_with_space.lstrip(), text_with_space.strip()"
      ]
    },
    {
      "cell_type": "markdown",
      "metadata": {
        "id": "1kA_JXiK5WyV"
      },
      "source": [
        "#### TASK 7: strip noise"
      ]
    },
    {
      "cell_type": "code",
      "execution_count": null,
      "metadata": {
        "colab": {
          "base_uri": "https://localhost:8080/"
        },
        "id": "VI1vlPOk4cBj",
        "outputId": "04964faa-f4bf-4e41-8098-3d4e46763144"
      },
      "outputs": [
        {
          "name": "stdout",
          "output_type": "stream",
          "text": [
            "a sentence\n"
          ]
        }
      ],
      "source": [
        "# be careful with the cases when there is an argument:\n",
        "text_with_noise = \"a sentence..^%&^%&^\"\n",
        "strip_argument = None\n",
        "\n",
        "## YOUR_CODE_STARTS_HERE\n",
        "# assign your values to `strip_argument`. Be as concise as possible\n",
        "strip_argument = \"^&.%\"\n",
        "## YOUR_CODE_ENDS_HERE\n",
        "\n",
        "## RESULT_CHECKING_POINT  (result should be \"a sentence\")\n",
        "print(text_with_noise.strip(strip_argument))"
      ]
    },
    {
      "cell_type": "markdown",
      "metadata": {
        "id": "-xGfwBynkDDq"
      },
      "source": [
        "# Functions and Data Structures\n",
        "Some tasks are based on tasks on https://www.practicepython.org/.<br>\n",
        "For better readability and encapsulation of our code, we can define **function**s, that perform specific instructions. We can call functions with inputs and functions may return an output, but don't have to. A function can be defined with the keyword *def* followed by the name of the function."
      ]
    },
    {
      "cell_type": "code",
      "execution_count": null,
      "metadata": {
        "id": "qcuY1uofkDDq"
      },
      "outputs": [],
      "source": [
        "# Function without input and without output\n",
        "def hello_world():\n",
        "    print('Hello World!')\n",
        "\n",
        "# Function with input, but without output\n",
        "def print_my_input(my_input):\n",
        "    print(my_input)\n",
        "\n",
        "# Function with input and output\n",
        "def add(value1, value2):\n",
        "    return value1 + value2"
      ]
    },
    {
      "cell_type": "markdown",
      "metadata": {
        "id": "yXSExvGfkDDq"
      },
      "source": [
        "Defined functions can be called by typing the function name:"
      ]
    },
    {
      "cell_type": "code",
      "execution_count": null,
      "metadata": {
        "colab": {
          "base_uri": "https://localhost:8080/"
        },
        "id": "i9uLYg21kDDq",
        "outputId": "5d9d0f8f-c9f4-4e34-ad7f-593549fd285d"
      },
      "outputs": [
        {
          "name": "stdout",
          "output_type": "stream",
          "text": [
            "Hello World!\n",
            "Hello World!\n",
            "4\n"
          ]
        }
      ],
      "source": [
        "hello_world()\n",
        "print_my_input('Hello World!')\n",
        "print(add(1, 3))"
      ]
    },
    {
      "cell_type": "markdown",
      "metadata": {
        "id": "EztuxEapkDDq"
      },
      "source": [
        "## `list`\n",
        "\n",
        "Lists in Python are like magic they may contain all kinds of objects together e.g. float, integers, strings even lists inside lists as we had in our previous exercise submission.\n"
      ]
    },
    {
      "cell_type": "markdown",
      "metadata": {
        "id": "naqw_OvukDDr"
      },
      "source": [
        "#### Task 7: iterate over list\n",
        "Iterate over the list and store its element less than 15 into `new_list`"
      ]
    },
    {
      "cell_type": "code",
      "execution_count": null,
      "metadata": {
        "colab": {
          "base_uri": "https://localhost:8080/"
        },
        "id": "XnOUGsswkDDr",
        "outputId": "d853d63b-21bf-4f33-eee7-f6d1d1bebcb7"
      },
      "outputs": [
        {
          "name": "stdout",
          "output_type": "stream",
          "text": [
            "[3, 7, 10, 8, 12, 5, 13, 9]\n"
          ]
        }
      ],
      "source": [
        "list_of_numbers = [3, 7, 10, 23, 8, 15, 34, 12, 16, 5, 45, 63, 13, 9]\n",
        "new_list = None\n",
        "## YOUR_CODE_STARTS_HERE\n",
        "new_list = [n for n in list_of_numbers if n < 15]\n",
        "## YOUR_CODE_ENDS_HERE\n",
        "## RESULT_CHECKING_POINT  (result should be [3, 7, 10, 8, 12, 5, 13, 9])\n",
        "print(new_list)"
      ]
    },
    {
      "cell_type": "markdown",
      "metadata": {
        "id": "Ph_1fTwqkDDr"
      },
      "source": [
        "#### Task 8: write function `list_intersection`\n",
        "\n",
        "Given two input lists, write a function to output the intersection without duplicates.\n",
        "\n",
        "> Hint: use `in` in the condition, e.g. `1 in [1,2]` and `1 not in [1,2]`"
      ]
    },
    {
      "cell_type": "code",
      "execution_count": null,
      "metadata": {
        "colab": {
          "base_uri": "https://localhost:8080/"
        },
        "id": "FhlUjrzckDDr",
        "outputId": "21a31a45-a786-4579-8140-7a16ac175ee7"
      },
      "outputs": [
        {
          "name": "stdout",
          "output_type": "stream",
          "text": [
            "[1, 3]\n"
          ]
        }
      ],
      "source": [
        "list1 = [1,3,5,6,3]\n",
        "list2 = [1,2,3]\n",
        "\n",
        "def list_intersection(list1, list2):\n",
        "  intersection = []\n",
        "  ## YOUR_CODE_STARTS_HERE\n",
        "  for n in list1:\n",
        "    if n in list2 and n not in intersection:\n",
        "      intersection.append(n)\n",
        "  ## YOUR_CODE_ENDS_HERE\n",
        "  return intersection\n",
        "## RESULT_CHECKING_POINT  (result should be [1, 3])\n",
        "print(list_intersection(list1, list2))"
      ]
    },
    {
      "cell_type": "markdown",
      "metadata": {
        "id": "Ifqaqsxg-m7w"
      },
      "source": [
        "### `list.append` and `list.extend`"
      ]
    },
    {
      "cell_type": "code",
      "execution_count": null,
      "metadata": {
        "colab": {
          "base_uri": "https://localhost:8080/"
        },
        "id": "tXof2KQz-WnQ",
        "outputId": "b7967fd8-481c-4159-93b3-4c2193c10b55"
      },
      "outputs": [
        {
          "name": "stdout",
          "output_type": "stream",
          "text": [
            "[1, 3, 5, 6, 3, 7, 1, 2, 3]\n"
          ]
        }
      ],
      "source": [
        "list1 = [1,3,5,6,3]\n",
        "list1.append(7)\n",
        "list1.extend(list2)\n",
        "print(list1)"
      ]
    },
    {
      "cell_type": "markdown",
      "metadata": {
        "id": "CMBl3gIc-_-n"
      },
      "source": [
        "### `list1 + list2`"
      ]
    },
    {
      "cell_type": "code",
      "execution_count": null,
      "metadata": {
        "colab": {
          "base_uri": "https://localhost:8080/"
        },
        "id": "DmX-zYCW-51X",
        "outputId": "02378958-7a80-48f5-8bc6-dcb4a5e5d302"
      },
      "outputs": [
        {
          "name": "stdout",
          "output_type": "stream",
          "text": [
            "[1, 3, 5, 6, 3, 1, 2, 3]\n"
          ]
        }
      ],
      "source": [
        "list1 = [1,3,5,6,3]\n",
        "list2 = [1,2,3]\n",
        "print(list1 + list2)"
      ]
    },
    {
      "cell_type": "markdown",
      "metadata": {
        "id": "HYZy_0wk_LH4"
      },
      "source": [
        "### `list.pop`"
      ]
    },
    {
      "cell_type": "code",
      "execution_count": null,
      "metadata": {
        "colab": {
          "base_uri": "https://localhost:8080/"
        },
        "id": "zyo4Iu4-_C4a",
        "outputId": "745f0472-8c72-4e9d-e13c-2bc9e585b846"
      },
      "outputs": [
        {
          "name": "stdout",
          "output_type": "stream",
          "text": [
            "3 [1, 3, 5, 6]\n"
          ]
        }
      ],
      "source": [
        "list1 = [1,3,5,6,3]\n",
        "print(list1.pop(4), list1)"
      ]
    },
    {
      "cell_type": "markdown",
      "metadata": {
        "id": "ako1xMQE_bfV"
      },
      "source": [
        "## `dict`"
      ]
    },
    {
      "cell_type": "markdown",
      "metadata": {
        "id": "3NuQgrnHkDDr"
      },
      "source": [
        "You can also create dictionaries (Map/HashMap in Java).\n",
        "Using this structure you can link elements. We call them keys and values.\n",
        "\n"
      ]
    },
    {
      "cell_type": "markdown",
      "metadata": {
        "id": "Qs6tBbzP_lxA"
      },
      "source": [
        "### Keys must be unique\n",
        "\n",
        "Otherwise you will overwrite the value of that key"
      ]
    },
    {
      "cell_type": "code",
      "execution_count": null,
      "metadata": {
        "colab": {
          "base_uri": "https://localhost:8080/"
        },
        "id": "ZX2Ashk-kDDr",
        "outputId": "14ec53b8-1bb9-47ad-f8d0-01d4667374f6"
      },
      "outputs": [
        {
          "name": "stdout",
          "output_type": "stream",
          "text": [
            "{'a': 1, 'b': 2, 'c': 3}\n",
            "{'a': [1, 2, 3, 5], 'b': 2, 'c': 3}\n"
          ]
        }
      ],
      "source": [
        "dictionary = {}\n",
        "dictionary[\"a\"] = 1\n",
        "dictionary[\"b\"] = 2\n",
        "dictionary[\"c\"] = 3\n",
        "print(dictionary)\n",
        "\n",
        "dictionary[\"a\"] = [1, 2, 3, 5]\n",
        "print(dictionary)"
      ]
    },
    {
      "cell_type": "markdown",
      "metadata": {
        "id": "WqeXEgGwACG5"
      },
      "source": [
        "### `dict.setdefault`"
      ]
    },
    {
      "cell_type": "code",
      "execution_count": null,
      "metadata": {
        "colab": {
          "base_uri": "https://localhost:8080/"
        },
        "id": "fsqyPyxJAEIF",
        "outputId": "7d0ed6ca-0387-4537-a1f7-83291234de83"
      },
      "outputs": [
        {
          "name": "stdout",
          "output_type": "stream",
          "text": [
            "one\n",
            "one\n"
          ]
        }
      ],
      "source": [
        "id2str = {}\n",
        "print(id2str.setdefault(1, \"one\"))\n",
        "print(id2str[1])"
      ]
    },
    {
      "cell_type": "markdown",
      "metadata": {
        "id": "urOwVq3GAd75"
      },
      "source": [
        "### `dict.get`"
      ]
    },
    {
      "cell_type": "code",
      "execution_count": null,
      "metadata": {
        "colab": {
          "base_uri": "https://localhost:8080/"
        },
        "id": "h7CEjzejAYvM",
        "outputId": "e297d1b5-5d3f-4346-bfa4-d175965f3236"
      },
      "outputs": [
        {
          "name": "stdout",
          "output_type": "stream",
          "text": [
            "None\n",
            "{}\n"
          ]
        }
      ],
      "source": [
        "id2str = {}\n",
        "print(id2str.get(1, None))\n",
        "print(id2str)        "
      ]
    },
    {
      "cell_type": "markdown",
      "metadata": {
        "id": "xO0MhRZykDDr"
      },
      "source": [
        "### TASK 9: vocab construction. Important!!!"
      ]
    },
    {
      "cell_type": "markdown",
      "metadata": {
        "id": "3dqh4ha7CXTq"
      },
      "source": [
        "You are required to implement a `build_vocab` function that takes in a list of documents (strings) and outputs a vocabulary dictionary. This dictionary should map each unique word to a corresponding unique ID (integer). The IDs should start from 0 and increment sequentially in the order that words first appear across the documents. All the words should be converted to their lowercase first."
      ]
    },
    {
      "cell_type": "code",
      "execution_count": null,
      "metadata": {
        "colab": {
          "base_uri": "https://localhost:8080/"
        },
        "id": "uJPo44-1kDDr",
        "outputId": "7579ad11-dd1d-4b90-ca23-370a49b934bb"
      },
      "outputs": [
        {
          "data": {
            "text/plain": [
              "{'the': 0,\n",
              " 'first': 1,\n",
              " 'document.': 2,\n",
              " 'and': 3,\n",
              " 'this': 4,\n",
              " 'is': 5,\n",
              " 'second': 6}"
            ]
          },
          "execution_count": 47,
          "metadata": {},
          "output_type": "execute_result"
        }
      ],
      "source": [
        "doc1 = \"The first document.\"\n",
        "doc2 = \"And this is the second document.\"\n",
        "\n",
        "def build_vocab(docs):\n",
        "  vocab = {}  # a mapping from words to the corresponding IDs (integers)\n",
        "  ## YOUR_CODE_STARTS_HERE\n",
        "  for doc in docs:\n",
        "    for word in doc.lower().split():\n",
        "      vocab.setdefault(word, len(vocab))\n",
        "  ## YOUR_CODE_ENDS_HERE\n",
        "  return vocab\n",
        "\n",
        "## RESULT_CHECKING_POINT (result should be {'the': 0, 'first': 1, 'document.': 2, 'and': 3, 'this': 4, 'is': 5, 'the': 6, 'second': 7})\n",
        "build_vocab([doc1, doc2])"
      ]
    },
    {
      "cell_type": "markdown",
      "metadata": {
        "id": "AhSjaIk8_TvB"
      },
      "source": [
        "# Read from/Write to Disk"
      ]
    },
    {
      "cell_type": "markdown",
      "metadata": {
        "id": "k-Nl8PDJ_jl3"
      },
      "source": [
        "## Text files"
      ]
    },
    {
      "cell_type": "code",
      "execution_count": null,
      "metadata": {
        "colab": {
          "base_uri": "https://localhost:8080/"
        },
        "id": "w7Immxyf_q4p",
        "outputId": "3f8bbca7-8a25-4ad0-da20-3579a4f1b97b"
      },
      "outputs": [
        {
          "name": "stdout",
          "output_type": "stream",
          "text": [
            "Hello, World!\n",
            "This is a new line of text.\n"
          ]
        }
      ],
      "source": [
        "# Open the file in write mode ('w'), which overwrites the file if it already exists\n",
        "with open('example.txt', 'w') as file:\n",
        "    file.write(\"Hello, World!\\nThis is a new line of text.\")\n",
        "\n",
        "# Open the file in read mode ('r')\n",
        "with open('example.txt', 'r') as file:\n",
        "    content = file.read()  # Read the entire content of the file\n",
        "    print(content)"
      ]
    },
    {
      "cell_type": "markdown",
      "metadata": {
        "id": "9w2jOI8d_7g-"
      },
      "source": [
        "## Pickle for Serializing/Deserializing Python Objects"
      ]
    },
    {
      "cell_type": "code",
      "execution_count": null,
      "metadata": {
        "id": "jTj0zsabBPgg"
      },
      "outputs": [],
      "source": [
        "import pickle\n",
        "\n",
        "# Define a sample Python object (like a dictionary)\n",
        "data = {\"name\": \"Alice\", \"age\": 30, \"job\": \"Scientist\"}\n",
        "\n",
        "# Open the file in write-binary mode ('wb')\n",
        "with open('data.pkl', 'wb') as file:\n",
        "    pickle.dump(data, file)  # Dump the Python object into the file"
      ]
    },
    {
      "cell_type": "code",
      "execution_count": null,
      "metadata": {
        "colab": {
          "base_uri": "https://localhost:8080/"
        },
        "id": "eYz2y1Q5BQKy",
        "outputId": "0dea4fd4-012c-429d-e987-ddd3b2972912"
      },
      "outputs": [
        {
          "name": "stdout",
          "output_type": "stream",
          "text": [
            "{'name': 'Alice', 'age': 30, 'job': 'Scientist'}\n"
          ]
        }
      ],
      "source": [
        "# Open the file in read-binary mode ('rb')\n",
        "with open('data.pkl', 'rb') as file:\n",
        "    loaded_data = pickle.load(file)  # Load the object from the file\n",
        "    print(loaded_data)"
      ]
    },
    {
      "cell_type": "markdown",
      "metadata": {
        "id": "VLLirDnoCBlk"
      },
      "source": [
        "## JSON"
      ]
    },
    {
      "cell_type": "code",
      "execution_count": null,
      "metadata": {
        "id": "ZMmMjYf8CIcr"
      },
      "outputs": [],
      "source": [
        "import json\n",
        "\n",
        "# Define a Python object (e.g., dictionary)\n",
        "data = {\"name\": \"Alice\", \"age\": 30, \"job\": \"Scientist\"}\n",
        "\n",
        "# Open the file in write mode ('w')\n",
        "with open('data.json', 'w') as file:\n",
        "    json.dump(data, file, indent=4)  # Use indent=4 for pretty-printing"
      ]
    },
    {
      "cell_type": "code",
      "execution_count": null,
      "metadata": {
        "colab": {
          "base_uri": "https://localhost:8080/"
        },
        "id": "FDHnghW1CLtb",
        "outputId": "beeeb27f-3ca8-4529-a291-85c870849035"
      },
      "outputs": [
        {
          "name": "stdout",
          "output_type": "stream",
          "text": [
            "{'name': 'Alice', 'age': 30, 'job': 'Scientist'}\n"
          ]
        }
      ],
      "source": [
        "# Open the file in read mode ('r')\n",
        "with open('data.json', 'r') as file:\n",
        "    loaded_data = json.load(file)  # Load the JSON data as a Python object\n",
        "    print(loaded_data)"
      ]
    },
    {
      "cell_type": "markdown",
      "metadata": {
        "id": "PjlOBVuBCUsp"
      },
      "source": [
        "##  Pandas (for CSV Files)"
      ]
    },
    {
      "cell_type": "markdown",
      "metadata": {
        "id": "wbupIQUgfRZX"
      },
      "source": [
        "Pandas is a software library written for the Python programming language for data manipulation and analysis. It supports reading/writing operations for files of many different formats, e.g. .csv/.tsv, .xlsx, .jsonl (json lines), etc."
      ]
    },
    {
      "cell_type": "code",
      "execution_count": null,
      "metadata": {
        "id": "25f7iOcKebkq"
      },
      "outputs": [],
      "source": [
        "import pandas as pd\n",
        "\n",
        "# Create a sample DataFrame\n",
        "data = {'Name': ['Alice', 'Bob', 'Charlie'],\n",
        "        'Age': [25, 30, 35],\n",
        "        'Job': ['Engineer', 'Doctor', 'Teacher']}\n",
        "df = pd.DataFrame(data)\n",
        "\n",
        "# Write the DataFrame to a CSV file\n",
        "df.to_csv('output.csv', index=False)  # index=False prevents adding an extra index column"
      ]
    },
    {
      "cell_type": "code",
      "execution_count": null,
      "metadata": {
        "colab": {
          "base_uri": "https://localhost:8080/"
        },
        "id": "8xvU4aVIChQ8",
        "outputId": "b1060775-50e8-4fb6-f20f-98cd903dfdab"
      },
      "outputs": [
        {
          "name": "stdout",
          "output_type": "stream",
          "text": [
            "      Name  Age       Job\n",
            "0    Alice   25  Engineer\n",
            "1      Bob   30    Doctor\n",
            "2  Charlie   35   Teacher\n"
          ]
        }
      ],
      "source": [
        "# Read the CSV file into a DataFrame\n",
        "df = pd.read_csv('output.csv')\n",
        "\n",
        "# Display the first few rows of the DataFrame\n",
        "print(df.head())"
      ]
    },
    {
      "cell_type": "markdown",
      "metadata": {
        "id": "M8OptqJffu1Y"
      },
      "source": [
        "It also supports a lot of convenient operations for data preprocessing and analysis. For example: (learn more [here](https://pandas.pydata.org/docs/user_guide/10min.html))"
      ]
    },
    {
      "cell_type": "code",
      "execution_count": null,
      "metadata": {
        "colab": {
          "base_uri": "https://localhost:8080/",
          "height": 143
        },
        "id": "jO8DfgRTfMzD",
        "outputId": "02f951ff-2a0e-4580-ec10-2b8c8942d15b"
      },
      "outputs": [
        {
          "data": {
            "application/vnd.google.colaboratory.intrinsic+json": {
              "summary": "{\n  \"name\": \"df[df[\\\"Age\\\"] >= 20]\",\n  \"rows\": 3,\n  \"fields\": [\n    {\n      \"column\": \"Name\",\n      \"properties\": {\n        \"dtype\": \"string\",\n        \"num_unique_values\": 3,\n        \"samples\": [\n          \"Alice\",\n          \"Bob\",\n          \"Charlie\"\n        ],\n        \"semantic_type\": \"\",\n        \"description\": \"\"\n      }\n    },\n    {\n      \"column\": \"Age\",\n      \"properties\": {\n        \"dtype\": \"number\",\n        \"std\": 5,\n        \"min\": 25,\n        \"max\": 35,\n        \"num_unique_values\": 3,\n        \"samples\": [\n          25,\n          30,\n          35\n        ],\n        \"semantic_type\": \"\",\n        \"description\": \"\"\n      }\n    },\n    {\n      \"column\": \"Job\",\n      \"properties\": {\n        \"dtype\": \"string\",\n        \"num_unique_values\": 3,\n        \"samples\": [\n          \"Engineer\",\n          \"Doctor\",\n          \"Teacher\"\n        ],\n        \"semantic_type\": \"\",\n        \"description\": \"\"\n      }\n    }\n  ]\n}",
              "type": "dataframe"
            },
            "text/html": [
              "\n",
              "  <div id=\"df-91bd8514-665a-43fc-964c-547f3af89a9a\" class=\"colab-df-container\">\n",
              "    <div>\n",
              "<style scoped>\n",
              "    .dataframe tbody tr th:only-of-type {\n",
              "        vertical-align: middle;\n",
              "    }\n",
              "\n",
              "    .dataframe tbody tr th {\n",
              "        vertical-align: top;\n",
              "    }\n",
              "\n",
              "    .dataframe thead th {\n",
              "        text-align: right;\n",
              "    }\n",
              "</style>\n",
              "<table border=\"1\" class=\"dataframe\">\n",
              "  <thead>\n",
              "    <tr style=\"text-align: right;\">\n",
              "      <th></th>\n",
              "      <th>Name</th>\n",
              "      <th>Age</th>\n",
              "      <th>Job</th>\n",
              "    </tr>\n",
              "  </thead>\n",
              "  <tbody>\n",
              "    <tr>\n",
              "      <th>0</th>\n",
              "      <td>Alice</td>\n",
              "      <td>25</td>\n",
              "      <td>Engineer</td>\n",
              "    </tr>\n",
              "    <tr>\n",
              "      <th>1</th>\n",
              "      <td>Bob</td>\n",
              "      <td>30</td>\n",
              "      <td>Doctor</td>\n",
              "    </tr>\n",
              "    <tr>\n",
              "      <th>2</th>\n",
              "      <td>Charlie</td>\n",
              "      <td>35</td>\n",
              "      <td>Teacher</td>\n",
              "    </tr>\n",
              "  </tbody>\n",
              "</table>\n",
              "</div>\n",
              "    <div class=\"colab-df-buttons\">\n",
              "\n",
              "  <div class=\"colab-df-container\">\n",
              "    <button class=\"colab-df-convert\" onclick=\"convertToInteractive('df-91bd8514-665a-43fc-964c-547f3af89a9a')\"\n",
              "            title=\"Convert this dataframe to an interactive table.\"\n",
              "            style=\"display:none;\">\n",
              "\n",
              "  <svg xmlns=\"http://www.w3.org/2000/svg\" height=\"24px\" viewBox=\"0 -960 960 960\">\n",
              "    <path d=\"M120-120v-720h720v720H120Zm60-500h600v-160H180v160Zm220 220h160v-160H400v160Zm0 220h160v-160H400v160ZM180-400h160v-160H180v160Zm440 0h160v-160H620v160ZM180-180h160v-160H180v160Zm440 0h160v-160H620v160Z\"/>\n",
              "  </svg>\n",
              "    </button>\n",
              "\n",
              "  <style>\n",
              "    .colab-df-container {\n",
              "      display:flex;\n",
              "      gap: 12px;\n",
              "    }\n",
              "\n",
              "    .colab-df-convert {\n",
              "      background-color: #E8F0FE;\n",
              "      border: none;\n",
              "      border-radius: 50%;\n",
              "      cursor: pointer;\n",
              "      display: none;\n",
              "      fill: #1967D2;\n",
              "      height: 32px;\n",
              "      padding: 0 0 0 0;\n",
              "      width: 32px;\n",
              "    }\n",
              "\n",
              "    .colab-df-convert:hover {\n",
              "      background-color: #E2EBFA;\n",
              "      box-shadow: 0px 1px 2px rgba(60, 64, 67, 0.3), 0px 1px 3px 1px rgba(60, 64, 67, 0.15);\n",
              "      fill: #174EA6;\n",
              "    }\n",
              "\n",
              "    .colab-df-buttons div {\n",
              "      margin-bottom: 4px;\n",
              "    }\n",
              "\n",
              "    [theme=dark] .colab-df-convert {\n",
              "      background-color: #3B4455;\n",
              "      fill: #D2E3FC;\n",
              "    }\n",
              "\n",
              "    [theme=dark] .colab-df-convert:hover {\n",
              "      background-color: #434B5C;\n",
              "      box-shadow: 0px 1px 3px 1px rgba(0, 0, 0, 0.15);\n",
              "      filter: drop-shadow(0px 1px 2px rgba(0, 0, 0, 0.3));\n",
              "      fill: #FFFFFF;\n",
              "    }\n",
              "  </style>\n",
              "\n",
              "    <script>\n",
              "      const buttonEl =\n",
              "        document.querySelector('#df-91bd8514-665a-43fc-964c-547f3af89a9a button.colab-df-convert');\n",
              "      buttonEl.style.display =\n",
              "        google.colab.kernel.accessAllowed ? 'block' : 'none';\n",
              "\n",
              "      async function convertToInteractive(key) {\n",
              "        const element = document.querySelector('#df-91bd8514-665a-43fc-964c-547f3af89a9a');\n",
              "        const dataTable =\n",
              "          await google.colab.kernel.invokeFunction('convertToInteractive',\n",
              "                                                    [key], {});\n",
              "        if (!dataTable) return;\n",
              "\n",
              "        const docLinkHtml = 'Like what you see? Visit the ' +\n",
              "          '<a target=\"_blank\" href=https://colab.research.google.com/notebooks/data_table.ipynb>data table notebook</a>'\n",
              "          + ' to learn more about interactive tables.';\n",
              "        element.innerHTML = '';\n",
              "        dataTable['output_type'] = 'display_data';\n",
              "        await google.colab.output.renderOutput(dataTable, element);\n",
              "        const docLink = document.createElement('div');\n",
              "        docLink.innerHTML = docLinkHtml;\n",
              "        element.appendChild(docLink);\n",
              "      }\n",
              "    </script>\n",
              "  </div>\n",
              "\n",
              "\n",
              "<div id=\"df-afcf2c53-1425-45ba-b6eb-481191a5ee12\">\n",
              "  <button class=\"colab-df-quickchart\" onclick=\"quickchart('df-afcf2c53-1425-45ba-b6eb-481191a5ee12')\"\n",
              "            title=\"Suggest charts\"\n",
              "            style=\"display:none;\">\n",
              "\n",
              "<svg xmlns=\"http://www.w3.org/2000/svg\" height=\"24px\"viewBox=\"0 0 24 24\"\n",
              "     width=\"24px\">\n",
              "    <g>\n",
              "        <path d=\"M19 3H5c-1.1 0-2 .9-2 2v14c0 1.1.9 2 2 2h14c1.1 0 2-.9 2-2V5c0-1.1-.9-2-2-2zM9 17H7v-7h2v7zm4 0h-2V7h2v10zm4 0h-2v-4h2v4z\"/>\n",
              "    </g>\n",
              "</svg>\n",
              "  </button>\n",
              "\n",
              "<style>\n",
              "  .colab-df-quickchart {\n",
              "      --bg-color: #E8F0FE;\n",
              "      --fill-color: #1967D2;\n",
              "      --hover-bg-color: #E2EBFA;\n",
              "      --hover-fill-color: #174EA6;\n",
              "      --disabled-fill-color: #AAA;\n",
              "      --disabled-bg-color: #DDD;\n",
              "  }\n",
              "\n",
              "  [theme=dark] .colab-df-quickchart {\n",
              "      --bg-color: #3B4455;\n",
              "      --fill-color: #D2E3FC;\n",
              "      --hover-bg-color: #434B5C;\n",
              "      --hover-fill-color: #FFFFFF;\n",
              "      --disabled-bg-color: #3B4455;\n",
              "      --disabled-fill-color: #666;\n",
              "  }\n",
              "\n",
              "  .colab-df-quickchart {\n",
              "    background-color: var(--bg-color);\n",
              "    border: none;\n",
              "    border-radius: 50%;\n",
              "    cursor: pointer;\n",
              "    display: none;\n",
              "    fill: var(--fill-color);\n",
              "    height: 32px;\n",
              "    padding: 0;\n",
              "    width: 32px;\n",
              "  }\n",
              "\n",
              "  .colab-df-quickchart:hover {\n",
              "    background-color: var(--hover-bg-color);\n",
              "    box-shadow: 0 1px 2px rgba(60, 64, 67, 0.3), 0 1px 3px 1px rgba(60, 64, 67, 0.15);\n",
              "    fill: var(--button-hover-fill-color);\n",
              "  }\n",
              "\n",
              "  .colab-df-quickchart-complete:disabled,\n",
              "  .colab-df-quickchart-complete:disabled:hover {\n",
              "    background-color: var(--disabled-bg-color);\n",
              "    fill: var(--disabled-fill-color);\n",
              "    box-shadow: none;\n",
              "  }\n",
              "\n",
              "  .colab-df-spinner {\n",
              "    border: 2px solid var(--fill-color);\n",
              "    border-color: transparent;\n",
              "    border-bottom-color: var(--fill-color);\n",
              "    animation:\n",
              "      spin 1s steps(1) infinite;\n",
              "  }\n",
              "\n",
              "  @keyframes spin {\n",
              "    0% {\n",
              "      border-color: transparent;\n",
              "      border-bottom-color: var(--fill-color);\n",
              "      border-left-color: var(--fill-color);\n",
              "    }\n",
              "    20% {\n",
              "      border-color: transparent;\n",
              "      border-left-color: var(--fill-color);\n",
              "      border-top-color: var(--fill-color);\n",
              "    }\n",
              "    30% {\n",
              "      border-color: transparent;\n",
              "      border-left-color: var(--fill-color);\n",
              "      border-top-color: var(--fill-color);\n",
              "      border-right-color: var(--fill-color);\n",
              "    }\n",
              "    40% {\n",
              "      border-color: transparent;\n",
              "      border-right-color: var(--fill-color);\n",
              "      border-top-color: var(--fill-color);\n",
              "    }\n",
              "    60% {\n",
              "      border-color: transparent;\n",
              "      border-right-color: var(--fill-color);\n",
              "    }\n",
              "    80% {\n",
              "      border-color: transparent;\n",
              "      border-right-color: var(--fill-color);\n",
              "      border-bottom-color: var(--fill-color);\n",
              "    }\n",
              "    90% {\n",
              "      border-color: transparent;\n",
              "      border-bottom-color: var(--fill-color);\n",
              "    }\n",
              "  }\n",
              "</style>\n",
              "\n",
              "  <script>\n",
              "    async function quickchart(key) {\n",
              "      const quickchartButtonEl =\n",
              "        document.querySelector('#' + key + ' button');\n",
              "      quickchartButtonEl.disabled = true;  // To prevent multiple clicks.\n",
              "      quickchartButtonEl.classList.add('colab-df-spinner');\n",
              "      try {\n",
              "        const charts = await google.colab.kernel.invokeFunction(\n",
              "            'suggestCharts', [key], {});\n",
              "      } catch (error) {\n",
              "        console.error('Error during call to suggestCharts:', error);\n",
              "      }\n",
              "      quickchartButtonEl.classList.remove('colab-df-spinner');\n",
              "      quickchartButtonEl.classList.add('colab-df-quickchart-complete');\n",
              "    }\n",
              "    (() => {\n",
              "      let quickchartButtonEl =\n",
              "        document.querySelector('#df-afcf2c53-1425-45ba-b6eb-481191a5ee12 button');\n",
              "      quickchartButtonEl.style.display =\n",
              "        google.colab.kernel.accessAllowed ? 'block' : 'none';\n",
              "    })();\n",
              "  </script>\n",
              "</div>\n",
              "\n",
              "    </div>\n",
              "  </div>\n"
            ],
            "text/plain": [
              "      Name  Age       Job\n",
              "0    Alice   25  Engineer\n",
              "1      Bob   30    Doctor\n",
              "2  Charlie   35   Teacher"
            ]
          },
          "execution_count": 55,
          "metadata": {},
          "output_type": "execute_result"
        }
      ],
      "source": [
        "df[df[\"Age\"] >= 20]"
      ]
    },
    {
      "cell_type": "markdown",
      "metadata": {
        "id": "WoLfCtwLkDDr"
      },
      "source": [
        "# Numpy library and `import`\n",
        "Numpy is a python library for mathematical purposes and with good support for vectors and matrices. A library can be loaded into your file using the *import* instruction. We can define an abbreviation for used libraries, so that we do not need to type the full name."
      ]
    },
    {
      "cell_type": "code",
      "execution_count": null,
      "metadata": {
        "colab": {
          "base_uri": "https://localhost:8080/"
        },
        "id": "HfsLDVG-kDDx",
        "outputId": "6a9c7794-28ff-425f-a51d-c63c347eb47b"
      },
      "outputs": [
        {
          "name": "stdout",
          "output_type": "stream",
          "text": [
            "[ 0  1  2  3  4  5  6  7  8  9 10 11 12 13 14]\n"
          ]
        }
      ],
      "source": [
        "import numpy as np\n",
        "\n",
        "a = np.arange(15)\n",
        "print(a)"
      ]
    },
    {
      "cell_type": "code",
      "execution_count": null,
      "metadata": {
        "colab": {
          "base_uri": "https://localhost:8080/"
        },
        "id": "1d42olq0kDDx",
        "outputId": "eb775f1a-89b0-4f59-cef4-263dc598195b"
      },
      "outputs": [
        {
          "name": "stdout",
          "output_type": "stream",
          "text": [
            "[[ 0  1  2]\n",
            " [ 3  4  5]\n",
            " [ 6  7  8]\n",
            " [ 9 10 11]\n",
            " [12 13 14]]\n"
          ]
        }
      ],
      "source": [
        "a = a.reshape(5,3)\n",
        "print(a)"
      ]
    },
    {
      "cell_type": "markdown",
      "metadata": {
        "id": "uviXPtxVkDDx"
      },
      "source": [
        "#### TASK10: defining numpy array\n",
        "\n",
        "Define the numpy arrays (using `np.array`) which contains 10 Zeros, 10 Ones and 10 Fives. (Note: There are more than one solutions)"
      ]
    },
    {
      "cell_type": "code",
      "execution_count": null,
      "metadata": {
        "colab": {
          "base_uri": "https://localhost:8080/"
        },
        "id": "l224f0zwkDDx",
        "outputId": "dc259e6d-aabf-46d6-e7df-cadbe013c05e"
      },
      "outputs": [
        {
          "name": "stdout",
          "output_type": "stream",
          "text": [
            "[1 1 1 1 1 1 1 1 1 1 2 2 2 2 2 2 2 2 2 2 6 6 6 6 6]\n"
          ]
        }
      ],
      "source": [
        "np_array = None\n",
        "\n",
        "## YOUR_CODE_STARTS_HERE\n",
        "np_array = np.array([0] * 10 + [1] * 10 + [5] * 5)\n",
        "## YOUR_CODE_ENDS_HERE\n",
        "## RESULT_CHECKING_POINT  (result should be [1 1 1 1 1 1 1 1 1 1 2 2 2 2 2 2 2 2 2 2 6 6 6 6 6])\n",
        "print(np_array + 1)  # benefit: such matrix-related operations will be extremely fast and convenient"
      ]
    },
    {
      "cell_type": "markdown",
      "metadata": {
        "id": "lp-aaZ5jkDDx"
      },
      "source": [
        "### `np.ndarray.shape`, `np.ndarray.ndim`, `np.ndarray.dtype`\n",
        "\n",
        "__Question__: What is actually the difference between them? Discuss this with your neighbor."
      ]
    },
    {
      "cell_type": "code",
      "execution_count": null,
      "metadata": {
        "colab": {
          "base_uri": "https://localhost:8080/"
        },
        "id": "u4MxwXESkDDx",
        "outputId": "843f2310-72a8-49f3-97ef-ae650789fb64"
      },
      "outputs": [
        {
          "name": "stdout",
          "output_type": "stream",
          "text": [
            "shape of a is: (5, 3)\n",
            "dimensions in a: 2\n",
            "type of a is: int64\n"
          ]
        }
      ],
      "source": [
        "print(\"shape of a is:\", a.shape)\n",
        "print(\"dimensions in a:\", a.ndim)\n",
        "print(\"type of a is:\", a.dtype)"
      ]
    },
    {
      "cell_type": "markdown",
      "metadata": {
        "id": "L6u6tdRIZ_4h"
      },
      "source": [
        "### Numpy math operations"
      ]
    },
    {
      "cell_type": "markdown",
      "metadata": {
        "id": "eBwud5H3kDDx"
      },
      "source": [
        "We can also use the ordinary mathematical operations on vectors, i.e. Numpy-arrays."
      ]
    },
    {
      "cell_type": "code",
      "execution_count": null,
      "metadata": {
        "colab": {
          "base_uri": "https://localhost:8080/"
        },
        "id": "4MnVAj6XkDDx",
        "outputId": "19558d08-8395-4ff0-bcc5-138e70b884d2"
      },
      "outputs": [
        {
          "name": "stdout",
          "output_type": "stream",
          "text": [
            "shapes: (4,) (4,)\n",
            "[10 20 30 40]\n",
            "[0 1 2 3]\n",
            "[10 21 32 43]\n",
            "[10 19 28 37]\n",
            "100\n",
            "[ 100  400  900 1600]\n",
            "[ True  True  True  True]\n",
            "[11 20 30 41]\n"
          ]
        }
      ],
      "source": [
        "a = np.array([10, 20, 30, 40])\n",
        "b = np.arange(4)\n",
        "print(\"shapes:\", a.shape, b.shape)\n",
        "print(a)\n",
        "print(b)\n",
        "print(a + b)\n",
        "print(a - b)\n",
        "print(a.sum())\n",
        "print(a ** 2)\n",
        "print(a > b * 10)\n",
        "a[[0, 3]] += 1\n",
        "print(a)"
      ]
    },
    {
      "cell_type": "markdown",
      "metadata": {
        "id": "1EYaHBCxkDDy"
      },
      "source": [
        "__Question__: What is the difference between the following instructions? Discuss this with your neighbor."
      ]
    },
    {
      "cell_type": "code",
      "execution_count": null,
      "metadata": {
        "colab": {
          "base_uri": "https://localhost:8080/"
        },
        "id": "QJusheszkDDy",
        "outputId": "6427abce-a251-4bbc-f7cb-0be201ecf8fd"
      },
      "outputs": [
        {
          "name": "stdout",
          "output_type": "stream",
          "text": [
            "[22 40 60 82]\n",
            "[  0  20  60 123]\n",
            "203\n"
          ]
        }
      ],
      "source": [
        "print(a * 2)\n",
        "print(a * b)\n",
        "print(a.dot(b))"
      ]
    },
    {
      "cell_type": "markdown",
      "metadata": {
        "id": "JwdbFWm0bTHx"
      },
      "source": [
        "### More ways to create `np.ndarray`"
      ]
    },
    {
      "cell_type": "code",
      "execution_count": null,
      "metadata": {
        "colab": {
          "base_uri": "https://localhost:8080/"
        },
        "id": "ZbauxHDRkDDy",
        "outputId": "e9fec4ca-fea0-4f71-925d-a2b62f2fcd75"
      },
      "outputs": [
        {
          "data": {
            "text/plain": [
              "(array([0., 0., 0., 0.]),\n",
              " array([1., 1., 1., 1.]),\n",
              " array([[2, 2, 2, 2],\n",
              "        [2, 2, 2, 2],\n",
              "        [2, 2, 2, 2]]))"
            ]
          },
          "execution_count": 62,
          "metadata": {},
          "output_type": "execute_result"
        }
      ],
      "source": [
        "np.zeros(4), np.ones(4), np.full((3, 4), 2)"
      ]
    },
    {
      "cell_type": "markdown",
      "metadata": {
        "id": "7aCMNBekdNuT"
      },
      "source": [
        "### TASK 11: `Wx + b`"
      ]
    },
    {
      "cell_type": "markdown",
      "metadata": {
        "id": "Ars8iY4LdT4e"
      },
      "source": [
        "Given the matrix/vector W, x and b, compute `Wx+b`.\n",
        "> Hint: `np.matmul`"
      ]
    },
    {
      "cell_type": "code",
      "execution_count": null,
      "metadata": {
        "colab": {
          "base_uri": "https://localhost:8080/"
        },
        "id": "KjAGPaQUkDDy",
        "outputId": "d0ee8c5e-299a-4d91-d380-1861d9e728b1"
      },
      "outputs": [
        {
          "name": "stdout",
          "output_type": "stream",
          "text": [
            "[ 7. 16. 25.]\n"
          ]
        }
      ],
      "source": [
        "W = np.array([[1,2,3], [4,5,6], [7,8,9]])\n",
        "x = np.ones(3)\n",
        "b = np.ones(3)\n",
        "new_x = None\n",
        "\n",
        "## YOUR_CODE_STARTS_HERE\n",
        "new_x = np.matmul(W, x) + b\n",
        "## YOUR_CODE_ENDS_HERE\n",
        "## RESULT_CHECKING_POINT  (result should be [ 7. 16. 25.])\n",
        "print(new_x)"
      ]
    },
    {
      "cell_type": "markdown",
      "metadata": {
        "id": "ZsiYOk8PgYIj"
      },
      "source": [
        "### Broadcasting"
      ]
    },
    {
      "cell_type": "code",
      "execution_count": null,
      "metadata": {
        "colab": {
          "base_uri": "https://localhost:8080/"
        },
        "id": "t_X0BaY0e6ZB",
        "outputId": "05ebb951-28d4-455e-eb03-3a20edf2998a"
      },
      "outputs": [
        {
          "name": "stdout",
          "output_type": "stream",
          "text": [
            "[[1. 2. 3.]\n",
            " [4. 5. 6.]\n",
            " [7. 8. 9.]]\n"
          ]
        }
      ],
      "source": [
        "A = np.array([[1,2,3], [4,5,6], [7,8,9]])\n",
        "B = np.ones((1, 3))\n",
        "print(A * B)"
      ]
    },
    {
      "cell_type": "markdown",
      "metadata": {
        "id": "bQVZMM0J0xop"
      },
      "source": [
        "# Objective-Oriented Programming\n"
      ]
    },
    {
      "cell_type": "markdown",
      "metadata": {
        "id": "VqhBaBSZ00Zl"
      },
      "source": [
        "## Defining a class"
      ]
    },
    {
      "cell_type": "code",
      "execution_count": null,
      "metadata": {
        "colab": {
          "base_uri": "https://localhost:8080/"
        },
        "id": "ZIsmYERW0ynA",
        "outputId": "93d351f0-4ee2-48a0-cfb4-b98509415ae5"
      },
      "outputs": [
        {
          "name": "stdout",
          "output_type": "stream",
          "text": [
            "Deposited 100 to Alice's account.\n",
            "Balance: 100.0\n"
          ]
        }
      ],
      "source": [
        "class BankAccount:\n",
        "    def __init__(self, account_holder, balance=0.0):\n",
        "        # Initialize the account with the account holder's name and balance\n",
        "        self.account_holder = account_holder\n",
        "        self.balance = balance\n",
        "\n",
        "    def deposit(self, amount):\n",
        "        # Method to deposit money\n",
        "        if amount > 0:\n",
        "            self.balance += amount\n",
        "            print(f\"Deposited {amount} to {self.account_holder}'s account.\")\n",
        "        else:\n",
        "            print(\"Deposit amount must be positive.\")\n",
        "\n",
        "    def withdraw(self, amount):\n",
        "        raise NotImplementedError(\"Withdraw method not implemented.\")\n",
        "\n",
        "    def get_balance(self):\n",
        "        # Return the current balance\n",
        "        return self.balance\n",
        "\n",
        "# Example usage\n",
        "account = BankAccount(\"Alice\")\n",
        "account.deposit(100)\n",
        "print(f\"Balance: {account.get_balance()}\")"
      ]
    },
    {
      "cell_type": "markdown",
      "metadata": {
        "id": "cK3pcPw32PcA"
      },
      "source": [
        "## TASK12: implemet `BankAccount.withdraw`"
      ]
    },
    {
      "cell_type": "code",
      "execution_count": null,
      "metadata": {
        "colab": {
          "base_uri": "https://localhost:8080/"
        },
        "id": "c4nyBoMe1wTG",
        "outputId": "e1cbf516-5dc4-4d35-e833-ccebef3ddca9"
      },
      "outputs": [
        {
          "name": "stdout",
          "output_type": "stream",
          "text": [
            "Balance: 70.0\n"
          ]
        }
      ],
      "source": [
        "def withdraw(self, amount):\n",
        "    # Method to withdraw money\n",
        "    ## YOUR_CODE_STARTS_HERE\n",
        "    if amount > 0 and self.balance >= amount:\n",
        "        self.balance -= amount\n",
        "    ## YOUR_CODE_ENDS_HERE\n",
        "\n",
        "## RESULT_CHECKING_POINT\n",
        "BankAccount.withdraw = withdraw\n",
        "account.withdraw(30)\n",
        "print(f\"Balance: {account.get_balance()}\")"
      ]
    },
    {
      "cell_type": "markdown",
      "metadata": {
        "id": "Mb_eR8IF03vR"
      },
      "source": [
        "## Static Method, Class Method, and Property"
      ]
    },
    {
      "cell_type": "code",
      "execution_count": null,
      "metadata": {
        "colab": {
          "base_uri": "https://localhost:8080/"
        },
        "id": "sdcE2tZl06g9",
        "outputId": "86789a4a-759d-4517-c1c2-bbf4f646fa59"
      },
      "outputs": [
        {
          "name": "stdout",
          "output_type": "stream",
          "text": [
            "Initial balance: 200\n",
            "Balance after deposit: 250\n",
            "Bank follows standard regulations.\n",
            "New interest rate: 0.02\n"
          ]
        }
      ],
      "source": [
        "class BankAccount:\n",
        "    interest_rate = 0.02  # Class-level attribute (shared across instances)\n",
        "\n",
        "    def __init__(self, account_holder, balance=0.0):\n",
        "        self.account_holder = account_holder\n",
        "        self._balance = balance\n",
        "\n",
        "    def deposit(self, amount):\n",
        "        if amount > 0:\n",
        "            self._balance += amount\n",
        "        else:\n",
        "            print(\"Deposit amount must be positive.\")\n",
        "\n",
        "    def withdraw(self, amount):\n",
        "        if amount > 0 and self._balance >= amount:\n",
        "            self._balance -= amount\n",
        "        else:\n",
        "            print(\"Insufficient balance or invalid amount.\")\n",
        "\n",
        "    @staticmethod\n",
        "    def bank_policy():\n",
        "        # Static method to display the bank's general policy (no instance or class data needed)\n",
        "        return \"Bank follows standard regulations.\"\n",
        "\n",
        "    @classmethod\n",
        "    def from_string(cls, account_info_str):\n",
        "        # Class method to create an account from a string representation\n",
        "        raise NotImplementedError(\"from_string method not implemented.\")\n",
        "\n",
        "    @property\n",
        "    def balance(self):\n",
        "        # Property to get the balance (read-only)\n",
        "        return self._balance\n",
        "\n",
        "# Example usage\n",
        "account = BankAccount(\"Bob\", 200)\n",
        "print(f\"Initial balance: {account.balance}\")\n",
        "account.deposit(50)\n",
        "print(f\"Balance after deposit: {account.balance}\")\n",
        "\n",
        "# Access static method\n",
        "print(BankAccount.bank_policy())\n",
        "\n",
        "# Change interest rate using class method\n",
        "print(f\"New interest rate: {BankAccount.interest_rate}\")"
      ]
    },
    {
      "cell_type": "markdown",
      "metadata": {
        "id": "YHlSZ13txkye"
      },
      "source": [
        "## TASK13: `from_string`"
      ]
    },
    {
      "cell_type": "code",
      "execution_count": null,
      "metadata": {
        "colab": {
          "base_uri": "https://localhost:8080/"
        },
        "id": "8n28uj_Q3lir",
        "outputId": "eebed5ab-9400-430e-f0df-7ad531c276a3"
      },
      "outputs": [
        {
          "name": "stdout",
          "output_type": "stream",
          "text": [
            "Holder: Charlie, balance: 350\n"
          ]
        }
      ],
      "source": [
        "@classmethod\n",
        "def from_string(cls, account_info_str):\n",
        "    # Class method to create an account from a string representation\n",
        "    ## YOUR_CODE_STARTS_HERE\n",
        "    account_holder, balance = account_info_str.split(',')\n",
        "    return cls(account_holder, balance)\n",
        "    ## YOUR_CODE_ENDS_HERE\n",
        "\n",
        "# RESULT_CHECKING_POINT  (result should be \"Holder: Charlie, balance: 350\")\n",
        "BankAccount.from_string = from_string\n",
        "bank_account = BankAccount.from_string(\"Charlie,350\")\n",
        "print(f\"Holder: {bank_account.account_holder}, balance: {bank_account.balance}\")"
      ]
    },
    {
      "cell_type": "markdown",
      "metadata": {
        "id": "9ti-Irm9083h"
      },
      "source": [
        "## Abstract Class"
      ]
    },
    {
      "cell_type": "markdown",
      "metadata": {
        "id": "0E2FD4PdzWrh"
      },
      "source": [
        "One can inherit a class directly: `class Parent: ...` -> `class Child(Parent)` in Python. But it provides a more explicit way to do this: via Abstract Base Class (`abc.ABC`)."
      ]
    },
    {
      "cell_type": "code",
      "execution_count": null,
      "metadata": {
        "colab": {
          "base_uri": "https://localhost:8080/"
        },
        "id": "RSLN5Dlq0_p8",
        "outputId": "62b617bc-41aa-4321-f18b-54e6656edb76"
      },
      "outputs": [
        {
          "name": "stdout",
          "output_type": "stream",
          "text": [
            "Deposited 100 to Charlie's account.\n",
            "Withdrew 200 from Charlie's account.\n",
            "Balance: 400\n"
          ]
        }
      ],
      "source": [
        "from abc import ABC, abstractmethod\n",
        "\n",
        "class Account(ABC):\n",
        "    @abstractmethod\n",
        "    def deposit(self, amount):\n",
        "        pass  # Abstract method to be implemented by subclasses\n",
        "\n",
        "    @abstractmethod\n",
        "    def withdraw(self, amount):\n",
        "        pass  # Abstract method to be implemented by subclasses\n",
        "\n",
        "    @abstractmethod\n",
        "    def get_balance(self):\n",
        "        pass  # Abstract method to be implemented by subclasses\n",
        "\n",
        "class BankAccount(Account):\n",
        "    def __init__(self, account_holder, balance=0.0):\n",
        "        self.account_holder = account_holder\n",
        "        self.balance = balance\n",
        "\n",
        "    def deposit(self, amount):\n",
        "        if amount > 0:\n",
        "            self.balance += amount\n",
        "            print(f\"Deposited {amount} to {self.account_holder}'s account.\")\n",
        "        else:\n",
        "            print(\"Deposit amount must be positive.\")\n",
        "\n",
        "    def withdraw(self, amount):\n",
        "        if amount > 0 and self.balance >= amount:\n",
        "            self.balance -= amount\n",
        "            print(f\"Withdrew {amount} from {self.account_holder}'s account.\")\n",
        "        else:\n",
        "            print(\"Insufficient balance or invalid amount.\")\n",
        "\n",
        "    def get_balance(self):\n",
        "        return self.balance\n",
        "\n",
        "# Example usage\n",
        "account = BankAccount(\"Charlie\", 500)\n",
        "account.deposit(100)\n",
        "account.withdraw(200)\n",
        "print(f\"Balance: {account.get_balance()}\")"
      ]
    },
    {
      "cell_type": "markdown",
      "metadata": {
        "id": "QTvHZuS20MzY"
      },
      "source": [
        "One direct benefit of using ABC is that it will raise an exception if one did not inherit the base class properly:"
      ]
    },
    {
      "cell_type": "code",
      "execution_count": null,
      "metadata": {
        "colab": {
          "base_uri": "https://localhost:8080/"
        },
        "id": "bTaAao6ayj5g",
        "outputId": "a61a713d-5a19-40ef-f321-3d53f118f11b"
      },
      "outputs": [
        {
          "name": "stdout",
          "output_type": "stream",
          "text": [
            "<class 'TypeError'> Can't instantiate abstract class BakeryAccount with abstract methods deposit, get_balance, withdraw\n"
          ]
        }
      ],
      "source": [
        "class BakeryAccount(Account):\n",
        "  pass\n",
        "\n",
        "try:\n",
        "  BakeryAccount()\n",
        "except Exception as e:\n",
        "  print(type(e), e)"
      ]
    },
    {
      "cell_type": "markdown",
      "metadata": {
        "id": "K9fWf-A8hYOz"
      },
      "source": [
        "# Decorators and `dataclass`"
      ]
    },
    {
      "cell_type": "markdown",
      "metadata": {
        "id": "-AqqPA-Shdt9"
      },
      "source": [
        "A decorator is a function that takes another function or a class and extends its behavior without explicitly modifying it. This is useful when you want to add some reusable logic before or after a function’s main execution.\n"
      ]
    },
    {
      "cell_type": "code",
      "execution_count": null,
      "metadata": {
        "colab": {
          "base_uri": "https://localhost:8080/"
        },
        "id": "F2t8Ny96hdY-",
        "outputId": "9d948612-f6dc-4966-fdbf-f48320560a09"
      },
      "outputs": [
        {
          "name": "stdout",
          "output_type": "stream",
          "text": [
            "Before executing the function\n",
            "Hello, World!\n",
            "After executing the function\n"
          ]
        }
      ],
      "source": [
        "def decorator_function(original_function):\n",
        "    def wrapper_function(*args, **kwargs):\n",
        "        print(\"Before executing the function\")\n",
        "        result = original_function(*args, **kwargs)\n",
        "        print(\"After executing the function\")\n",
        "        return result\n",
        "    return wrapper_function\n",
        "\n",
        "@decorator_function\n",
        "def display_message():\n",
        "    print(\"Hello, World!\")\n",
        "\n",
        "display_message()"
      ]
    },
    {
      "cell_type": "markdown",
      "metadata": {
        "id": "t-F4jWPJiRoc"
      },
      "source": [
        "Decorator for a class:"
      ]
    },
    {
      "cell_type": "code",
      "execution_count": null,
      "metadata": {
        "colab": {
          "base_uri": "https://localhost:8080/"
        },
        "id": "lC_0WetfiRI7",
        "outputId": "c15921b5-98db-462b-f89f-eb67270f4884"
      },
      "outputs": [
        {
          "name": "stdout",
          "output_type": "stream",
          "text": [
            "Creating an instance of Person\n",
            "Hello, my name is Alice and I am 30 years old.\n"
          ]
        }
      ],
      "source": [
        "def class_logger(cls):\n",
        "    class WrappedClass(cls):\n",
        "        def __init__(self, *args, **kwargs):\n",
        "            print(f\"Creating an instance of {cls.__name__}\")\n",
        "            super().__init__(*args, **kwargs)\n",
        "\n",
        "    return WrappedClass\n",
        "\n",
        "@class_logger\n",
        "class Person:\n",
        "    def __init__(self, name, age):\n",
        "        self.name = name\n",
        "        self.age = age\n",
        "\n",
        "    def greet(self):\n",
        "        return f\"Hello, my name is {self.name} and I am {self.age} years old.\"\n",
        "\n",
        "# Creating an instance of the class\n",
        "person = Person(\"Alice\", 30)\n",
        "print(person.greet())"
      ]
    },
    {
      "cell_type": "markdown",
      "metadata": {
        "id": "CML955JXidFC"
      },
      "source": [
        "Introduced in Python 3.7, the dataclass module is a decorator that automatically generates special methods for classes, such as __init__(), __repr__(), __eq__(), and more. It’s a great way to reduce boilerplate code when defining classes that mainly store data."
      ]
    },
    {
      "cell_type": "code",
      "execution_count": null,
      "metadata": {
        "colab": {
          "base_uri": "https://localhost:8080/"
        },
        "id": "8s_-7XD8ieam",
        "outputId": "cabdb0e3-2802-451e-a5ea-f862025fe353"
      },
      "outputs": [
        {
          "data": {
            "text/plain": [
              "Person(name='Bob', age=10)"
            ]
          },
          "execution_count": 73,
          "metadata": {},
          "output_type": "execute_result"
        }
      ],
      "source": [
        "from dataclasses import dataclass\n",
        "\n",
        "@dataclass\n",
        "class Person:\n",
        "    name: str\n",
        "    age: int\n",
        "\n",
        "Person(\"Bob\", 10)"
      ]
    },
    {
      "cell_type": "markdown",
      "metadata": {
        "id": "GeFg1eF3kDDz"
      },
      "source": [
        "# Type Hints\n",
        "As you have learned by now, the datatypes of variables in python simply depend on what you are assigning to the variable.\n",
        "However, python is still a strongly typed language and the fact that types are not explicitily denoted in the declaration may lead to confusing code. <br>\n",
        "To produce code that is more readible and easier to understand we can use __type hints__ (since Python 3.5).  <br> <br>\n",
        "Using type hints in function declarations we can document the required type of input parameters as well as the type of the function output."
      ]
    },
    {
      "cell_type": "markdown",
      "metadata": {
        "id": "-5QoTX_OkDD0"
      },
      "source": [
        "In the example below we expect two inputs of type `float` one parameter of type `bool` and we will output `str`"
      ]
    },
    {
      "cell_type": "code",
      "execution_count": null,
      "metadata": {
        "id": "fhYbYGG1kDD0"
      },
      "outputs": [],
      "source": [
        "def subtract(a: float, b: float, reverse: bool) -> str:\n",
        "    if reverse:\n",
        "        res = b - a\n",
        "    else:\n",
        "        res = a - b\n",
        "    return f'Result is: {res}'"
      ]
    },
    {
      "cell_type": "markdown",
      "metadata": {
        "id": "E9VPLWM2kDD0"
      },
      "source": [
        "Of course we can also use type hints for lists or dictionaries:"
      ]
    },
    {
      "cell_type": "code",
      "execution_count": null,
      "metadata": {
        "id": "cfWo8LY0kDD0"
      },
      "outputs": [],
      "source": [
        "from typing import List, Dict\n",
        "\n",
        "def addOrExtend(lst: list[str], items: dict[str, List[str]], key: str) -> None:\n",
        "    if key in items:\n",
        "        items[key].extend(lst)\n",
        "    else:\n",
        "        items[key] = lst"
      ]
    },
    {
      "cell_type": "markdown",
      "metadata": {
        "id": "hdIaj9Q3kDD0"
      },
      "source": [
        "And of course you can also use datatypes from additional libraries such as numpy's `array` or pandas' `DataFrame`.\n",
        "Sometimes you will also find the more generic `Mapping` or `Sequence` used as parent class of e.g. `dict` or `list`\n",
        "<br> <br>\n",
        "We encourage you to use type hints in all of the methods and functions that you are going to define in your homework submissions, as this makes it easier to understand and grade your code. All of the methods that will already be implemented or defined will also include type hints to help you with the exercise."
      ]
    },
    {
      "cell_type": "code",
      "execution_count": null,
      "metadata": {
        "id": "RTyWbfAS8eHj"
      },
      "outputs": [],
      "source": []
    }
  ],
  "metadata": {
    "colab": {
      "provenance": [],
      "toc_visible": true
    },
    "kernelspec": {
      "display_name": "nlp4web",
      "language": "python",
      "name": "nlp4web"
    },
    "language_info": {
      "codemirror_mode": {
        "name": "ipython",
        "version": 3
      },
      "file_extension": ".py",
      "mimetype": "text/x-python",
      "name": "python",
      "nbconvert_exporter": "python",
      "pygments_lexer": "ipython3",
      "version": "3.9.7"
    }
  },
  "nbformat": 4,
  "nbformat_minor": 0
}
