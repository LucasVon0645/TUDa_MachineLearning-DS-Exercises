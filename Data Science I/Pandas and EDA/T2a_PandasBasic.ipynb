{
 "cells": [
  {
   "cell_type": "markdown",
   "metadata": {},
   "source": [
    "# Data Science 1 Topic 2"
   ]
  },
  {
   "cell_type": "markdown",
   "metadata": {},
   "source": [
    "## DataFrames"
   ]
  },
  {
   "cell_type": "markdown",
   "metadata": {},
   "source": [
    "### From a dictionary"
   ]
  },
  {
   "cell_type": "markdown",
   "metadata": {},
   "source": [
    "<u>In T0-TupleListDictionary, you've seen the following dictionary. Run the cell.</u>"
   ]
  },
  {
   "cell_type": "code",
   "execution_count": 1,
   "metadata": {},
   "outputs": [],
   "source": [
    "movie_ratings = {'Toy Story':{'rating':4.0, 'genre':'Animation'},\n",
    "                          'Jumanji':{'rating':4.0, 'genre':'Adventure'},\n",
    "                          'Grumpier Old Men':{'rating':4.0, 'genre':'Comedy'},\n",
    "                          'Waiting to Exhale':{'rating':4.0, 'genre':'Comedy'},\n",
    "                          'Father of the Bride Part II':{'rating':5.0, 'genre':'Comedy'}\n",
    "                         }"
   ]
  },
  {
   "cell_type": "markdown",
   "metadata": {},
   "source": [
    "<u>Let's now create a simple DataFrame from this dictionary using [Pandas](https://pandas.pydata.org/) package.<br>Follow the instructions below.</u>"
   ]
  },
  {
   "cell_type": "code",
   "execution_count": 2,
   "metadata": {},
   "outputs": [],
   "source": [
    "# import Pandas package with the alias pd\n",
    "import pandas as pd"
   ]
  },
  {
   "cell_type": "code",
   "execution_count": 3,
   "metadata": {
    "scrolled": true
   },
   "outputs": [
    {
     "data": {
      "text/html": [
       "<div>\n",
       "<style scoped>\n",
       "    .dataframe tbody tr th:only-of-type {\n",
       "        vertical-align: middle;\n",
       "    }\n",
       "\n",
       "    .dataframe tbody tr th {\n",
       "        vertical-align: top;\n",
       "    }\n",
       "\n",
       "    .dataframe thead th {\n",
       "        text-align: right;\n",
       "    }\n",
       "</style>\n",
       "<table border=\"1\" class=\"dataframe\">\n",
       "  <thead>\n",
       "    <tr style=\"text-align: right;\">\n",
       "      <th></th>\n",
       "      <th>Toy Story</th>\n",
       "      <th>Jumanji</th>\n",
       "      <th>Grumpier Old Men</th>\n",
       "      <th>Waiting to Exhale</th>\n",
       "      <th>Father of the Bride Part II</th>\n",
       "    </tr>\n",
       "  </thead>\n",
       "  <tbody>\n",
       "    <tr>\n",
       "      <th>rating</th>\n",
       "      <td>4.0</td>\n",
       "      <td>4.0</td>\n",
       "      <td>4.0</td>\n",
       "      <td>4.0</td>\n",
       "      <td>5.0</td>\n",
       "    </tr>\n",
       "    <tr>\n",
       "      <th>genre</th>\n",
       "      <td>Animation</td>\n",
       "      <td>Adventure</td>\n",
       "      <td>Comedy</td>\n",
       "      <td>Comedy</td>\n",
       "      <td>Comedy</td>\n",
       "    </tr>\n",
       "  </tbody>\n",
       "</table>\n",
       "</div>"
      ],
      "text/plain": [
       "        Toy Story    Jumanji Grumpier Old Men Waiting to Exhale  \\\n",
       "rating        4.0        4.0              4.0               4.0   \n",
       "genre   Animation  Adventure           Comedy            Comedy   \n",
       "\n",
       "       Father of the Bride Part II  \n",
       "rating                         5.0  \n",
       "genre                       Comedy  "
      ]
     },
     "execution_count": 3,
     "metadata": {},
     "output_type": "execute_result"
    }
   ],
   "source": [
    "ratings_df = pd.DataFrame(movie_ratings)\n",
    "\n",
    "# display ratings_df\n",
    "ratings_df.head()"
   ]
  },
  {
   "cell_type": "markdown",
   "metadata": {},
   "source": [
    "### Transposing a DataFrame"
   ]
  },
  {
   "cell_type": "markdown",
   "metadata": {},
   "source": [
    "<u>With this simple DataFrame, let's say we want the rating and genre to be the **columns**.</u>"
   ]
  },
  {
   "cell_type": "code",
   "execution_count": 4,
   "metadata": {},
   "outputs": [
    {
     "name": "stdout",
     "output_type": "stream",
     "text": [
      "                            rating      genre\n",
      "Toy Story                      4.0  Animation\n",
      "Jumanji                        4.0  Adventure\n",
      "Grumpier Old Men               4.0     Comedy\n",
      "Waiting to Exhale              4.0     Comedy\n",
      "Father of the Bride Part II    5.0     Comedy\n"
     ]
    }
   ],
   "source": [
    "# How to use transpose() on a DataFrame? overwrite ratings_df with its transpose\n",
    "ratings_df = ratings_df.transpose()\n",
    "\n",
    "# print ratings_df\n",
    "print(ratings_df)"
   ]
  },
  {
   "cell_type": "markdown",
   "metadata": {},
   "source": [
    "<u>The title of the movies became the **index** of the DataFrame.</u>"
   ]
  },
  {
   "cell_type": "markdown",
   "metadata": {},
   "source": [
    "### Using `reset_index` and  `set_index`"
   ]
  },
  {
   "cell_type": "markdown",
   "metadata": {},
   "source": [
    "<u>What if we don't want the title to be the indices, but as a variable (contained in a column)?<br>The current index has no name, and we want the contents to be under the column `title`. So we'll first rename it, before using `reset_index`.</u>"
   ]
  },
  {
   "cell_type": "code",
   "execution_count": 6,
   "metadata": {
    "scrolled": false
   },
   "outputs": [
    {
     "data": {
      "text/html": [
       "<div>\n",
       "<style scoped>\n",
       "    .dataframe tbody tr th:only-of-type {\n",
       "        vertical-align: middle;\n",
       "    }\n",
       "\n",
       "    .dataframe tbody tr th {\n",
       "        vertical-align: top;\n",
       "    }\n",
       "\n",
       "    .dataframe thead th {\n",
       "        text-align: right;\n",
       "    }\n",
       "</style>\n",
       "<table border=\"1\" class=\"dataframe\">\n",
       "  <thead>\n",
       "    <tr style=\"text-align: right;\">\n",
       "      <th></th>\n",
       "      <th>title</th>\n",
       "      <th>rating</th>\n",
       "      <th>genre</th>\n",
       "    </tr>\n",
       "  </thead>\n",
       "  <tbody>\n",
       "    <tr>\n",
       "      <th>0</th>\n",
       "      <td>Toy Story</td>\n",
       "      <td>4.0</td>\n",
       "      <td>Animation</td>\n",
       "    </tr>\n",
       "    <tr>\n",
       "      <th>1</th>\n",
       "      <td>Jumanji</td>\n",
       "      <td>4.0</td>\n",
       "      <td>Adventure</td>\n",
       "    </tr>\n",
       "    <tr>\n",
       "      <th>2</th>\n",
       "      <td>Grumpier Old Men</td>\n",
       "      <td>4.0</td>\n",
       "      <td>Comedy</td>\n",
       "    </tr>\n",
       "    <tr>\n",
       "      <th>3</th>\n",
       "      <td>Waiting to Exhale</td>\n",
       "      <td>4.0</td>\n",
       "      <td>Comedy</td>\n",
       "    </tr>\n",
       "    <tr>\n",
       "      <th>4</th>\n",
       "      <td>Father of the Bride Part II</td>\n",
       "      <td>5.0</td>\n",
       "      <td>Comedy</td>\n",
       "    </tr>\n",
       "  </tbody>\n",
       "</table>\n",
       "</div>"
      ],
      "text/plain": [
       "                         title rating      genre\n",
       "0                    Toy Story    4.0  Animation\n",
       "1                      Jumanji    4.0  Adventure\n",
       "2             Grumpier Old Men    4.0     Comedy\n",
       "3            Waiting to Exhale    4.0     Comedy\n",
       "4  Father of the Bride Part II    5.0     Comedy"
      ]
     },
     "execution_count": 6,
     "metadata": {},
     "output_type": "execute_result"
    }
   ],
   "source": [
    "# First use rename_axis(), then reset_index(), where should the `title` be?\n",
    "ratings_df = ratings_df.rename_axis(\"title\", axis=0).reset_index()\n",
    "\n",
    "# print ratings_df\n",
    "ratings_df.head()"
   ]
  },
  {
   "cell_type": "code",
   "execution_count": 54,
   "metadata": {},
   "outputs": [
    {
     "name": "stdout",
     "output_type": "stream",
     "text": [
      "rating          4.0\n",
      "genre     Animation\n",
      "Name: Toy Story, dtype: object\n"
     ]
    }
   ],
   "source": [
    "ratings_df = ratings_df.set_index(\"title\")\n",
    "\n",
    "print(ratings_df.loc[\"Toy Story\"])"
   ]
  },
  {
   "cell_type": "code",
   "execution_count": 32,
   "metadata": {},
   "outputs": [],
   "source": [
    "ratings_df = ratings_df.reset_index()\n"
   ]
  },
  {
   "cell_type": "code",
   "execution_count": 55,
   "metadata": {},
   "outputs": [
    {
     "data": {
      "text/plain": [
       "title\n",
       "Toy Story                      True\n",
       "Jumanji                        True\n",
       "Grumpier Old Men               True\n",
       "Waiting to Exhale              True\n",
       "Father of the Bride Part II    True\n",
       "Name: rating, dtype: bool"
      ]
     },
     "execution_count": 55,
     "metadata": {},
     "output_type": "execute_result"
    }
   ],
   "source": [
    "ratings_df.rating > 2"
   ]
  },
  {
   "cell_type": "code",
   "execution_count": 56,
   "metadata": {},
   "outputs": [
    {
     "data": {
      "text/html": [
       "<div>\n",
       "<style scoped>\n",
       "    .dataframe tbody tr th:only-of-type {\n",
       "        vertical-align: middle;\n",
       "    }\n",
       "\n",
       "    .dataframe tbody tr th {\n",
       "        vertical-align: top;\n",
       "    }\n",
       "\n",
       "    .dataframe thead th {\n",
       "        text-align: right;\n",
       "    }\n",
       "</style>\n",
       "<table border=\"1\" class=\"dataframe\">\n",
       "  <thead>\n",
       "    <tr style=\"text-align: right;\">\n",
       "      <th></th>\n",
       "      <th>rating</th>\n",
       "      <th>genre</th>\n",
       "    </tr>\n",
       "    <tr>\n",
       "      <th>title</th>\n",
       "      <th></th>\n",
       "      <th></th>\n",
       "    </tr>\n",
       "  </thead>\n",
       "  <tbody>\n",
       "    <tr>\n",
       "      <th>Toy Story</th>\n",
       "      <td>4.0</td>\n",
       "      <td>Animation</td>\n",
       "    </tr>\n",
       "    <tr>\n",
       "      <th>Jumanji</th>\n",
       "      <td>4.0</td>\n",
       "      <td>Adventure</td>\n",
       "    </tr>\n",
       "    <tr>\n",
       "      <th>Grumpier Old Men</th>\n",
       "      <td>4.0</td>\n",
       "      <td>Comedy</td>\n",
       "    </tr>\n",
       "    <tr>\n",
       "      <th>Waiting to Exhale</th>\n",
       "      <td>4.0</td>\n",
       "      <td>Comedy</td>\n",
       "    </tr>\n",
       "  </tbody>\n",
       "</table>\n",
       "</div>"
      ],
      "text/plain": [
       "                  rating      genre\n",
       "title                              \n",
       "Toy Story            4.0  Animation\n",
       "Jumanji              4.0  Adventure\n",
       "Grumpier Old Men     4.0     Comedy\n",
       "Waiting to Exhale    4.0     Comedy"
      ]
     },
     "execution_count": 56,
     "metadata": {},
     "output_type": "execute_result"
    }
   ],
   "source": [
    "ratings_df.loc[\"Toy Story\":\"Waiting to Exhale\", \"rating\":\"genre\"]"
   ]
  },
  {
   "cell_type": "code",
   "execution_count": 20,
   "metadata": {},
   "outputs": [
    {
     "data": {
      "text/plain": [
       "title\n",
       "Toy Story           Animation\n",
       "Jumanji             Adventure\n",
       "Grumpier Old Men       Comedy\n",
       "Name: genre, dtype: object"
      ]
     },
     "execution_count": 20,
     "metadata": {},
     "output_type": "execute_result"
    }
   ],
   "source": [
    "ratings_df.iloc[0:3, -1]"
   ]
  },
  {
   "cell_type": "markdown",
   "metadata": {},
   "source": [
    "<u>You can simply use `.set_index('title')` on ratings_df to reverse this. <br>We will see later, when using a bigger DataFrame, how `index` and `columns` can be useful.</u>"
   ]
  },
  {
   "cell_type": "markdown",
   "metadata": {},
   "source": [
    "***"
   ]
  },
  {
   "cell_type": "markdown",
   "metadata": {},
   "source": [
    "## Reading csv files"
   ]
  },
  {
   "cell_type": "markdown",
   "metadata": {},
   "source": [
    "<u>We will use the [MovieLens Latest Datasets](https://grouplens.org/datasets/movielens/latest/). Download **ml-latest-small.zip** and extract the zip file. There are four csv files (`links.csv`, `movies.csv`, `ratings.csv`, and `tags.csv`). Take some time to read the README file.<br>We'll first look at `ratings.csv`</u>"
   ]
  },
  {
   "cell_type": "code",
   "execution_count": null,
   "metadata": {},
   "outputs": [],
   "source": [
    "# ONLY IF YOU'RE USING GOOGLE COLAB AND WANT TO MOUNT YOUR DRIVE TO ACCESS YOUR FILES,\n",
    "# uncomment these two lines:\n",
    "# from google.colab import drive\n",
    "# drive.mount('/content/drive')\n",
    "\n",
    "# Once you're done:\n",
    "#drive.flush_and_unmount()\n",
    "\n",
    "# ALTERNATIVE: Upload the file to the session storage (will be deleted once your session ends). \n",
    "# Click on the folder icon, then the icon with the up arrow symbol."
   ]
  },
  {
   "cell_type": "code",
   "execution_count": null,
   "metadata": {},
   "outputs": [],
   "source": [
    "ratings_df = pd.read_csv('ml-latest-small/ratings.csv')"
   ]
  },
  {
   "cell_type": "markdown",
   "metadata": {},
   "source": [
    "<u>Read the rest of the csv files.</u>"
   ]
  },
  {
   "cell_type": "code",
   "execution_count": null,
   "metadata": {},
   "outputs": [],
   "source": [
    "movies_df = pd.read_csv(\"ml-latest-small/movies.csv\")\n",
    "links_df = pd.read_csv(\"ml-latest-small/links.csv\")\n",
    "tags_df = pd.read_csv(\"ml-latest-small/tags.csv\")"
   ]
  },
  {
   "cell_type": "markdown",
   "metadata": {},
   "source": [
    "***"
   ]
  },
  {
   "cell_type": "markdown",
   "metadata": {},
   "source": [
    "## Exploring DataFrames"
   ]
  },
  {
   "cell_type": "markdown",
   "metadata": {},
   "source": [
    "<u>Run the cells below, follow the instructions and inspect the outputs.</u>"
   ]
  },
  {
   "cell_type": "code",
   "execution_count": null,
   "metadata": {},
   "outputs": [],
   "source": [
    "ratings_df.head(3) # without number specification, how many entries will be printed?"
   ]
  },
  {
   "cell_type": "markdown",
   "metadata": {},
   "source": [
    "<u>We want the timestamp column to be more readable and easier to deal with. Let's change it to DateTime format.</u>"
   ]
  },
  {
   "cell_type": "code",
   "execution_count": null,
   "metadata": {},
   "outputs": [],
   "source": [
    "# run this\n",
    "ratings_df[\"time\"] = pd.to_datetime(ratings_df.timestamp, unit='s')\n",
    "ratings_df = ratings_df.drop(columns=\"timestamp\")"
   ]
  },
  {
   "cell_type": "code",
   "execution_count": null,
   "metadata": {},
   "outputs": [],
   "source": [
    "# .tail() will print the last few entries.\n",
    "# show the last 3 entries of ratings_df\n",
    "ratings_df.tail()"
   ]
  },
  {
   "cell_type": "code",
   "execution_count": null,
   "metadata": {
    "scrolled": true
   },
   "outputs": [],
   "source": [
    "# show the first few entries of movies_df\n",
    "movies_df.head()"
   ]
  },
  {
   "cell_type": "code",
   "execution_count": null,
   "metadata": {
    "scrolled": true
   },
   "outputs": [],
   "source": [
    "# show the first few entries of links_df\n",
    "links_df.head()"
   ]
  },
  {
   "cell_type": "code",
   "execution_count": null,
   "metadata": {},
   "outputs": [],
   "source": [
    "tags_df.head()"
   ]
  },
  {
   "cell_type": "code",
   "execution_count": null,
   "metadata": {
    "scrolled": false
   },
   "outputs": [],
   "source": [
    "# tags_df also contains a Unix timestamp, \"timestamp\", column\n",
    "\n",
    "# add a column \"time\" that contains the DateTime format of \"timestamp\"\n",
    "tags_df[\"time\"] = pd.to_datetime(tags_df[\"timestamp\"])\n",
    "\n",
    "# drop the column \"timestamp\"\n",
    "tags_df.drop(columns=\"timestamp\")\n",
    "\n",
    "# show the first few entries of tags_df\n",
    "tags_df.head()"
   ]
  },
  {
   "cell_type": "markdown",
   "metadata": {},
   "source": [
    "<u>Run the following cells and inspect the outputs.</u>"
   ]
  },
  {
   "cell_type": "code",
   "execution_count": null,
   "metadata": {},
   "outputs": [],
   "source": [
    "# Print the size \n",
    "ratings_df.shape"
   ]
  },
  {
   "cell_type": "code",
   "execution_count": null,
   "metadata": {},
   "outputs": [],
   "source": [
    "# Print the information about ratings_df\n",
    "ratings_df.info()"
   ]
  },
  {
   "cell_type": "code",
   "execution_count": null,
   "metadata": {},
   "outputs": [],
   "source": [
    "# Print the description \n",
    "ratings_df.describe()"
   ]
  },
  {
   "cell_type": "markdown",
   "metadata": {},
   "source": [
    "<u>How many entries are there in `ratings_df`? Are there any empty (null) entries?</u>"
   ]
  },
  {
   "cell_type": "markdown",
   "metadata": {},
   "source": [
    "**Ans**: ..."
   ]
  },
  {
   "cell_type": "markdown",
   "metadata": {},
   "source": [
    "<u>Now the userId and movieId are still numerical. We can use .astype(str) or .astype('category')) or pd.Category(...) to change them. But we'll leave them be for now.</u>"
   ]
  },
  {
   "cell_type": "markdown",
   "metadata": {},
   "source": [
    "<u>How do you print the names of the columns and index (or indices)?</u>"
   ]
  },
  {
   "cell_type": "code",
   "execution_count": null,
   "metadata": {},
   "outputs": [],
   "source": [
    "# Print the column names\n",
    "ratings_df.columns"
   ]
  },
  {
   "cell_type": "code",
   "execution_count": null,
   "metadata": {},
   "outputs": [],
   "source": [
    "# Print the indices\n",
    "ratings_df.index"
   ]
  },
  {
   "cell_type": "markdown",
   "metadata": {},
   "source": [
    "## Subsetting and Sorting"
   ]
  },
  {
   "cell_type": "markdown",
   "metadata": {},
   "source": [
    "### Subsetting columns"
   ]
  },
  {
   "cell_type": "code",
   "execution_count": null,
   "metadata": {
    "scrolled": true
   },
   "outputs": [],
   "source": [
    "# Run this cell\n",
    "only_ratings = ratings_df[\"rating\"]"
   ]
  },
  {
   "cell_type": "markdown",
   "metadata": {},
   "source": [
    "<u>Q: What is the data type?</u>"
   ]
  },
  {
   "cell_type": "code",
   "execution_count": null,
   "metadata": {},
   "outputs": [],
   "source": [
    "# print the data type of only_ratings\n",
    "# ___________"
   ]
  },
  {
   "cell_type": "markdown",
   "metadata": {},
   "source": [
    "<u>We can subset multiple columns by passing the column names as a list.</u>"
   ]
  },
  {
   "cell_type": "code",
   "execution_count": null,
   "metadata": {},
   "outputs": [],
   "source": [
    "# Select the columns \"movieId\" and \"rating\"\n",
    "__________\n",
    "\n",
    "# What is the data type?\n",
    "__________"
   ]
  },
  {
   "cell_type": "markdown",
   "metadata": {},
   "source": [
    "### Sorting rows"
   ]
  },
  {
   "cell_type": "markdown",
   "metadata": {},
   "source": [
    "<u>Let's sort the movie based on their ratings (in `rating`).</u>"
   ]
  },
  {
   "cell_type": "code",
   "execution_count": null,
   "metadata": {},
   "outputs": [],
   "source": [
    "ratings_df.sort_values(by=\"rating\")"
   ]
  },
  {
   "cell_type": "markdown",
   "metadata": {},
   "source": [
    "<u>How to get the highest rating movies on the top?</u>"
   ]
  },
  {
   "cell_type": "code",
   "execution_count": null,
   "metadata": {
    "scrolled": false
   },
   "outputs": [],
   "source": [
    "# Pass the argument ascending=False and display the result.\n",
    "ratings_df.sort_values(by=\"rating\", ascending=False).iloc[0]"
   ]
  },
  {
   "cell_type": "markdown",
   "metadata": {},
   "source": [
    "### Sorting rows based on multiple columns"
   ]
  },
  {
   "cell_type": "markdown",
   "metadata": {},
   "source": [
    "<u>To sort the rows based on multiple columns, pass the column names and the `ascending` argument as lists.</u>"
   ]
  },
  {
   "cell_type": "code",
   "execution_count": null,
   "metadata": {},
   "outputs": [],
   "source": [
    "# Try it: sort with descending rating and ascending time\n",
    "ratings_df.sort_values(by=[\"rating\", \"time\"], ascending=[False, True])"
   ]
  },
  {
   "cell_type": "markdown",
   "metadata": {},
   "source": [
    "### Subsetting rows with a Boolean series"
   ]
  },
  {
   "cell_type": "markdown",
   "metadata": {},
   "source": [
    "<u>Run the cells below.</u>"
   ]
  },
  {
   "cell_type": "code",
   "execution_count": null,
   "metadata": {},
   "outputs": [],
   "source": [
    "# This will result in a Boolean series\n",
    "ratings_df[\"userId\"] == 1 "
   ]
  },
  {
   "cell_type": "code",
   "execution_count": null,
   "metadata": {},
   "outputs": [],
   "source": [
    "#Filtering for rows where userId=1\n",
    "ratings_df[ratings_df[\"userId\"]==1]"
   ]
  },
  {
   "cell_type": "markdown",
   "metadata": {},
   "source": [
    "<u>Now create a DataFrame called `high_ratings_df` where it only contains the entries with rating=5.0.</u>"
   ]
  },
  {
   "cell_type": "code",
   "execution_count": null,
   "metadata": {},
   "outputs": [],
   "source": [
    "# Filtering for rows where rating=5.0\n",
    "high_ratings_df = ratings_df[ratings_df[\"rating\"] == 5.0]\n",
    "\n",
    "# Display high_ratings_df \n",
    "high_ratings_df.head()"
   ]
  },
  {
   "cell_type": "markdown",
   "metadata": {},
   "source": [
    "### Subsetting rows with multiple conditions"
   ]
  },
  {
   "cell_type": "markdown",
   "metadata": {},
   "source": [
    "<u>Which movieId did user 1 give 5.0 rating to?</u>"
   ]
  },
  {
   "cell_type": "code",
   "execution_count": null,
   "metadata": {
    "scrolled": true
   },
   "outputs": [],
   "source": [
    "# Construct the Boolean series\n",
    "is_user1 = ratings_df[\"userId\"] == 1\n",
    "is_rating5 = ratings_df[\"rating\"] == 5.0\n",
    "\n",
    "# Try it: Use both Boolean series to subset ratings_df. Which logical operator do you need?\n",
    "_________\n"
   ]
  },
  {
   "cell_type": "markdown",
   "metadata": {},
   "source": [
    "### Subsetting using `.isin()`"
   ]
  },
  {
   "cell_type": "markdown",
   "metadata": {},
   "source": [
    "<u>Say we want to subset the ratings based on more than two conditions, checking the conditions one by one can get quite tedious. In this case, it's better to use `.isin()`.<br>Run the cell below.</u>"
   ]
  },
  {
   "cell_type": "code",
   "execution_count": null,
   "metadata": {},
   "outputs": [],
   "source": [
    "# also results in Boolean series\n",
    "is_movie123 = ratings_df['movieId'].isin([1, 2, 3])\n",
    "\n",
    "#subset ratings_df with is_movie123\n",
    "ratings_df[is_movie123]"
   ]
  },
  {
   "cell_type": "markdown",
   "metadata": {},
   "source": [
    "### Hierarchical indices"
   ]
  },
  {
   "cell_type": "markdown",
   "metadata": {},
   "source": [
    "<u>We've seen how to use `.set_index()` and `.reset_index()`before, now let's try setting multiple indices.</u>"
   ]
  },
  {
   "cell_type": "code",
   "execution_count": null,
   "metadata": {},
   "outputs": [],
   "source": [
    "# create a list of the column names to set as indices\n",
    "indices = [\"userId\", \"movieId\"]\n",
    "\n",
    "# use .set_index() on ratings_df and pass the indices as the argument\n",
    "ratings_multindex = ratings_df.set_index(indices)\n",
    "\n",
    "# print ratings_multindex\n",
    "ratings_multindex.head()"
   ]
  },
  {
   "cell_type": "markdown",
   "metadata": {},
   "source": [
    "### Subsetting with indices"
   ]
  },
  {
   "cell_type": "markdown",
   "metadata": {},
   "source": [
    "<u>Here we'll learn how to use `loc` and `iloc` to subset a DataFrame using its indices.</u>"
   ]
  },
  {
   "cell_type": "markdown",
   "metadata": {},
   "source": [
    "#### Outer index level"
   ]
  },
  {
   "cell_type": "code",
   "execution_count": null,
   "metadata": {},
   "outputs": [],
   "source": [
    "# Run this cell\n",
    "\n",
    "print(tags_df.head(2))\n",
    "\n",
    "# Set tag as the index\n",
    "tags_1idx = tags_df.set_index('tag')\n",
    "tags_1idx.head()"
   ]
  },
  {
   "cell_type": "code",
   "execution_count": null,
   "metadata": {},
   "outputs": [],
   "source": [
    "# print out all indices\n",
    "tags_1idx.index"
   ]
  },
  {
   "cell_type": "markdown",
   "metadata": {},
   "source": [
    "<u> You've seen the following examples in the lecture</u>"
   ]
  },
  {
   "cell_type": "code",
   "execution_count": null,
   "metadata": {},
   "outputs": [],
   "source": [
    "# iloc: by the integer position(s)\n",
    "tags_1idx.iloc[[2,0]]"
   ]
  },
  {
   "cell_type": "code",
   "execution_count": null,
   "metadata": {},
   "outputs": [],
   "source": [
    "# loc: by the label(s)\n",
    "tags_1idx.loc[['funny', 'will ferrell']].tail()"
   ]
  },
  {
   "cell_type": "markdown",
   "metadata": {},
   "source": [
    "#### Inner index level\n",
    "\n",
    "<u>We'll set a second index based on the year of ratings.</u>"
   ]
  },
  {
   "cell_type": "code",
   "execution_count": null,
   "metadata": {},
   "outputs": [],
   "source": [
    "tags_df[\"year\"] = tags_df.time.dt.year\n",
    "\n",
    "tags_2idx = tags_df.set_index(['tag', 'year']).sort_index()\n",
    "tags_2idx.head(10)"
   ]
  },
  {
   "cell_type": "code",
   "execution_count": null,
   "metadata": {},
   "outputs": [],
   "source": [
    "# Try it: Pass a tag and a year to .loc[]\n",
    "tags_2idx.loc[(\"artsy\", 1970)]"
   ]
  },
  {
   "cell_type": "markdown",
   "metadata": {},
   "source": [
    "<u> Run the cells and inspect the results</u>"
   ]
  },
  {
   "cell_type": "code",
   "execution_count": null,
   "metadata": {},
   "outputs": [],
   "source": [
    "# Slicing based on multiple indices\n",
    "print(tags_2idx.loc[(\"funny\",2015):(\"funny\",2017)])\n",
    "print(\"---------------------\")\n",
    "print(tags_2idx.loc[(\"will ferrell\",(2015,2018)),])"
   ]
  },
  {
   "cell_type": "code",
   "execution_count": null,
   "metadata": {},
   "outputs": [],
   "source": [
    "print(tags_2idx.loc[\"Al Pacino\":\"Alicia Vikander\"])\n",
    "print(\"---------------------\")\n",
    "print(tags_2idx.loc[(\"Al Pacino\",2018):(\"Alicia Vikander\",2015)])"
   ]
  },
  {
   "cell_type": "markdown",
   "metadata": {},
   "source": [
    "### Subsetting in both directions"
   ]
  },
  {
   "cell_type": "markdown",
   "metadata": {},
   "source": [
    "<u>This is especially useful if your DataFrame has many columns (variables).</u>"
   ]
  },
  {
   "cell_type": "code",
   "execution_count": null,
   "metadata": {
    "scrolled": true
   },
   "outputs": [],
   "source": [
    "# Try it: display the columns \"userId\" and \"movieId\", \n",
    "# for movies with tag \"funny\" between years 2016-2018\n",
    "# Pass the columns as a tuple\n",
    "print( tags_2idx.loc[(_______,_______):(_______,_______), \n",
    "                     (__________, __________)] )"
   ]
  },
  {
   "cell_type": "markdown",
   "metadata": {},
   "source": [
    "### Slicing by (partial) dates"
   ]
  },
  {
   "cell_type": "markdown",
   "metadata": {},
   "source": [
    "<u>Say we want to see only the ratings made in 2018.</u>"
   ]
  },
  {
   "cell_type": "code",
   "execution_count": null,
   "metadata": {},
   "outputs": [],
   "source": [
    "# Try it: get the Boolean series using logical operator(s) on ratings_df[\"time\"]\n",
    "is_year2018 = ratings_df[\"time\"] == 2018\n",
    "\n",
    "# ratings made in 2018\n",
    "ratings_df[is_year2018]"
   ]
  },
  {
   "cell_type": "code",
   "execution_count": null,
   "metadata": {},
   "outputs": [],
   "source": [
    "ratings_df.head()"
   ]
  },
  {
   "cell_type": "code",
   "execution_count": null,
   "metadata": {},
   "outputs": [],
   "source": [
    "# Alternative: use .dt.year\n",
    "# Get the Boolean series\n",
    "is_year2018 = ratings_df[\"time\"].dt.year==2018\n",
    "\n",
    "# ratings made in 2018\n",
    "ratings_df[is_year2018]"
   ]
  },
  {
   "cell_type": "code",
   "execution_count": null,
   "metadata": {},
   "outputs": [],
   "source": [
    "# Try it: Get the ratings made in years 2000 and 2001.\n",
    "__________"
   ]
  },
  {
   "cell_type": "markdown",
   "metadata": {},
   "source": [
    "## Merging and Pivoting"
   ]
  },
  {
   "cell_type": "markdown",
   "metadata": {},
   "source": [
    "<u>In the lecture we have seen the example of merging and pivoting using `tags_df` and `ratings_df`.</u>"
   ]
  },
  {
   "cell_type": "code",
   "execution_count": null,
   "metadata": {},
   "outputs": [],
   "source": [
    "# Print a few lines from tags_df and ratings_df to remind ourselves how they look like.\n",
    "tags_df.head()\n"
   ]
  },
  {
   "cell_type": "code",
   "execution_count": null,
   "metadata": {},
   "outputs": [],
   "source": [
    "ratings_df.head()"
   ]
  },
  {
   "cell_type": "code",
   "execution_count": null,
   "metadata": {},
   "outputs": [],
   "source": [
    "# Merge the two DataFrames on two columns, \"userId\" and \"movieId\",\n",
    "# by first dropping the time stamp on ratings_df\n",
    "tags_ratings_df = tags_df.merge(ratings_df.drop(columns=[\"time\"]),\n",
    "                                on=[\"userId\", \"movieId\"])\n",
    "\n",
    "tags_ratings_df"
   ]
  },
  {
   "cell_type": "markdown",
   "metadata": {},
   "source": [
    "<u>Read the description in the cell below and run it.</u>"
   ]
  },
  {
   "cell_type": "code",
   "execution_count": null,
   "metadata": {},
   "outputs": [],
   "source": [
    "# Pivot table by year and aggregate the ratings with their average\n",
    "mean_yearly_rating = tags_ratings_df.pivot_table(index=\"tag\", \n",
    "                                                 columns=\"year\",\n",
    "                                                 values=\"rating\", \n",
    "                                                 aggfunc=\"mean\")\n",
    "\n",
    "# This line of code sorts the pivot table by the least occurrence of NAs, \n",
    "# because not every year has data, and replace NAs by \"-\"\n",
    "mean_yearly_rating.iloc[mean_yearly_rating.isnull().sum(axis=1).argsort()].fillna(\"-\").head(10)"
   ]
  },
  {
   "cell_type": "code",
   "execution_count": null,
   "metadata": {},
   "outputs": [],
   "source": [
    "# Try it: Create the table of the median rating per year from 2010 onwards,\n",
    "# set the tag as the index and years as the columns\n",
    "# display 10 lines, sort based on the number the least number of NAs like before, and \n",
    "# replace NAs by blanks (\"\")\n",
    "\n",
    "median_yearly_rating = \n",
    "\n",
    "# display it\n",
    "median_yearly_rating.__________"
   ]
  },
  {
   "cell_type": "code",
   "execution_count": null,
   "metadata": {},
   "outputs": [],
   "source": [
    "# Try it: Create the table of the count of ratings\n",
    "# We're only interested with the tags that start with 'com', e.g. 'comic', 'computer', etc\n",
    "# set the year as the index and tags as the columns\n",
    "# display all lines sorted by year\n",
    "# replace NAs by \"-\"\n",
    "count_yearly_rating = __________\n",
    "\n",
    "# display it\n",
    "count_yearly_rating.___________"
   ]
  }
 ],
 "metadata": {
  "kernelspec": {
   "display_name": "Python 3 (ipykernel)",
   "language": "python",
   "name": "python3"
  },
  "language_info": {
   "codemirror_mode": {
    "name": "ipython",
    "version": 3
   },
   "file_extension": ".py",
   "mimetype": "text/x-python",
   "name": "python",
   "nbconvert_exporter": "python",
   "pygments_lexer": "ipython3",
   "version": "3.11.5"
  },
  "toc": {
   "base_numbering": 1,
   "nav_menu": {},
   "number_sections": true,
   "sideBar": true,
   "skip_h1_title": false,
   "title_cell": "Table of Contents",
   "title_sidebar": "Contents",
   "toc_cell": false,
   "toc_position": {
    "height": "calc(100% - 180px)",
    "left": "10px",
    "top": "150px",
    "width": "310px"
   },
   "toc_section_display": true,
   "toc_window_display": true
  }
 },
 "nbformat": 4,
 "nbformat_minor": 2
}
