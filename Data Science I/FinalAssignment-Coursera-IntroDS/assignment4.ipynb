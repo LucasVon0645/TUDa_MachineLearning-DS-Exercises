{
 "cells": [
  {
   "cell_type": "markdown",
   "metadata": {
    "deletable": false,
    "editable": false,
    "etc_identifier": "653a3605-5bda-4e1f-beef-04a0173d3f41",
    "nbgrader": {
     "cell_type": "markdown",
     "checksum": "60da2e57814a61cf6a81dd670bf35473",
     "grade": false,
     "grade_id": "cell-a6c4f74309fc2379",
     "locked": true,
     "schema_version": 3,
     "solution": false
    }
   },
   "source": [
    "# Assignment 4\n",
    "## Description\n",
    "In this assignment you must read in a file of metropolitan regions and associated sports teams from [assets/wikipedia_data.html](assets/wikipedia_data.html) and answer some questions about each metropolitan region. Each of these regions may have one or more teams from the \"Big 4\": NFL (football, in [assets/nfl.csv](assets/nfl.csv)), MLB (baseball, in [assets/mlb.csv](assets/mlb.csv)), NBA (basketball, in [assets/nba.csv](assets/nba.csv) or NHL (hockey, in [assets/nhl.csv](assets/nhl.csv)). Please keep in mind that all questions are from the perspective of the metropolitan region, and that this file is the \"source of authority\" for the location of a given sports team. Thus teams which are commonly known by a different area (e.g. \"Oakland Raiders\") need to be mapped into the metropolitan region given (e.g. San Francisco Bay Area). This will require some human data understanding outside of the data you've been given (e.g. you will have to hand-code some names, and might need to google to find out where teams are)!\n",
    "\n",
    "For each sport I would like you to answer the question: **what is the win/loss ratio's correlation with the population of the city it is in?** Win/Loss ratio refers to the number of wins over the number of wins plus the number of losses. Remember that to calculate the correlation with [`pearsonr`](https://docs.scipy.org/doc/scipy/reference/generated/scipy.stats.pearsonr.html), so you are going to send in two ordered lists of values, the populations from the wikipedia_data.html file and the win/loss ratio for a given sport in the same order. Average the win/loss ratios for those cities which have multiple teams of a single sport. Each sport is worth an equal amount in this assignment (20%\\*4=80%) of the grade for this assignment. You should only use data **from year 2018** for your analysis -- this is important!\n",
    "\n",
    "## Notes\n",
    "\n",
    "1. Do not include data about the MLS or CFL in any of the work you are doing, we're only interested in the Big 4 in this assignment.\n",
    "2. I highly suggest that you first tackle the four correlation questions in order, as they are all similar and worth the majority of grades for this assignment. This is by design!\n",
    "3. It's fair game to talk with peers about high level strategy as well as the relationship between metropolitan areas and sports teams. However, do not post code solving aspects of the assignment (including such as dictionaries mapping areas to teams, or regexes which will clean up names).\n",
    "4. There may be more teams than the assert statements test, remember to collapse multiple teams in one city into a single value!\n",
    "\n",
    "As this assignment utilizes global variables in the skeleton code, to avoid having errors in your code you can either:\n",
    "\n",
    "1. You can place all of your code within the function definitions for all of the questions (other than import statements).\n",
    "2. You can create copies of all the global variables with the copy() method and proceed as usual."
   ]
  },
  {
   "cell_type": "markdown",
   "metadata": {
    "deletable": false,
    "editable": false,
    "nbgrader": {
     "cell_type": "markdown",
     "checksum": "369ff9ecf0ee04640574205cbc697f94",
     "grade": false,
     "grade_id": "cell-712b2b5da63d4505",
     "locked": true,
     "schema_version": 3,
     "solution": false
    }
   },
   "source": [
    "## Question 1\n",
    "For this question, calculate the win/loss ratio's correlation with the population of the city it is in for the **NHL** using **2018** data."
   ]
  },
  {
   "cell_type": "code",
   "execution_count": 10,
   "metadata": {},
   "outputs": [],
   "source": [
    "import pandas as pd\n",
    "import numpy as np\n",
    "import scipy.stats as stats\n",
    "import re"
   ]
  },
  {
   "cell_type": "code",
   "execution_count": 39,
   "metadata": {},
   "outputs": [],
   "source": [
    "def find_full_team_name(name, name_s):\n",
    "    if (isinstance(name, str)):\n",
    "        match = name_s[name_s.str.contains(name)]\n",
    "        if len(match) > 0: return match.iloc[0]\n",
    "    return name\n",
    "\n",
    "def sport_population_per_region(sport):\n",
    "    filename = \"assets/{}.csv\".format(sport)\n",
    "\n",
    "    sport_df = pd.read_csv(filename)\n",
    "\n",
    "    with open('assets/wikipedia_data.html', 'r', encoding='utf-8') as file:\n",
    "        cities_html_content = file.read()\n",
    "\n",
    "    # import cities_df\n",
    "    # replace <br> and <br/> with a unique delimiter\n",
    "    cities_html_content = cities_html_content.replace('<br>', ';').replace('<br/>', ';')\n",
    "    cities=pd.read_html(cities_html_content)[1]\n",
    "    cities=cities.iloc[:-1,[0,3,5,6,7,8]]\n",
    "\n",
    "    clean_pattern = \"\\[.*\\]|\\(.*\\)|[*+]\"\n",
    "\n",
    "    # clean cities_df\n",
    "    cities = cities.rename(columns={\"Population ;(2016 est.)[8]\": \"Population\"})\n",
    "    cities = cities[[\"Metropolitan area\", \"Population\", sport]]\n",
    "    cities[[\"Metropolitan area\", sport]] = cities[[\"Metropolitan area\", sport]].replace(clean_pattern, \"\", regex=True)\n",
    "    cities[[\"Metropolitan area\", sport]] = cities[[\"Metropolitan area\", sport]].apply(lambda col: col.str.strip())\n",
    "    cities[sport].replace(\"^\\s*$|^—*$\", np.nan, inplace=True, regex=True)\n",
    "    cities[\"Population\"] = pd.to_numeric(cities[\"Population\"])\n",
    "    cities = cities.dropna()\n",
    "\n",
    "    # clean sport_df and filter for 2018\n",
    "    sport_df[\"team\"].replace(clean_pattern, \"\", regex=True, inplace=True)\n",
    "    sport_df[\"team\"] = sport_df[\"team\"].str.strip()\n",
    "    sport_df = sport_df[sport_df[\"year\"] == 2018]\n",
    "    sport_df = sport_df[[\"team\", \"W\", \"L\"]]\n",
    "    remove_rows = sport_df[\"team\"].isin([\"Atlantic Division\", \"Metropolitan Division\",\n",
    "                                         \"Pacific Division\", \"Central Division\",\n",
    "                                         \"Northwest Division\", \n",
    "                                         \"Southeast Division\", \"Southwest Division\",\n",
    "                                         \"AFC East\", \"AFC North\", \"AFC South\", \"AFC West\",\n",
    "                                         \"NFC East\", \"NFC North\", \"NFC South\", \"NFC West\",\n",
    "                                         ])\n",
    "    sport_df = sport_df.drop(index=sport_df[remove_rows].index)\n",
    "    sport_df[\"W\"] = pd.to_numeric(sport_df[\"W\"])\n",
    "    sport_df[\"L\"] = pd.to_numeric(sport_df[\"L\"])\n",
    "\n",
    "    # separate teams from the same region in HTML file\n",
    "    cities_sport_df = cities[[\"Metropolitan area\", sport]].copy()\n",
    "    cities_sport_df[sport] = cities_sport_df[sport].str.split(\";\")\n",
    "    cities_sport_df = cities_sport_df.explode(sport)\n",
    "\n",
    "    # left-merge cities_df with sport_df \n",
    "    cities_sport_df[\"Full Team Name\"] = cities_sport_df[sport].apply(lambda name: find_full_team_name(name, sport_df[\"team\"]))\n",
    "    cities_sport_df = cities_sport_df.merge(sport_df, how=\"left\", left_on=\"Full Team Name\", right_on=\"team\").loc[:, [\"Metropolitan area\", sport, \"W\", \"L\"]]\n",
    "\n",
    "    # calculate W/L Ratio and average per region\n",
    "    cities_sport_df[\"Ratio W/L\"] = cities_sport_df[\"W\"]/(cities_sport_df[\"W\"] + cities_sport_df[\"L\"])\n",
    "    cities_wlratio = cities_sport_df.groupby(\"Metropolitan area\").agg({\"Ratio W/L\": np.mean}).sort_values(by=\"Metropolitan area\")\n",
    "\n",
    "    population_by_region_df = cities.sort_values(by=\"Metropolitan area\")\n",
    "    win_loss_by_region_df = cities_wlratio.sort_values(by=\"Metropolitan area\")\n",
    "    \n",
    "    return [population_by_region_df, win_loss_by_region_df]\n",
    "    \n",
    "\n"
   ]
  },
  {
   "cell_type": "code",
   "execution_count": 30,
   "metadata": {
    "deletable": false,
    "nbgrader": {
     "cell_type": "code",
     "checksum": "1cac4803b02502929f5b1612d48db2b5",
     "grade": false,
     "grade_id": "cell-69b16e4386e58030",
     "locked": false,
     "schema_version": 3,
     "solution": true
    }
   },
   "outputs": [],
   "source": [
    "def nhl_correlation(): \n",
    "    [population_by_region_df, win_loss_by_region_df] = sport_population_per_region(\"NHL\")\n",
    "\n",
    "    population_by_region = population_by_region_df[\"Population\"]\n",
    "    win_loss_by_region = win_loss_by_region_df[\"Ratio W/L\"]\n",
    "\n",
    "    assert len(population_by_region) == len(win_loss_by_region), \"Q1: Your lists must be the same length\"\n",
    "    assert len(population_by_region) == 28, \"Q1: There should be 28 teams being analysed for NHL\"\n",
    "    \n",
    "    return stats.pearsonr(population_by_region, win_loss_by_region)"
   ]
  },
  {
   "cell_type": "code",
   "execution_count": 31,
   "metadata": {},
   "outputs": [
    {
     "data": {
      "text/plain": [
       "PearsonRResult(statistic=0.012486162921209881, pvalue=0.9497182859911808)"
      ]
     },
     "execution_count": 31,
     "metadata": {},
     "output_type": "execute_result"
    }
   ],
   "source": [
    "nhl_correlation()"
   ]
  },
  {
   "cell_type": "markdown",
   "metadata": {
    "deletable": false,
    "editable": false,
    "nbgrader": {
     "cell_type": "markdown",
     "checksum": "988912cae4968d81473f46d783e79c16",
     "grade": false,
     "grade_id": "cell-cb964e690298b71d",
     "locked": true,
     "schema_version": 3,
     "solution": false
    }
   },
   "source": [
    "## Question 2\n",
    "For this question, calculate the win/loss ratio's correlation with the population of the city it is in for the **NBA** using **2018** data."
   ]
  },
  {
   "cell_type": "code",
   "execution_count": 33,
   "metadata": {
    "deletable": false,
    "nbgrader": {
     "cell_type": "code",
     "checksum": "9394222aafc8ccab0a228098ba0d6010",
     "grade": false,
     "grade_id": "cell-5a5f21279e3d3572",
     "locked": false,
     "schema_version": 3,
     "solution": true
    }
   },
   "outputs": [],
   "source": [
    "def nba_correlation():    \n",
    "    [population_by_region_df, win_loss_by_region_df] = sport_population_per_region(\"NBA\")\n",
    "\n",
    "    population_by_region = population_by_region_df[\"Population\"]\n",
    "    win_loss_by_region = win_loss_by_region_df[\"Ratio W/L\"]\n",
    "\n",
    "    assert len(population_by_region) == len(win_loss_by_region), \"Q2: Your lists must be the same length\"\n",
    "    assert len(population_by_region) == 28, \"Q2: There should be 28 teams being analysed for NBA\"\n",
    "\n",
    "    return stats.pearsonr(population_by_region, win_loss_by_region)"
   ]
  },
  {
   "cell_type": "code",
   "execution_count": 32,
   "metadata": {
    "deletable": false,
    "editable": false,
    "nbgrader": {
     "cell_type": "code",
     "checksum": "bbdeb8eb22f525a34c10dc8798324e42",
     "grade": true,
     "grade_id": "cell-e573b2b4a282b470",
     "locked": true,
     "points": 20,
     "schema_version": 3,
     "solution": false
    }
   },
   "outputs": [
    {
     "data": {
      "text/plain": [
       "PearsonRResult(statistic=-0.17657160252844611, pvalue=0.36874741604462974)"
      ]
     },
     "execution_count": 32,
     "metadata": {},
     "output_type": "execute_result"
    }
   ],
   "source": [
    "nba_correlation()"
   ]
  },
  {
   "cell_type": "markdown",
   "metadata": {
    "deletable": false,
    "editable": false,
    "nbgrader": {
     "cell_type": "markdown",
     "checksum": "1a1a5809f675ca033086422007cd73bd",
     "grade": false,
     "grade_id": "cell-96e15e4335df78f4",
     "locked": true,
     "schema_version": 3,
     "solution": false
    }
   },
   "source": [
    "## Question 3\n",
    "For this question, calculate the win/loss ratio's correlation with the population of the city it is in for the **MLB** using **2018** data."
   ]
  },
  {
   "cell_type": "code",
   "execution_count": 34,
   "metadata": {
    "deletable": false,
    "nbgrader": {
     "cell_type": "code",
     "checksum": "27e8c0da6c9fa0dffc10488314335b6c",
     "grade": false,
     "grade_id": "cell-33b00fc3f3467b0c",
     "locked": false,
     "schema_version": 3,
     "solution": true
    }
   },
   "outputs": [],
   "source": [
    "def mlb_correlation(): \n",
    "    [population_by_region_df, win_loss_by_region_df] = sport_population_per_region(\"MLB\")\n",
    "\n",
    "    population_by_region = population_by_region_df[\"Population\"]\n",
    "    win_loss_by_region = win_loss_by_region_df[\"Ratio W/L\"]\n",
    "\n",
    "    assert len(population_by_region) == len(win_loss_by_region), \"Q3: Your lists must be the same length\"\n",
    "    assert len(population_by_region) == 26, \"Q3: There should be 26 teams being analysed for MLB\"\n",
    "\n",
    "    return stats.pearsonr(population_by_region, win_loss_by_region)"
   ]
  },
  {
   "cell_type": "code",
   "execution_count": 35,
   "metadata": {
    "deletable": false,
    "editable": false,
    "nbgrader": {
     "cell_type": "code",
     "checksum": "cda33b094ba19ccc37a481e0dd29e0bc",
     "grade": true,
     "grade_id": "cell-764d4476f425c5a2",
     "locked": true,
     "points": 20,
     "schema_version": 3,
     "solution": false
    }
   },
   "outputs": [
    {
     "data": {
      "text/plain": [
       "PearsonRResult(statistic=0.1502769830266931, pvalue=0.46370703378875616)"
      ]
     },
     "execution_count": 35,
     "metadata": {},
     "output_type": "execute_result"
    }
   ],
   "source": [
    "mlb_correlation()"
   ]
  },
  {
   "cell_type": "markdown",
   "metadata": {
    "deletable": false,
    "editable": false,
    "nbgrader": {
     "cell_type": "markdown",
     "checksum": "6977a6da9ed6d8b7a0b7e37bbeda709b",
     "grade": false,
     "grade_id": "cell-793df6c04dfb126e",
     "locked": true,
     "schema_version": 3,
     "solution": false
    }
   },
   "source": [
    "## Question 4\n",
    "For this question, calculate the win/loss ratio's correlation with the population of the city it is in for the **NFL** using **2018** data."
   ]
  },
  {
   "cell_type": "code",
   "execution_count": 36,
   "metadata": {
    "deletable": false,
    "nbgrader": {
     "cell_type": "code",
     "checksum": "c4914ad1e119278ec2bd567c52640b66",
     "grade": false,
     "grade_id": "cell-8ccebc209aeec8d9",
     "locked": false,
     "schema_version": 3,
     "solution": true
    }
   },
   "outputs": [],
   "source": [
    "def nfl_correlation(): \n",
    "    [population_by_region_df, win_loss_by_region_df] = sport_population_per_region(\"NFL\")\n",
    "\n",
    "    population_by_region = population_by_region_df[\"Population\"]\n",
    "    win_loss_by_region = win_loss_by_region_df[\"Ratio W/L\"]\n",
    "\n",
    "    assert len(population_by_region) == len(win_loss_by_region), \"Q4: Your lists must be the same length\"\n",
    "    assert len(population_by_region) == 29, \"Q4: There should be 29 teams being analysed for NFL\"\n",
    "\n",
    "    return stats.pearsonr(population_by_region, win_loss_by_region)"
   ]
  },
  {
   "cell_type": "code",
   "execution_count": 37,
   "metadata": {},
   "outputs": [
    {
     "data": {
      "text/plain": [
       "PearsonRResult(statistic=0.004922112149349456, pvalue=0.9797833458363692)"
      ]
     },
     "execution_count": 37,
     "metadata": {},
     "output_type": "execute_result"
    }
   ],
   "source": [
    "nfl_correlation()"
   ]
  },
  {
   "cell_type": "markdown",
   "metadata": {
    "deletable": false,
    "editable": false,
    "nbgrader": {
     "cell_type": "markdown",
     "checksum": "b02d5cd3273f561e4ae939bb2a41740c",
     "grade": false,
     "grade_id": "cell-97b49d8639e908c4",
     "locked": true,
     "schema_version": 3,
     "solution": false
    }
   },
   "source": [
    "## Question 5\n",
    "In this question I would like you to explore the hypothesis that **given that an area has two sports teams in different sports, those teams will perform the same within their respective sports**. How I would like to see this explored is with a series of paired t-tests (so use [`ttest_rel`](https://docs.scipy.org/doc/scipy/reference/generated/scipy.stats.ttest_rel.html)) between all pairs of sports. Are there any sports where we can reject the null hypothesis? Again, average values where a sport has multiple teams in one region. Remember, you will only be including, for each sport, cities which have teams engaged in that sport, drop others as appropriate. This question is worth 20% of the grade for this assignment."
   ]
  },
  {
   "cell_type": "code",
   "execution_count": 58,
   "metadata": {
    "deletable": false,
    "nbgrader": {
     "cell_type": "code",
     "checksum": "6d78c961eb66f8d8c81f06d33ae8f393",
     "grade": false,
     "grade_id": "cell-92f25f44b8d1179f",
     "locked": false,
     "schema_version": 3,
     "solution": true
    }
   },
   "outputs": [],
   "source": [
    "import pandas as pd\n",
    "import numpy as np\n",
    "import scipy.stats as stats\n",
    "import re\n",
    "\n",
    "def sports_team_performance():\n",
    "    [_, win_loss_by_region_nfl_df] = sport_population_per_region(\"NFL\")\n",
    "    [_, win_loss_by_region_mlb_df] = sport_population_per_region(\"MLB\")\n",
    "    [_, win_loss_by_region_nhl_df] = sport_population_per_region(\"NHL\")\n",
    "    [_, win_loss_by_region_nba_df] = sport_population_per_region(\"NBA\")\n",
    "\n",
    "    win_loss_by_region_nfl_df = win_loss_by_region_nfl_df.rename(columns={\"Ratio W/L\": \"NFL\"})\n",
    "    win_loss_by_region_mlb_df = win_loss_by_region_mlb_df.rename(columns={\"Ratio W/L\": \"MLB\"})\n",
    "    win_loss_by_region_nhl_df = win_loss_by_region_nhl_df.rename(columns={\"Ratio W/L\": \"NHL\"})\n",
    "    win_loss_by_region_nba_df = win_loss_by_region_nba_df.rename(columns={\"Ratio W/L\": \"NBA\"})\n",
    "\n",
    "    wl_ratio_per_region_per_sport = pd.concat([win_loss_by_region_nfl_df, win_loss_by_region_mlb_df, win_loss_by_region_nhl_df, win_loss_by_region_nba_df], axis=1)\n",
    "\n",
    "    # Note: p_values is a full dataframe, so df.loc[\"NFL\",\"NBA\"] should be the same as df.loc[\"NBA\",\"NFL\"] and\n",
    "    # df.loc[\"NFL\",\"NFL\"] should return np.nan\n",
    "    sports = ['NFL', 'NBA', 'NHL', 'MLB']\n",
    "    p_values = pd.DataFrame({k:np.nan for k in sports}, index=sports)\n",
    "\n",
    "    for i in range(len(sports)):\n",
    "        for j in range(i+1, len(sports)):\n",
    "            column_name1 = sports[i]\n",
    "            column_name2 = sports[j]\n",
    "\n",
    "            data = wl_ratio_per_region_per_sport[[column_name1, column_name2]]\n",
    "            data = data.dropna()\n",
    "            \n",
    "            p_values.loc[column_name1, column_name2] = stats.ttest_rel(data[column_name1], data[column_name2]).pvalue\n",
    "            p_values.loc[column_name2, column_name1] = p_values.loc[column_name1, column_name2]\n",
    "    \n",
    "    assert abs(p_values.loc[\"NBA\", \"NHL\"] - 0.02) <= 1e-2, \"The NBA-NHL p-value should be around 0.02\"\n",
    "    assert abs(p_values.loc[\"MLB\", \"NFL\"] - 0.80) <= 1e-2, \"The MLB-NFL p-value should be around 0.80\"\n",
    "    return p_values"
   ]
  },
  {
   "cell_type": "code",
   "execution_count": 59,
   "metadata": {},
   "outputs": [
    {
     "data": {
      "text/html": [
       "<div>\n",
       "<style scoped>\n",
       "    .dataframe tbody tr th:only-of-type {\n",
       "        vertical-align: middle;\n",
       "    }\n",
       "\n",
       "    .dataframe tbody tr th {\n",
       "        vertical-align: top;\n",
       "    }\n",
       "\n",
       "    .dataframe thead th {\n",
       "        text-align: right;\n",
       "    }\n",
       "</style>\n",
       "<table border=\"1\" class=\"dataframe\">\n",
       "  <thead>\n",
       "    <tr style=\"text-align: right;\">\n",
       "      <th></th>\n",
       "      <th>NFL</th>\n",
       "      <th>NBA</th>\n",
       "      <th>NHL</th>\n",
       "      <th>MLB</th>\n",
       "    </tr>\n",
       "  </thead>\n",
       "  <tbody>\n",
       "    <tr>\n",
       "      <th>NFL</th>\n",
       "      <td>NaN</td>\n",
       "      <td>0.941792</td>\n",
       "      <td>0.030883</td>\n",
       "      <td>0.802069</td>\n",
       "    </tr>\n",
       "    <tr>\n",
       "      <th>NBA</th>\n",
       "      <td>0.941792</td>\n",
       "      <td>NaN</td>\n",
       "      <td>0.022297</td>\n",
       "      <td>0.950540</td>\n",
       "    </tr>\n",
       "    <tr>\n",
       "      <th>NHL</th>\n",
       "      <td>0.030883</td>\n",
       "      <td>0.022297</td>\n",
       "      <td>NaN</td>\n",
       "      <td>0.000708</td>\n",
       "    </tr>\n",
       "    <tr>\n",
       "      <th>MLB</th>\n",
       "      <td>0.802069</td>\n",
       "      <td>0.950540</td>\n",
       "      <td>0.000708</td>\n",
       "      <td>NaN</td>\n",
       "    </tr>\n",
       "  </tbody>\n",
       "</table>\n",
       "</div>"
      ],
      "text/plain": [
       "          NFL       NBA       NHL       MLB\n",
       "NFL       NaN  0.941792  0.030883  0.802069\n",
       "NBA  0.941792       NaN  0.022297  0.950540\n",
       "NHL  0.030883  0.022297       NaN  0.000708\n",
       "MLB  0.802069  0.950540  0.000708       NaN"
      ]
     },
     "execution_count": 59,
     "metadata": {},
     "output_type": "execute_result"
    }
   ],
   "source": [
    "sports_team_performance()"
   ]
  }
 ],
 "metadata": {
  "kernelspec": {
   "display_name": "Python 3 (ipykernel)",
   "language": "python",
   "name": "python3"
  },
  "language_info": {
   "codemirror_mode": {
    "name": "ipython",
    "version": 3
   },
   "file_extension": ".py",
   "mimetype": "text/x-python",
   "name": "python",
   "nbconvert_exporter": "python",
   "pygments_lexer": "ipython3",
   "version": "3.11.5"
  }
 },
 "nbformat": 4,
 "nbformat_minor": 4
}
