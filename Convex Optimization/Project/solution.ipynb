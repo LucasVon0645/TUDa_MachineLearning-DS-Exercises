{
 "cells": [
  {
   "cell_type": "markdown",
   "metadata": {},
   "source": [
    "# Course Project - Convex Optimization for Signal Processing and Communications\n",
    "\n",
    "- Student: Lucas von Ancken Garcia\n",
    "- Matrikelnummer: 2576600 "
   ]
  },
  {
   "cell_type": "code",
   "execution_count": 1,
   "metadata": {},
   "outputs": [],
   "source": [
    "import numpy as np\n",
    "import os\n",
    "import cvxpy as cvx\n",
    "\n",
    "np.random.seed(1)\n",
    "np.set_printoptions(precision=3, suppress=True, linewidth=np.inf)"
   ]
  },
  {
   "cell_type": "markdown",
   "metadata": {},
   "source": [
    "## Auxillary Methods"
   ]
  },
  {
   "cell_type": "code",
   "execution_count": 2,
   "metadata": {},
   "outputs": [],
   "source": [
    "# Generation of the complex Channel Matrix H\n",
    "def generate_channel_matrix(m, n):\n",
    "    real_part = np.random.normal(0, np.sqrt(0.5), (m,n))\n",
    "    imag_part = np.random.normal(0, np.sqrt(0.5), (m,n))\n",
    "\n",
    "    return real_part + 1j*imag_part\n",
    "\n",
    "# Generate white noise vector\n",
    "def generate_white_noise(n):\n",
    "    real_part = np.random.normal(0, np.sqrt(0.5), n)\n",
    "    imag_part = np.random.normal(0, np.sqrt(0.5), n)\n",
    "\n",
    "    return real_part + 1j*imag_part\n",
    "\n",
    "def generate_random_channel_vector(n, mean, std):\n",
    "    real_part = np.random.normal(mean, std, n)\n",
    "    imag_part = np.random.normal(mean, std, n)\n",
    "    \n",
    "    return (real_part + 1j*imag_part).reshape(n,1)\n",
    "\n",
    "def matrix_square_root(R):\n",
    "    # Eigenvalue decomposition. The eigenvectors are normalized\n",
    "    eigenvalues, eigenvectors = np.linalg.eigh(R)\n",
    "    \n",
    "    # Calculate the square root of the diagonal eigenvalue matrix\n",
    "    sqrt_eigenvalues = np.sqrt(eigenvalues)\n",
    "    sqrt_eigenvalue_matrix = np.diag(sqrt_eigenvalues)\n",
    "    \n",
    "    # Reconstruct the square root matrix\n",
    "    R_sqrt = eigenvectors @ sqrt_eigenvalue_matrix @ eigenvectors.T\n",
    "    return R_sqrt\n",
    "\n",
    "def generate_random_hermitian_psd_matrix(n):\n",
    "    # Generate a random matrix A\n",
    "    A = np.random.randn(n, n) + 1j*np.random.randn(n, n)\n",
    "    \n",
    "    # Construct a symmetric matrix by multiplying A with its transpose\n",
    "    A = np.dot(A, A.conj().T)/5\n",
    "    \n",
    "    return A\n",
    "\n",
    "def generate_random_symmetric_psd_matrix(n):\n",
    "    # Generate a random matrix A\n",
    "    A = np.random.randn(n, n)\n",
    "    \n",
    "    # Construct a symmetric matrix by multiplying A with its transpose\n",
    "    A = np.dot(A, A.conj().T)\n",
    "    \n",
    "    return A"
   ]
  },
  {
   "cell_type": "code",
   "execution_count": 3,
   "metadata": {},
   "outputs": [],
   "source": [
    "def save_results(filename, num_tx, num_rx, power_limit_per_tx, total_power, prob, objective, constraints, P, H, Rn, hc=None):\n",
    "    # Create results directory if it does not exist\n",
    "    if not os.path.exists('./results'):\n",
    "        os.makedirs('./results')\n",
    "\n",
    "    # Initialize the result string\n",
    "    result = \"SIMULATION OUTPUT FILE\"\n",
    "\n",
    "    # Append constants section\n",
    "    result += \"CONSTANTS\\n\\n\"\n",
    "    result += \"Number of Transmitters: {}\\n\".format(num_tx)\n",
    "    result += \"Number of Receivers: {}\\n\".format(num_rx)\n",
    "    result += \"Power Limits per TX: {} (sum = {})\\n\".format(power_limit_per_tx, sum(power_limit_per_tx))\n",
    "    result += \"Total Power Limit: {}\\n\\n\\n\".format(total_power)\n",
    "\n",
    "    # Append input parameters section\n",
    "    result += \"INPUT PARAMETERS\\n\\n\"\n",
    "    result += \"Covariance Matrix Noise Rn = \\n{}\\n\".format(Rn)\n",
    "    result += \"Channel Matrix  H = \\n{}\\n\\n\\n\".format(H.value)\n",
    "\n",
    "    # Append results section\n",
    "    result += \"\\n\\n--------------------\\n\"\n",
    "    result += \"RESULTS\"\n",
    "    result += \"\\n--------------------\\n\"\n",
    "    result += \"Status: {}\\n\".format(prob.status)\n",
    "    result += \"Num iterations: {}\\n\".format(prob.solver_stats.num_iters)\n",
    "    result += \"Solve Time: {}\\n\".format(prob.solver_stats.solve_time)\n",
    "    result += \"Solver name: {}\\n\".format(prob.solver_stats.solver_name)\n",
    "    result += \"Optimal value: {}\\n\".format(objective.value)\n",
    "    result += \"Num of Constraints: {}\\n\\n\".format(len(constraints))\n",
    "    result += \"\\n\"\n",
    "    result += \"P* = \\n{}\\n\".format(P.value)\n",
    "    result += \"Eigenvalues of P* = {}\\n\".format(np.linalg.eigvalsh(P.value))\n",
    "    result += \"Actual Total Power of the Optimal Solution: {}\\n\".format(P.value.trace())\n",
    "    if hc is not None:\n",
    "        interference = np.trace(P.value @ (hc @ hc.conjugate().transpose()))\n",
    "        result += \"Interference in new user: {}\\n\".format(interference)\n",
    "    result += \"\\n\\n--------------------\\n\"\n",
    "    result += \"Lagrange Multipliers\"\n",
    "    result += \"\\n--------------------\\n\"\n",
    "    result += \"For P >= 0: \\n{}\\n\".format(constraints[0].dual_value)\n",
    "    result += \"Eigenvalues of Lagrange Multiplier of P >=0: {}\\n\".format(np.linalg.eigvalsh(constraints[0].dual_value))\n",
    "    result += \"For total power:\\n{}\\n\".format(constraints[1].dual_value)\n",
    "    result += \"For the limit power of each TX:\\n{}\\n\".format([x.dual_value for x in constraints[2:]])\n",
    "    if hc is not None:\n",
    "        result += \"For the zero interference in new user: \\n{}\\n\".format(constraints[-1].dual_value)\n",
    "\n",
    "    # Print the result to the console\n",
    "    print(result)\n",
    "\n",
    "    # Save the result to a file\n",
    "    with open(os.path.join('./results', filename), 'w') as file:\n",
    "        file.write(result)\n",
    "    \n",
    "def save_average_results(filename, Rn_avg, H_avg, optimal_value_avg, P_avg, num_iter):\n",
    "    # Create the results string\n",
    "    results = []\n",
    "    \n",
    "    results.append(\"AVERAGE INPUT PARAMETERS\\n\")\n",
    "    results.append(\"\\n\")\n",
    "    results.append(\"Average Noise Covariance Matrix Rn = {}\\n\".format(Rn_avg))\n",
    "    results.append(\"Average Channel Matrix H = \\n\")\n",
    "    results.append(\"{}\\n\".format(H_avg))\n",
    "    results.append(\"\\n\")\n",
    "    results.append(\"\\n\")\n",
    "\n",
    "    results.append(\"RESULTS\\n\")\n",
    "    results.append(\"\\n\")\n",
    "    results.append(\"Number of averaged iterations: {}\\n\".format(num_iter))\n",
    "    results.append(\"Optimal Value Average: {}\\n\".format(optimal_value_avg))\n",
    "    results.append(\"Average P* = \\n\")\n",
    "    results.append(\"{}\\n\".format(P_avg))\n",
    "\n",
    "    # Join the results list into a single string\n",
    "    results_string = \"\".join(results)\n",
    "\n",
    "    # Print the results string to the screen\n",
    "    print(results_string)\n",
    "\n",
    "    # Ensure the directory exists\n",
    "    os.makedirs(\"./results\", exist_ok=True)\n",
    "\n",
    "    # Save the results string to the specified file\n",
    "    file_path = os.path.join(\"./results\", filename)\n",
    "    with open(file_path, 'w') as file:\n",
    "        file.write(results_string)"
   ]
  },
  {
   "cell_type": "markdown",
   "metadata": {},
   "source": [
    "## Problem 1\n",
    "\n",
    "Given a single-user (point-to-point) MIMO communication channel with the channel matrix $H$ and zero mean\n",
    "colored noise $n$ at the receiver antennas, the received symbol at the receiver is $y = H^H \\cdot x + n$, where $x$ is the\n",
    "transmitted symbol with zero mean. We want to **design the optimal transmit covariance matrix** that **maximizes the transmission rate** of the MIMO system. We assume that some of the **antennas have power constraints** that\n",
    "restrict the transmitted power. Furthermore, **a sum power constraint applies**.\n",
    "\n",
    "Generate required data to implement the problem formulation in CVX. Average the simulation results with Monte Carlo iterations."
   ]
  },
  {
   "cell_type": "code",
   "execution_count": 4,
   "metadata": {},
   "outputs": [],
   "source": [
    "VerboseMode = False\n",
    "\n",
    "num_tx = 6  # Number of transmit antennas\n",
    "num_rx = 4  # Number of receive antennas\n",
    "\n",
    "total_power = 65\n",
    "\n",
    "power_limit_per_tx = [9, 18, 10, 8, 12, 16]\n"
   ]
  },
  {
   "cell_type": "code",
   "execution_count": 5,
   "metadata": {},
   "outputs": [],
   "source": [
    "\n",
    "H = cvx.Parameter((num_tx, num_rx), complex=True)\n",
    "Rn_sqr_inv = cvx.Parameter((num_rx, num_rx), hermitian=True)\n",
    "\n",
    "P = cvx.Variable((num_tx, num_tx), hermitian=True)\n",
    "\n",
    "objective = cvx.Maximize(cvx.log_det(np.identity(num_rx) + Rn_sqr_inv @ cvx.conj(H.T) @ P @ H @ Rn_sqr_inv))\n",
    "\n",
    "constraints = [P >> 0, cvx.real(cvx.trace(P)) <= total_power]\n",
    "\n",
    "for i in range(num_tx):\n",
    "    constraints.append(cvx.real(P[i, i]) <= power_limit_per_tx[i])\n",
    "\n",
    "prob = cvx.Problem(objective, constraints)"
   ]
  },
  {
   "cell_type": "code",
   "execution_count": 6,
   "metadata": {},
   "outputs": [
    {
     "name": "stderr",
     "output_type": "stream",
     "text": [
      "c:\\Users\\User\\anaconda3\\Lib\\site-packages\\cvxpy\\reductions\\solvers\\solving_chain.py:237: UserWarning: You are solving a parameterized problem that is not DPP. Because the problem is not DPP, subsequent solves will not be faster than the first one. For more information, see the documentation on Disciplined Parametrized Programming, at https://www.cvxpy.org/tutorial/dpp/index.html\n",
      "  warnings.warn(DPP_ERROR_MSG)\n"
     ]
    },
    {
     "data": {
      "text/plain": [
       "23.214265498443012"
      ]
     },
     "execution_count": 6,
     "metadata": {},
     "output_type": "execute_result"
    }
   ],
   "source": [
    "\n",
    "# Rn_sqr = generate_random_symmetrical_psd_matrix(num_rx)\n",
    "Rn_sqr = generate_random_hermitian_psd_matrix(num_rx)\n",
    "Rn = Rn_sqr @ Rn_sqr\n",
    "\n",
    "H.value = generate_channel_matrix(num_tx, num_rx)\n",
    "Rn_sqr_inv.value = np.linalg.inv(Rn_sqr)\n",
    "\n",
    "H_used_first_iteration = np.copy(H.value)\n",
    "Rn_sqr_inv_used_first_iteration = np.copy(Rn_sqr_inv.value)\n",
    "\n",
    "# For optimal results, not inaccurate, uncomment command below\n",
    "prob.solve(verbose=VerboseMode, max_iters=int(10e6))\n",
    "# prob.solve(verbose=VerboseMode)"
   ]
  },
  {
   "cell_type": "markdown",
   "metadata": {},
   "source": [
    "### Problem 1 results for first iteration"
   ]
  },
  {
   "cell_type": "code",
   "execution_count": 7,
   "metadata": {},
   "outputs": [
    {
     "name": "stdout",
     "output_type": "stream",
     "text": [
      "SIMULATION OUTPUT FILECONSTANTS\n",
      "\n",
      "Number of Transmitters: 6\n",
      "Number of Receivers: 4\n",
      "Power Limits per TX: [9, 18, 10, 8, 12, 16] (sum = 73)\n",
      "Total Power Limit: 65\n",
      "\n",
      "\n",
      "INPUT PARAMETERS\n",
      "\n",
      "Covariance Matrix Noise Rn = \n",
      "[[3.233+0.j    2.31 +3.628j 1.95 -2.023j 0.12 +0.368j]\n",
      " [2.31 -3.628j 9.704+0.j    2.357-3.332j 2.855+1.571j]\n",
      " [1.95 +2.023j 2.357+3.332j 5.133+0.j    1.897+1.29j ]\n",
      " [0.12 -0.368j 2.855-1.571j 1.897-1.29j  1.99 +0.j   ]]\n",
      "Channel Matrix  H = \n",
      "[[-0.486+0.593j -0.598+0.658j -0.475+0.202j -0.009+0.626j]\n",
      " [-0.79 -0.533j  0.166+0.886j  1.174+0.363j  0.525-0.211j]\n",
      " [-0.136+0.345j -0.628-0.053j -0.528+0.8j    1.197+1.075j]\n",
      " [ 0.036+1.545j -0.45 -0.987j  0.135-1.021j  1.485-0.357j]\n",
      " [ 0.085+0.113j  0.436+0.62j   0.212+0.223j -0.249-1.43j ]\n",
      " [-0.808-0.217j -0.247+0.585j -0.148+0.163j  0.415+0.539j]]\n",
      "\n",
      "\n",
      "\n",
      "\n",
      "--------------------\n",
      "RESULTS\n",
      "--------------------\n",
      "Status: optimal\n",
      "Num iterations: 3080650\n",
      "Solve Time: 849.7130302\n",
      "Solver name: SCS\n",
      "Optimal value: 23.214265498443012\n",
      "Num of Constraints: 8\n",
      "\n",
      "\n",
      "P* = \n",
      "[[ 9.   +0.j    -2.387-3.444j  2.547+5.322j -1.38 -1.037j  0.69 +3.361j  7.508-2.471j]\n",
      " [-2.387+3.444j 15.635+0.j    -2.591-5.599j -1.861+4.609j  1.526+3.215j  5.386+1.467j]\n",
      " [ 2.547-5.322j -2.591+5.599j 10.   +0.j     1.23 +2.028j -4.806+4.257j  2.083-2.537j]\n",
      " [-1.38 +1.037j -1.861-4.609j  1.23 -2.028j  8.   +0.j    -3.649+3.521j -2.146-0.8j  ]\n",
      " [ 0.69 -3.361j  1.526-3.215j -4.806-4.257j -3.649-3.521j 12.   +0.j    -0.179-5.864j]\n",
      " [ 7.508+2.471j  5.386-1.467j  2.083+2.537j -2.146+0.8j   -0.179+5.864j 10.365+0.j   ]]\n",
      "Eigenvalues of P* = [-0.    -0.     0.    15.924 23.692 25.384]\n",
      "Actual Total Power of the Optimal Solution: (65.00009340891988+0j)\n",
      "\n",
      "\n",
      "--------------------\n",
      "Lagrange Multipliers\n",
      "--------------------\n",
      "For P >= 0: \n",
      "[[ 0.003+0.j    -0.001+0.j    -0.002-0.001j -0.002+0.004j -0.   +0.003j -0.003+0.001j]\n",
      " [-0.001-0.j     0.006+0.j     0.003+0.006j  0.002-0.006j  0.001-0.001j -0.003-0.002j]\n",
      " [-0.002+0.001j  0.003-0.006j  0.011-0.j    -0.003-0.006j  0.002-0.004j -0.001+0.004j]\n",
      " [-0.002-0.004j  0.002+0.006j -0.003+0.006j  0.011-0.j     0.005-0.003j  0.005+0.001j]\n",
      " [-0.   -0.003j  0.001+0.001j  0.002+0.004j  0.005+0.003j  0.007+0.j     0.   +0.006j]\n",
      " [-0.003-0.001j -0.003+0.002j -0.001-0.004j  0.005-0.001j  0.   -0.006j  0.01 +0.j   ]]\n",
      "Eigenvalues of Lagrange Multiplier of P >=0: [-0.    -0.     0.     0.002  0.02   0.026]\n",
      "For total power:\n",
      "0.03785540805493751\n",
      "For the limit power of each TX:\n",
      "[0.0047073376008988106, 2.515459009786367e-19, 0.006413723644864284, 0.043024740215114966, 0.0012400870857909106, 0.0]\n",
      "\n"
     ]
    }
   ],
   "source": [
    "save_results(\"problem_1_first_iteration_10e5.txt\", num_tx, num_rx, power_limit_per_tx, total_power, prob, objective, constraints, P, H, Rn)"
   ]
  },
  {
   "cell_type": "markdown",
   "metadata": {},
   "source": [
    "### Problem 1 results for averaged iterations"
   ]
  },
  {
   "cell_type": "code",
   "execution_count": 8,
   "metadata": {},
   "outputs": [
    {
     "name": "stderr",
     "output_type": "stream",
     "text": [
      "c:\\Users\\User\\anaconda3\\Lib\\site-packages\\cvxpy\\problems\\problem.py:1407: UserWarning: Solution may be inaccurate. Try another solver, adjusting the solver settings, or solve with verbose=True for more information.\n",
      "  warnings.warn(\n"
     ]
    }
   ],
   "source": [
    "P_list = [P.value]\n",
    "H_list = [H.value]\n",
    "Rn_list = [Rn]\n",
    "optimal_value_list = [prob.value]\n",
    "\n",
    "\n",
    "for i in range(9):\n",
    "    H.value = generate_channel_matrix(num_tx, num_rx)\n",
    "    \n",
    "    Rn_sqr = generate_random_hermitian_psd_matrix(num_rx)\n",
    "    # Rn_sqr = generate_random_symmetric_psd_matrix(num_rx)\n",
    "    Rn = Rn_sqr @ Rn_sqr\n",
    "\n",
    "    power_noise = np.random.uniform(low=0, high=5)\n",
    "    Rn_sqr_inv.value = np.linalg.inv(Rn_sqr)\n",
    "\n",
    "    prob.solve()\n",
    "\n",
    "    H_list.append(H.value)\n",
    "    Rn_list.append(Rn)\n",
    "\n",
    "    P_list.append(P.value)\n",
    "    optimal_value_list.append(prob.value)\n",
    "\n",
    "H_avg = sum(H_list)/len(H_list)\n",
    "Rn_avg = sum(Rn_list)/len(Rn_list)\n",
    "\n",
    "P_avg = sum(P_list)/len(P_list)\n",
    "optimal_value_avg = sum(optimal_value_list)/len(optimal_value_list)"
   ]
  },
  {
   "cell_type": "code",
   "execution_count": 9,
   "metadata": {},
   "outputs": [
    {
     "name": "stdout",
     "output_type": "stream",
     "text": [
      "AVERAGE INPUT PARAMETERS\n",
      "\n",
      "Average Noise Covariance Matrix Rn = [[ 3.49 +0.j     0.307+0.051j -0.437-0.371j -0.584-0.262j]\n",
      " [ 0.307-0.051j  4.282+0.j     0.239-0.119j  0.721+0.868j]\n",
      " [-0.437+0.371j  0.239+0.119j  3.049+0.j     0.737+0.902j]\n",
      " [-0.584+0.262j  0.721-0.868j  0.737-0.902j  4.685+0.j   ]]\n",
      "Average Channel Matrix H = \n",
      "[[-0.447-0.005j  0.13 -0.279j -0.034+0.477j  0.199+0.045j]\n",
      " [ 0.233+0.291j  0.039-0.128j  0.021+0.016j  0.572-0.429j]\n",
      " [ 0.118+0.09j  -0.16 +0.129j  0.26 +0.364j -0.162+0.35j ]\n",
      " [-0.125+0.259j  0.083-0.265j -0.406-0.145j  0.436+0.408j]\n",
      " [-0.243+0.115j  0.096+0.3j   -0.082-0.206j  0.518-0.296j]\n",
      " [-0.321-0.419j -0.453+0.186j  0.07 +0.176j -0.011+0.008j]]\n",
      "\n",
      "\n",
      "RESULTS\n",
      "\n",
      "Number of averaged iterations: 10\n",
      "Optimal Value Average: 19.498752973118272\n",
      "Average P* = \n",
      "[[ 8.217+0.j    -0.258-0.285j -0.986+1.11j   0.628-0.211j  0.586-1.262j  0.114-1.422j]\n",
      " [-0.258+0.285j 13.27 +0.j    -0.299-1.108j -0.41 -0.579j -0.002+0.104j -1.105-0.007j]\n",
      " [-0.986-1.11j  -0.299+1.108j  9.68 +0.j    -0.817+0.44j  -1.988+0.359j  2.23 +0.581j]\n",
      " [ 0.628+0.211j -0.41 +0.579j -0.817-0.44j   7.983+0.j     0.325-0.369j  0.114-0.886j]\n",
      " [ 0.586+1.262j -0.002-0.104j -1.988-0.359j  0.325+0.369j 11.387+0.j     0.456-0.768j]\n",
      " [ 0.114+1.422j -1.105+0.007j  2.23 -0.581j  0.114+0.886j  0.456+0.768j 14.463+0.j   ]]\n",
      "\n"
     ]
    }
   ],
   "source": [
    "save_average_results(\"problem_1_avg_results.txt\", Rn_avg, H_avg, optimal_value_avg, P_avg, len(H_list))"
   ]
  },
  {
   "cell_type": "markdown",
   "metadata": {},
   "source": [
    "## Problem 2\n",
    "We assume further that a single-antenna co-channel user with channel vector hc is now present. The received symbol is $y_c = h^H_c \\cdot x + n_c$, where $n_c$ is the zero mean colored noise at this user. We want that this user does not receive any interference in expectation, i.e., $E[∥y_c∥^2] = 0$.\n",
    "\n",
    "Please modify the problem formulation to adopt the new constraint and solve it in CVX."
   ]
  },
  {
   "cell_type": "code",
   "execution_count": 10,
   "metadata": {},
   "outputs": [],
   "source": [
    "hc = generate_random_channel_vector(num_tx, 0, 4)\n",
    "# hc = np.real(generate_random_channel_vector(num_tx, 0, 4))"
   ]
  },
  {
   "cell_type": "code",
   "execution_count": 11,
   "metadata": {},
   "outputs": [
    {
     "name": "stderr",
     "output_type": "stream",
     "text": [
      "c:\\Users\\User\\anaconda3\\Lib\\site-packages\\cvxpy\\reductions\\solvers\\solving_chain.py:237: UserWarning: You are solving a parameterized problem that is not DPP. Because the problem is not DPP, subsequent solves will not be faster than the first one. For more information, see the documentation on Disciplined Parametrized Programming, at https://www.cvxpy.org/tutorial/dpp/index.html\n",
      "  warnings.warn(DPP_ERROR_MSG)\n",
      "c:\\Users\\User\\anaconda3\\Lib\\site-packages\\cvxpy\\problems\\problem.py:1407: UserWarning: Solution may be inaccurate. Try another solver, adjusting the solver settings, or solve with verbose=True for more information.\n",
      "  warnings.warn(\n"
     ]
    },
    {
     "data": {
      "text/plain": [
       "22.911843572915323"
      ]
     },
     "execution_count": 11,
     "metadata": {},
     "output_type": "execute_result"
    }
   ],
   "source": [
    "new_constraints = prob.constraints + [cvx.trace(cvx.real((hc @ hc.conjugate().transpose()) @ P)) == 0]\n",
    "\n",
    "H.value = H_used_first_iteration\n",
    "Rn_sqr_inv.value = Rn_sqr_inv_used_first_iteration\n",
    "\n",
    "new_prob = cvx.Problem(objective, new_constraints)\n",
    "new_prob.solve(verbose=VerboseMode)"
   ]
  },
  {
   "cell_type": "markdown",
   "metadata": {},
   "source": [
    "### Problem 2 Results"
   ]
  },
  {
   "cell_type": "code",
   "execution_count": 12,
   "metadata": {},
   "outputs": [
    {
     "name": "stdout",
     "output_type": "stream",
     "text": [
      "SIMULATION OUTPUT FILECONSTANTS\n",
      "\n",
      "Number of Transmitters: 6\n",
      "Number of Receivers: 4\n",
      "Power Limits per TX: [9, 18, 10, 8, 12, 16] (sum = 73)\n",
      "Total Power Limit: 65\n",
      "\n",
      "\n",
      "INPUT PARAMETERS\n",
      "\n",
      "Covariance Matrix Noise Rn = \n",
      "[[ 4.218+0.j    -2.037-2.944j -1.345-1.289j  2.443-0.539j]\n",
      " [-2.037+2.944j  4.181+0.j     1.179-0.749j -0.755+1.436j]\n",
      " [-1.345+1.289j  1.179+0.749j  1.85 +0.j     0.967+1.391j]\n",
      " [ 2.443+0.539j -0.755-1.436j  0.967-1.391j  4.469+0.j   ]]\n",
      "Channel Matrix  H = \n",
      "[[-0.486+0.593j -0.598+0.658j -0.475+0.202j -0.009+0.626j]\n",
      " [-0.79 -0.533j  0.166+0.886j  1.174+0.363j  0.525-0.211j]\n",
      " [-0.136+0.345j -0.628-0.053j -0.528+0.8j    1.197+1.075j]\n",
      " [ 0.036+1.545j -0.45 -0.987j  0.135-1.021j  1.485-0.357j]\n",
      " [ 0.085+0.113j  0.436+0.62j   0.212+0.223j -0.249-1.43j ]\n",
      " [-0.808-0.217j -0.247+0.585j -0.148+0.163j  0.415+0.539j]]\n",
      "\n",
      "\n",
      "\n",
      "\n",
      "--------------------\n",
      "RESULTS\n",
      "--------------------\n",
      "Status: optimal_inaccurate\n",
      "Num iterations: 100000\n",
      "Solve Time: 27.8972766\n",
      "Solver name: SCS\n",
      "Optimal value: 22.911843572915323\n",
      "Num of Constraints: 9\n",
      "\n",
      "\n",
      "P* = \n",
      "[[ 9.   +0.j    -3.2  -2.68j   3.976+4.681j -1.557-1.335j  0.777+2.143j  9.722-2.161j]\n",
      " [-3.2  +2.68j  13.79 +0.j    -1.001-4.155j -0.222+5.355j  0.516-2.03j   1.87 +2.278j]\n",
      " [ 3.976-4.681j -1.001+4.155j 10.   +0.j     0.13 +3.957j -3.971-1.842j  3.984-3.916j]\n",
      " [-1.557+1.335j -0.222-5.355j  0.13 -3.957j  8.   +0.j    -7.871+1.837j -2.062+0.741j]\n",
      " [ 0.777-2.143j  0.516+2.03j  -3.971+1.842j -7.871-1.837j 10.98 +0.j     1.019-3.463j]\n",
      " [ 9.722+2.161j  1.87 -2.278j  3.984+3.916j -2.062-0.741j  1.019+3.463j 13.226+0.j   ]]\n",
      "Eigenvalues of P* = [-0.     0.     0.001 15.969 21.366 27.662]\n",
      "Actual Total Power of the Optimal Solution: (64.9969148660272+0j)\n",
      "Interference in new user: (6.788766060417117e-07-4.440892098500626e-16j)\n",
      "\n",
      "\n",
      "--------------------\n",
      "Lagrange Multipliers\n",
      "--------------------\n",
      "For P >= 0: \n",
      "[[ 0.977+0.j    -0.038+0.124j -0.063-1.821j -0.043-2.072j -0.053-2.531j  0.41 +0.539j]\n",
      " [-0.038-0.124j  0.022-0.j    -0.225+0.086j -0.258+0.083j -0.318+0.108j  0.048-0.076j]\n",
      " [-0.063+1.821j -0.225-0.086j  3.44 +0.j     3.91 +0.039j  4.774+0.055j -1.041+0.753j]\n",
      " [-0.043+2.072j -0.258-0.083j  3.91 -0.039j  4.48 +0.j     5.451-0.001j -1.172+0.871j]\n",
      " [-0.053+2.531j -0.318-0.108j  4.774-0.055j  5.451+0.001j  6.646+0.j    -1.432+1.066j]\n",
      " [ 0.41 -0.539j  0.048+0.076j -1.041-0.753j -1.172-0.871j -1.432-1.066j  0.487-0.j   ]]\n",
      "Eigenvalues of Lagrange Multiplier of P >=0: [-0.     0.     0.     0.017  0.025 16.01 ]\n",
      "For total power:\n",
      "0.03259182508888926\n",
      "For the limit power of each TX:\n",
      "[0.015119599091340035, 0.0, 0.012846170467667296, 0.054194638778507866, 0.0, 0.0, 0.34807791219872225]\n",
      "For the zero interference in new user: \n",
      "0.34807791219872225\n",
      "\n"
     ]
    }
   ],
   "source": [
    "Rn_sqrt = np.linalg.inv(Rn_sqr_inv.value)\n",
    "Rn = Rn_sqr @ Rn_sqr\n",
    "\n",
    "# print_simulation_results(num_tx, num_rx, power_limit_per_tx, total_power, new_prob, objective, new_constraints, P, H, Rn, hc)\n",
    "save_results(\"problem2_SCS_10e5.txt\", num_tx, num_rx, power_limit_per_tx, total_power, new_prob, objective, new_constraints, P, H, Rn, hc)"
   ]
  },
  {
   "cell_type": "code",
   "execution_count": 13,
   "metadata": {},
   "outputs": [],
   "source": [
    "new_prob.solve(max_iters=int(1e6), verbose=VerboseMode)"
   ]
  },
  {
   "cell_type": "code",
   "execution_count": null,
   "metadata": {},
   "outputs": [
    {
     "name": "stdout",
     "output_type": "stream",
     "text": [
      "SIMULATION OUTPUT FILECONSTANTS\n",
      "\n",
      "Number of Transmitters: 6\n",
      "Number of Receivers: 4\n",
      "Power Limits per TX: [9, 18, 10, 8, 12, 16] (sum = 73)\n",
      "Total Power Limit: 65\n",
      "\n",
      "\n",
      "INPUT PARAMETERS\n",
      "\n",
      "Covariance Matrix Noise Rn = \n",
      "[[ 4.218+0.j    -2.037-2.944j -1.345-1.289j  2.443-0.539j]\n",
      " [-2.037+2.944j  4.181+0.j     1.179-0.749j -0.755+1.436j]\n",
      " [-1.345+1.289j  1.179+0.749j  1.85 +0.j     0.967+1.391j]\n",
      " [ 2.443+0.539j -0.755-1.436j  0.967-1.391j  4.469+0.j   ]]\n",
      "Channel Matrix  H = \n",
      "[[-0.486+0.593j -0.598+0.658j -0.475+0.202j -0.009+0.626j]\n",
      " [-0.79 -0.533j  0.166+0.886j  1.174+0.363j  0.525-0.211j]\n",
      " [-0.136+0.345j -0.628-0.053j -0.528+0.8j    1.197+1.075j]\n",
      " [ 0.036+1.545j -0.45 -0.987j  0.135-1.021j  1.485-0.357j]\n",
      " [ 0.085+0.113j  0.436+0.62j   0.212+0.223j -0.249-1.43j ]\n",
      " [-0.808-0.217j -0.247+0.585j -0.148+0.163j  0.415+0.539j]]\n",
      "\n",
      "\n",
      "\n",
      "\n",
      "--------------------\n",
      "RESULTS\n",
      "--------------------\n",
      "Status: optimal_inaccurate\n",
      "Num iterations: 1000000\n",
      "Solve Time: 250.4317311\n",
      "Solver name: SCS\n",
      "Optimal value: 23.06260734738794\n",
      "Num of Constraints: 9\n",
      "\n",
      "\n",
      "P* = \n",
      "[[ 9.   +0.j    -1.721-3.705j  4.078+3.681j -0.245-0.367j -0.511+1.759j  8.647-2.451j]\n",
      " [-1.721+3.705j 15.294+0.j    -1.746-5.917j -1.207+4.502j  2.191+1.051j  5.063+2.505j]\n",
      " [ 4.078-3.681j -1.746+5.917j 10.   +0.j     0.387+2.608j -5.096-0.003j  3.714-0.978j]\n",
      " [-0.245+0.367j -1.207-4.502j  0.387-2.608j  8.   +0.j    -7.213+1.412j -0.622-0.333j]\n",
      " [-0.511-1.759j  2.191-1.051j -5.096+0.003j -7.213-1.412j 10.91 +0.j    -0.27 -3.995j]\n",
      " [ 8.647+2.451j  5.063-2.505j  3.714+0.978j -0.622+0.333j -0.27 +3.995j 11.796+0.j   ]]\n",
      "Eigenvalues of P* = [-0.     0.     0.    17.919 22.628 24.454]\n",
      "Actual Total Power of the Optimal Solution: (65.00025768272978+0j)\n",
      "Interference in new user: (9.246676668794862e-08-8.881784197001252e-16j)\n",
      "\n",
      "\n",
      "--------------------\n",
      "Lagrange Multipliers\n",
      "--------------------\n",
      "For P >= 0: \n",
      "[[ 1.194+0.j    -0.047+0.151j -0.077-2.234j -0.054-2.544j -0.065-3.105j  0.505+0.661j]\n",
      " [-0.047-0.151j  0.027+0.j    -0.276+0.105j -0.317+0.104j -0.39 +0.133j  0.059-0.093j]\n",
      " [-0.077+2.234j -0.276-0.105j  4.22 +0.j     4.8  +0.049j  5.86 +0.068j -1.278+0.924j]\n",
      " [-0.054+2.544j -0.317-0.104j  4.8  -0.049j  5.491-0.j     6.689+0.001j -1.44 +1.07j ]\n",
      " [-0.065+3.105j -0.39 -0.133j  5.86 -0.068j  6.689-0.001j  8.158+0.j    -1.758+1.309j]\n",
      " [ 0.505-0.661j  0.059+0.093j -1.278-0.924j -1.44 -1.07j  -1.758-1.309j  0.598-0.j   ]]\n",
      "Eigenvalues of Lagrange Multiplier of P >=0: [-0.    -0.     0.     0.017  0.024 19.647]\n",
      "For total power:\n",
      "0.037721815748153774\n",
      "For the limit power of each TX:\n",
      "[0.010040646384559341, 0.0, 0.009895340968764361, 0.03516832293538946, 0.0, 0.0, 0.42728632001724903]\n",
      "For the zero interference in new user: \n",
      "0.42728632001724903\n",
      "\n"
     ]
    }
   ],
   "source": [
    "save_results(\"problem2_SCS_10e6.txt\", num_tx, num_rx, power_limit_per_tx, total_power, new_prob, objective, new_constraints, P, H, Rn, hc)"
   ]
  },
  {
   "cell_type": "code",
   "execution_count": null,
   "metadata": {},
   "outputs": [],
   "source": [
    "new_prob.solve(solver=cvx.CLARABEL, verbose=VerboseMode)\n",
    "\n",
    "save_results(\"problem2_CLARABEL.txt\", num_tx, num_rx, power_limit_per_tx, total_power, new_prob, objective, new_constraints, P, H, Rn, hc)"
   ]
  }
 ],
 "metadata": {
  "kernelspec": {
   "display_name": ".venv",
   "language": "python",
   "name": "python3"
  },
  "language_info": {
   "codemirror_mode": {
    "name": "ipython",
    "version": 3
   },
   "file_extension": ".py",
   "mimetype": "text/x-python",
   "name": "python",
   "nbconvert_exporter": "python",
   "pygments_lexer": "ipython3",
   "version": "3.11.7"
  }
 },
 "nbformat": 4,
 "nbformat_minor": 2
}
