{
 "cells": [
  {
   "cell_type": "markdown",
   "metadata": {},
   "source": [
    "# Course Project - Convex Optimization for Signal Processing and Communications\n",
    "\n",
    "- Student: Lucas von Ancken Garcia\n",
    "- Matrikelnummer: 2576600 "
   ]
  },
  {
   "cell_type": "code",
   "execution_count": 1,
   "metadata": {},
   "outputs": [],
   "source": [
    "import numpy as np\n",
    "import os\n",
    "import cvxpy as cvx\n",
    "\n",
    "np.random.seed(1)\n",
    "np.set_printoptions(precision=3, suppress=True, linewidth=np.inf)"
   ]
  },
  {
   "cell_type": "markdown",
   "metadata": {},
   "source": [
    "## Auxillary Methods"
   ]
  },
  {
   "cell_type": "code",
   "execution_count": 2,
   "metadata": {},
   "outputs": [],
   "source": [
    "# Used for generation of the complex Channel Matrix H\n",
    "def generate_channel_matrix(m, n):\n",
    "    real_part = np.random.normal(0, np.sqrt(0.5), (m,n))\n",
    "    imag_part = np.random.normal(0, np.sqrt(0.5), (m,n))\n",
    "\n",
    "    return real_part + 1j*imag_part\n",
    "# Used for generation of channel vector h_c\n",
    "def generate_random_channel_vector(n, mean, std):\n",
    "    real_part = np.random.normal(mean, std, n)\n",
    "    imag_part = np.random.normal(mean, std, n)\n",
    "    \n",
    "    return (real_part + 1j*imag_part).reshape(n,1)\n",
    "\n",
    "def matrix_square_root(R):\n",
    "    # Eigenvalue decomposition. The eigenvectors are normalized\n",
    "    eigenvalues, eigenvectors = np.linalg.eigh(R)\n",
    "    \n",
    "    # Calculate the square root of the diagonal eigenvalue matrix\n",
    "    sqrt_eigenvalues = np.sqrt(eigenvalues)\n",
    "    sqrt_eigenvalue_matrix = np.diag(sqrt_eigenvalues)\n",
    "    \n",
    "    # Reconstruct the square root matrix\n",
    "    R_sqrt = eigenvectors @ sqrt_eigenvalue_matrix @ eigenvectors.T\n",
    "    return R_sqrt\n",
    "\n",
    "def generate_random_hermitian_psd_matrix(n):\n",
    "    # Generate a random matrix A\n",
    "    A = np.random.randn(n, n) + 1j*np.random.randn(n, n)\n",
    "    \n",
    "    # Construct a symmetric matrix by multiplying A with its transpose\n",
    "    A = np.dot(A, A.conj().T)/5\n",
    "    \n",
    "    return A\n",
    "\n",
    "def generate_random_symmetric_psd_matrix(n):\n",
    "    # Generate a random matrix A\n",
    "    A = np.random.randn(n, n)\n",
    "    \n",
    "    # Construct a symmetric matrix by multiplying A with its transpose\n",
    "    A = np.dot(A, A.conj().T)\n",
    "    \n",
    "    return A"
   ]
  },
  {
   "cell_type": "code",
   "execution_count": 3,
   "metadata": {},
   "outputs": [],
   "source": [
    "def save_results(filename, num_tx, num_rx, power_limit_per_tx, total_power, prob, objective, constraints, P, H, Rn, hc=None, P_prev=None):\n",
    "    # Create results directory if it does not exist\n",
    "    if not os.path.exists('./results'):\n",
    "        os.makedirs('./results')\n",
    "\n",
    "    # Initialize the result string\n",
    "    result = \"SIMULATION OUTPUT FILE\\n\"\n",
    "\n",
    "    # Append constants section\n",
    "    result += \"CONSTANTS\\n\\n\"\n",
    "    result += \"Number of Transmitters: {}\\n\".format(num_tx)\n",
    "    result += \"Number of Receivers: {}\\n\".format(num_rx)\n",
    "    result += \"Power Limits per TX: {} (sum = {})\\n\".format(power_limit_per_tx, sum(power_limit_per_tx))\n",
    "    result += \"Total Power Limit: {}\\n\".format(total_power)\n",
    "\n",
    "    # Append input parameters section\n",
    "    result += \"\\n------------------------\\n\"\n",
    "    result += \"INPUT PARAMETERS GENERATED\"\n",
    "    result += \"\\n------------------------\\n\"\n",
    "    result += \"Covariance Matrix Noise Rn = \\n{}\\n\".format(Rn)\n",
    "    result += \"Channel Matrix  H = \\n{}\\n\".format(H.value)\n",
    "\n",
    "    # Append results section\n",
    "    result += \"\\n--------------------\\n\"\n",
    "    result += \"RESULTS\"\n",
    "    result += \"\\n--------------------\\n\"\n",
    "    result += \"Status: {}\\n\".format(prob.status)\n",
    "    result += \"Num iterations: {}\\n\".format(prob.solver_stats.num_iters)\n",
    "    result += \"Solve Time: {}\\n\".format(prob.solver_stats.solve_time)\n",
    "    result += \"Solver name: {}\\n\".format(prob.solver_stats.solver_name)\n",
    "    result += \"Optimal value: {}\\n\".format(objective.value)\n",
    "    result += \"Num of Constraints: {}\\n\\n\".format(len(constraints))\n",
    "    result += \"\\n\"\n",
    "    result += \"P* = \\n{}\\n\".format(P.value)\n",
    "    result += \"Eigenvalues of P* = {}\\n\".format(np.linalg.eigvalsh(P.value))\n",
    "    result += \"Actual Total Power of the Optimal Solution: {}\\n\".format(P.value.trace())\n",
    "    if hc is not None and P_prev is not None:\n",
    "        interference = np.trace(P.value @ (hc @ hc.conjugate().transpose()))\n",
    "        result += \"Interference in new user with new solution: {}\\n\".format(interference)\n",
    "        \n",
    "        interference_prev_solution = np.trace(P_prev @ (hc @ hc.conjugate().transpose()))\n",
    "        result += \"Interference in new user with previous solution: {}\\n\".format(interference_prev_solution)\n",
    "    result += \"\\n--------------------\\n\"\n",
    "    result += \"Lagrange Multipliers\"\n",
    "    result += \"\\n--------------------\\n\"\n",
    "    result += \"For P >= 0: \\n{}\\n\".format(constraints[0].dual_value)\n",
    "    result += \"Eigenvalues of Lagrange Multiplier of P >=0: {}\\n\".format(np.linalg.eigvalsh(constraints[0].dual_value))\n",
    "    result += \"For total power:\\n{}\\n\".format(constraints[1].dual_value)\n",
    "    result += \"For the limit power of each TX:\\n{}\\n\".format([x.dual_value for x in constraints[2:]])\n",
    "    if hc is not None:\n",
    "        result += \"For the zero interference in new user: \\n{}\\n\".format(constraints[-1].dual_value)\n",
    "\n",
    "    # Print the result to the console\n",
    "    print(result)\n",
    "\n",
    "    # Save the result to a file\n",
    "    with open(os.path.join('./results', filename), 'w') as file:\n",
    "        file.write(result)\n",
    "    \n",
    "def save_average_results(filename, Rn_avg, H_avg, optimal_value_avg, P_avg, num_iter, hc=None):\n",
    "    # Create the results string\n",
    "    results = []\n",
    "    \n",
    "    results.append(\"\\n------------------------\\n\")\n",
    "    results.append(\"AVERAGE INPUT PARAMETERS\")\n",
    "    results.append(\"\\n------------------------\\n\")\n",
    "    results.append(\"\\n\")\n",
    "    results.append(\"Average Noise Covariance Matrix Rn = {}\\n\".format(Rn_avg))\n",
    "    results.append(\"Average Channel Matrix H = \\n\")\n",
    "    results.append(\"{}\\n\".format(H_avg))\n",
    "    if (hc is not None):\n",
    "        results.append(\"Average Channel Vector h_c = {}\".format(hc.T))\n",
    "    results.append(\"\\n\")\n",
    "\n",
    "    results.append(\"\\n------------------------\\n\")\n",
    "    results.append(\"RESULTS\")\n",
    "    results.append(\"\\n------------------------\\n\")\n",
    "    results.append(\"Number of averaged iterations: {}\\n\".format(num_iter))\n",
    "    results.append(\"Optimal Value Average: {}\\n\".format(optimal_value_avg))\n",
    "    results.append(\"Average P* = \\n\")\n",
    "    results.append(\"{}\\n\".format(P_avg))\n",
    "\n",
    "    # Join the results list into a single string\n",
    "    results_string = \"\".join(results)\n",
    "\n",
    "    # Print the results string to the screen\n",
    "    print(results_string)\n",
    "\n",
    "    # Ensure the directory exists\n",
    "    os.makedirs(\"./results\", exist_ok=True)\n",
    "\n",
    "    # Save the results string to the specified file\n",
    "    file_path = os.path.join(\"./results\", filename)\n",
    "    with open(file_path, 'w') as file:\n",
    "        file.write(results_string)"
   ]
  },
  {
   "cell_type": "markdown",
   "metadata": {},
   "source": [
    "## Problem 1\n",
    "\n",
    "Given a single-user (point-to-point) MIMO communication channel with the channel matrix $H$ and zero mean\n",
    "colored noise $n$ at the receiver antennas, the received symbol at the receiver is $y = H^H \\cdot x + n$, where $x$ is the\n",
    "transmitted symbol with zero mean. We want to **design the optimal transmit covariance matrix** that **maximizes the transmission rate** of the MIMO system. We assume that some of the **antennas have power constraints** that\n",
    "restrict the transmitted power. Furthermore, **a sum power constraint applies**.\n",
    "\n",
    "Generate required data to implement the problem formulation in CVX. Average the simulation results with Monte Carlo iterations."
   ]
  },
  {
   "cell_type": "markdown",
   "metadata": {},
   "source": [
    "#### Constants"
   ]
  },
  {
   "cell_type": "code",
   "execution_count": 4,
   "metadata": {},
   "outputs": [],
   "source": [
    "VerboseMode = False # Allow verbose mode for the method cvx.solve\n",
    "\n",
    "num_tx = 6  # Number of transmit antennas\n",
    "num_rx = 4  # Number of receive antennas\n",
    "\n",
    "total_power = 65\n",
    "\n",
    "power_limit_per_tx = [9, 18, 10, 8, 12, 16]\n"
   ]
  },
  {
   "cell_type": "markdown",
   "metadata": {},
   "source": [
    "#### Problem 1 Formulation"
   ]
  },
  {
   "cell_type": "code",
   "execution_count": 5,
   "metadata": {},
   "outputs": [],
   "source": [
    "# Here, the problem is formulated in CVXPY. \n",
    "\n",
    "# Parameter objects are created to allow multiple solutions of the same problem\n",
    "H = cvx.Parameter((num_tx, num_rx), complex=True)\n",
    "Rn_sqr_inv = cvx.Parameter((num_rx, num_rx), hermitian=True)\n",
    "\n",
    "# Optimization variable\n",
    "P = cvx.Variable((num_tx, num_tx), hermitian=True)\n",
    "\n",
    "# Channel capacity equation as objective function\n",
    "objective = cvx.Maximize(cvx.log_det(np.identity(num_rx) + Rn_sqr_inv @ cvx.conj(H.T) @ P @ H @ Rn_sqr_inv))\n",
    "\n",
    "# Constraints for the semi-definiteness of P and overall power\n",
    "constraints = [P >> 0, cvx.real(cvx.trace(P)) <= total_power]\n",
    "\n",
    "# Constraints for the individual powers of the transmitter antennas\n",
    "for i in range(num_tx):\n",
    "    constraints.append(cvx.real(P[i, i]) <= power_limit_per_tx[i])\n",
    "\n",
    "prob = cvx.Problem(objective, constraints)"
   ]
  },
  {
   "cell_type": "code",
   "execution_count": 6,
   "metadata": {},
   "outputs": [
    {
     "name": "stderr",
     "output_type": "stream",
     "text": [
      "c:\\Users\\User\\Documents\\Selbststudium\\TUDa_MachineLearning-DS-Exercises\\Convex Optimization\\Project\\.venv\\Lib\\site-packages\\cvxpy\\reductions\\solvers\\solving_chain.py:235: UserWarning: You are solving a parameterized problem that is not DPP. Because the problem is not DPP, subsequent solves will not be faster than the first one. For more information, see the documentation on Disciplined Parametrized Programming, at https://www.cvxpy.org/tutorial/dpp/index.html\n",
      "  warnings.warn(DPP_ERROR_MSG)\n"
     ]
    },
    {
     "data": {
      "text/plain": [
       "23.214224928245216"
      ]
     },
     "execution_count": 6,
     "metadata": {},
     "output_type": "execute_result"
    }
   ],
   "source": [
    "# Input parameters are set and problem is solved\n",
    "\n",
    "Rn_sqr = generate_random_hermitian_psd_matrix(num_rx)\n",
    "Rn = Rn_sqr @ Rn_sqr\n",
    "\n",
    "H.value = generate_channel_matrix(num_tx, num_rx)\n",
    "Rn_sqr_inv.value = np.linalg.inv(Rn_sqr)\n",
    "\n",
    "H_used_first_iteration = np.copy(H.value)\n",
    "Rn_sqr_inv_used_first_iteration = np.copy(Rn_sqr_inv.value)\n",
    "\n",
    "# For optimal results, not inaccurate, uncomment command below\n",
    "prob.solve(verbose=VerboseMode, max_iters=int(10e6))\n",
    "# prob.solve(verbose=VerboseMode)"
   ]
  },
  {
   "cell_type": "markdown",
   "metadata": {},
   "source": [
    "### Problem 1 results for first iteration"
   ]
  },
  {
   "cell_type": "code",
   "execution_count": 7,
   "metadata": {},
   "outputs": [
    {
     "name": "stdout",
     "output_type": "stream",
     "text": [
      "SIMULATION OUTPUT FILE\n",
      "CONSTANTS\n",
      "\n",
      "Number of Transmitters: 6\n",
      "Number of Receivers: 4\n",
      "Power Limits per TX: [9, 18, 10, 8, 12, 16] (sum = 73)\n",
      "Total Power Limit: 65\n",
      "\n",
      "------------------------\n",
      "INPUT PARAMETERS GENERATED\n",
      "------------------------\n",
      "Covariance Matrix Noise Rn = \n",
      "[[3.233+0.j    2.31 +3.628j 1.95 -2.023j 0.12 +0.368j]\n",
      " [2.31 -3.628j 9.704+0.j    2.357-3.332j 2.855+1.571j]\n",
      " [1.95 +2.023j 2.357+3.332j 5.133+0.j    1.897+1.29j ]\n",
      " [0.12 -0.368j 2.855-1.571j 1.897-1.29j  1.99 +0.j   ]]\n",
      "Channel Matrix  H = \n",
      "[[-0.486+0.593j -0.598+0.658j -0.475+0.202j -0.009+0.626j]\n",
      " [-0.79 -0.533j  0.166+0.886j  1.174+0.363j  0.525-0.211j]\n",
      " [-0.136+0.345j -0.628-0.053j -0.528+0.8j    1.197+1.075j]\n",
      " [ 0.036+1.545j -0.45 -0.987j  0.135-1.021j  1.485-0.357j]\n",
      " [ 0.085+0.113j  0.436+0.62j   0.212+0.223j -0.249-1.43j ]\n",
      " [-0.808-0.217j -0.247+0.585j -0.148+0.163j  0.415+0.539j]]\n",
      "\n",
      "--------------------\n",
      "RESULTS\n",
      "--------------------\n",
      "Status: optimal\n",
      "Num iterations: 1429225\n",
      "Solve Time: 135.93607139999997\n",
      "Solver name: SCS\n",
      "Optimal value: 23.214224928245216\n",
      "Num of Constraints: 8\n",
      "\n",
      "\n",
      "P* = \n",
      "[[ 9.   +0.j    -2.373-3.473j  2.746+5.303j -1.278-0.801j  0.591+3.39j   7.523-2.624j]\n",
      " [-2.373+3.473j 15.636+0.j    -2.624-5.58j  -1.858+4.622j  1.469+3.125j  5.333+1.519j]\n",
      " [ 2.746-5.303j -2.624+5.58j  10.   +0.j     1.304+1.983j -4.749+4.292j  2.13 -2.552j]\n",
      " [-1.278+0.801j -1.858-4.622j  1.304-1.983j  8.   +0.j    -3.688+3.548j -2.043-0.857j]\n",
      " [ 0.591-3.39j   1.469-3.125j -4.749-4.292j -3.688-3.548j 12.   +0.j    -0.251-5.904j]\n",
      " [ 7.523+2.624j  5.333-1.519j  2.13 +2.552j -2.043+0.857j -0.251+5.904j 10.364+0.j   ]]\n",
      "Eigenvalues of P* = [-0.    -0.     0.    15.792 23.865 25.344]\n",
      "Actual Total Power of the Optimal Solution: (65.00000082104829+0j)\n",
      "\n",
      "--------------------\n",
      "Lagrange Multipliers\n",
      "--------------------\n",
      "For P >= 0: \n",
      "[[ 0.003-0.j    -0.001+0.j    -0.002-0.001j -0.001+0.004j -0.   +0.003j -0.003+0.001j]\n",
      " [-0.001-0.j     0.006-0.j     0.003+0.006j  0.002-0.006j  0.   -0.001j -0.003-0.002j]\n",
      " [-0.002+0.001j  0.003-0.006j  0.011+0.j    -0.003-0.006j  0.002-0.004j -0.001+0.004j]\n",
      " [-0.001-0.004j  0.002+0.006j -0.003+0.006j  0.011-0.j     0.005-0.003j  0.005+0.001j]\n",
      " [-0.   -0.003j  0.   +0.001j  0.002+0.004j  0.005+0.003j  0.007+0.j     0.   +0.006j]\n",
      " [-0.003-0.001j -0.003+0.002j -0.001-0.004j  0.005-0.001j  0.   -0.006j  0.01 +0.j   ]]\n",
      "Eigenvalues of Lagrange Multiplier of P >=0: [-0.    -0.     0.     0.002  0.02   0.026]\n",
      "For total power:\n",
      "0.03818879855590025\n",
      "For the limit power of each TX:\n",
      "[0.00420142082239887, 0.0, 0.006626014801552716, 0.04275083221556508, 0.00148208587881462, 0.0]\n",
      "\n"
     ]
    }
   ],
   "source": [
    "# Optimal solution is stored for later comparison with the one obtained for problem 2 \n",
    "first_optimal_solution = np.copy(P.value)\n",
    "save_results(\"problem_1_first_iteration_10e5.txt\", num_tx, num_rx, power_limit_per_tx, total_power, prob, objective, constraints, P, H, Rn)"
   ]
  },
  {
   "cell_type": "markdown",
   "metadata": {},
   "source": [
    "### Problem 1 results for averaged iterations"
   ]
  },
  {
   "cell_type": "code",
   "execution_count": 8,
   "metadata": {},
   "outputs": [
    {
     "name": "stderr",
     "output_type": "stream",
     "text": [
      "c:\\Users\\User\\Documents\\Selbststudium\\TUDa_MachineLearning-DS-Exercises\\Convex Optimization\\Project\\.venv\\Lib\\site-packages\\cvxpy\\problems\\problem.py:1407: UserWarning: Solution may be inaccurate. Try another solver, adjusting the solver settings, or solve with verbose=True for more information.\n",
      "  warnings.warn(\n"
     ]
    }
   ],
   "source": [
    "# Arrays for the intermediate results\n",
    "# The previous result is already considered for the average\n",
    "P_list = [P.value]\n",
    "H_list = [H.value]\n",
    "Rn_list = [Rn]\n",
    "optimal_value_list = [prob.value]\n",
    "\n",
    "# Execution of the solution with different H and Rn parameters\n",
    "for i in range(9):\n",
    "    H.value = generate_channel_matrix(num_tx, num_rx)\n",
    "    \n",
    "    Rn_sqr = generate_random_symmetric_psd_matrix(num_rx)\n",
    "    Rn = Rn_sqr @ Rn_sqr\n",
    "\n",
    "    Rn_sqr_inv.value = np.linalg.inv(Rn_sqr)\n",
    "\n",
    "    prob.solve()\n",
    "    \n",
    "    if np.isinf(prob.value):\n",
    "        continue\n",
    "\n",
    "    H_list.append(H.value)\n",
    "    Rn_list.append(Rn)\n",
    "\n",
    "    P_list.append(P.value)\n",
    "    optimal_value_list.append(prob.value)\n",
    "\n",
    "# Simple average of all intermediate results\n",
    "H_avg = sum(H_list)/len(H_list)\n",
    "Rn_avg = sum(Rn_list)/len(Rn_list)\n",
    "\n",
    "P_avg = sum(P_list)/len(P_list)\n",
    "optimal_value_avg = sum(optimal_value_list)/len(optimal_value_list)"
   ]
  },
  {
   "cell_type": "code",
   "execution_count": 9,
   "metadata": {},
   "outputs": [
    {
     "name": "stdout",
     "output_type": "stream",
     "text": [
      "\n",
      "------------------------\n",
      "AVERAGE INPUT PARAMETERS\n",
      "------------------------\n",
      "\n",
      "Average Noise Covariance Matrix Rn = [[22.859+0.j     0.037+0.403j -6.899-0.225j -7.477+0.041j]\n",
      " [ 0.037-0.403j 25.422+0.j    -0.279-0.37j   9.969+0.175j]\n",
      " [-6.899+0.225j -0.279+0.37j  19.73 +0.j     0.11 +0.143j]\n",
      " [-7.477-0.041j  9.969-0.175j  0.11 -0.143j 38.406+0.j   ]]\n",
      "Average Channel Matrix H = \n",
      "[[-0.296+0.579j  0.172-0.115j -0.06 -0.125j  0.095+0.106j]\n",
      " [ 0.069-0.011j  0.21 +0.06j  -0.245-0.161j -0.006-0.122j]\n",
      " [ 0.106+0.461j  0.402-0.275j -0.103+0.346j  0.248-0.126j]\n",
      " [-0.036-0.101j -0.375+0.087j  0.002+0.174j  0.044+0.287j]\n",
      " [-0.471+0.214j  0.211-0.334j -0.135-0.182j  0.01 +0.256j]\n",
      " [ 0.133-0.391j  0.054+0.571j -0.026+0.15j  -0.043+0.101j]]\n",
      "\n",
      "\n",
      "------------------------\n",
      "RESULTS\n",
      "------------------------\n",
      "Number of averaged iterations: 9\n",
      "Optimal Value Average: 14.810346730644035\n",
      "Average P* = \n",
      "[[ 8.94 +0.j    -0.872-1.259j  1.419+0.23j  -1.56 +0.329j  0.31 +0.451j  1.187+0.178j]\n",
      " [-0.872+1.259j 14.319+0.j    -1.86 -0.075j  0.252-0.069j  1.086+0.247j -0.271-0.135j]\n",
      " [ 1.419-0.23j  -1.86 +0.075j  9.39 +0.j    -0.355-1.181j -2.641+0.154j  1.672-0.871j]\n",
      " [-1.56 -0.329j  0.252+0.069j -0.355+1.181j  7.658+0.j     0.929-0.293j  0.978+0.841j]\n",
      " [ 0.31 -0.451j  1.086-0.247j -2.641-0.154j  0.929+0.293j 11.524+0.j     0.831-0.139j]\n",
      " [ 1.187-0.178j -0.271+0.135j  1.672+0.871j  0.978-0.841j  0.831+0.139j 13.169+0.j   ]]\n",
      "\n"
     ]
    }
   ],
   "source": [
    "save_average_results(\"problem_1_avg_results.txt\", Rn_avg, H_avg, optimal_value_avg, P_avg, len(H_list))"
   ]
  },
  {
   "cell_type": "markdown",
   "metadata": {},
   "source": [
    "## Problem 2\n",
    "We assume further that a single-antenna co-channel user with channel vector hc is now present. The received symbol is $y_c = h^H_c \\cdot x + n_c$, where $n_c$ is the zero mean colored noise at this user. We want that this user does not receive any interference in expectation, i.e., $E[∥y_c∥^2] = 0$.\n",
    "\n",
    "Please modify the problem formulation to adopt the new constraint and solve it in CVX."
   ]
  },
  {
   "cell_type": "markdown",
   "metadata": {},
   "source": [
    "### Formulation of Problem 2"
   ]
  },
  {
   "cell_type": "code",
   "execution_count": 10,
   "metadata": {},
   "outputs": [],
   "source": [
    "hc = cvx.Parameter((num_tx, 1), complex=True)\n",
    "\n",
    "# Union between the new constraint proposed for problem 2 and the set of the constraints of problem 1\n",
    "new_constraints = prob.constraints + [cvx.trace(cvx.real((hc @ cvx.conj(hc).T) @ P)) == 0]\n",
    "\n",
    "H.value = H_used_first_iteration\n",
    "Rn_sqr_inv.value = Rn_sqr_inv_used_first_iteration\n",
    "\n",
    "new_prob = cvx.Problem(objective, new_constraints)"
   ]
  },
  {
   "cell_type": "markdown",
   "metadata": {},
   "source": [
    "### Problem 2 results with SCS Solver"
   ]
  },
  {
   "cell_type": "code",
   "execution_count": 11,
   "metadata": {},
   "outputs": [
    {
     "data": {
      "text/plain": [
       "22.84509444812582"
      ]
     },
     "execution_count": 11,
     "metadata": {},
     "output_type": "execute_result"
    }
   ],
   "source": [
    "hc.value = generate_random_channel_vector(num_tx, 0, 5)\n",
    "\n",
    "# For more precise results, uncomment the first line below and comment the second\n",
    "new_prob.solve(max_iters=int(10e6), verbose=VerboseMode)\n",
    "# new_prob.solve(verbose=VerboseMode)"
   ]
  },
  {
   "cell_type": "code",
   "execution_count": 12,
   "metadata": {},
   "outputs": [
    {
     "name": "stdout",
     "output_type": "stream",
     "text": [
      "SIMULATION OUTPUT FILE\n",
      "CONSTANTS\n",
      "\n",
      "Number of Transmitters: 6\n",
      "Number of Receivers: 4\n",
      "Power Limits per TX: [9, 18, 10, 8, 12, 16] (sum = 73)\n",
      "Total Power Limit: 65\n",
      "\n",
      "------------------------\n",
      "INPUT PARAMETERS GENERATED\n",
      "------------------------\n",
      "Covariance Matrix Noise Rn = \n",
      "[[3.233+0.j    2.31 +3.628j 1.95 -2.023j 0.12 +0.368j]\n",
      " [2.31 -3.628j 9.704-0.j    2.357-3.332j 2.855+1.571j]\n",
      " [1.95 +2.023j 2.357+3.332j 5.133-0.j    1.897+1.29j ]\n",
      " [0.12 -0.368j 2.855-1.571j 1.897-1.29j  1.99 -0.j   ]]\n",
      "Channel Matrix  H = \n",
      "[[-0.486+0.593j -0.598+0.658j -0.475+0.202j -0.009+0.626j]\n",
      " [-0.79 -0.533j  0.166+0.886j  1.174+0.363j  0.525-0.211j]\n",
      " [-0.136+0.345j -0.628-0.053j -0.528+0.8j    1.197+1.075j]\n",
      " [ 0.036+1.545j -0.45 -0.987j  0.135-1.021j  1.485-0.357j]\n",
      " [ 0.085+0.113j  0.436+0.62j   0.212+0.223j -0.249-1.43j ]\n",
      " [-0.808-0.217j -0.247+0.585j -0.148+0.163j  0.415+0.539j]]\n",
      "\n",
      "--------------------\n",
      "RESULTS\n",
      "--------------------\n",
      "Status: optimal\n",
      "Num iterations: 3210675\n",
      "Solve Time: 290.0456827\n",
      "Solver name: SCS\n",
      "Optimal value: 22.84509444812582\n",
      "Num of Constraints: 9\n",
      "\n",
      "\n",
      "P* = \n",
      "[[ 9.   +0.j     0.487-2.652j  1.466+4.601j -1.604+0.572j  0.542+5.812j  3.025-0.401j]\n",
      " [ 0.487+2.652j 18.   +0.j    -3.473-6.467j -2.015+5.292j  1.459+4.076j  7.325-4.86j ]\n",
      " [ 1.466-4.601j -3.473+6.467j 10.   +0.j     1.871+2.136j -3.833+3.436j  0.907+1.208j]\n",
      " [-1.604-0.572j -2.015-5.292j  1.871-2.136j  8.   +0.j    -2.411+2.588j -4.571-2.134j]\n",
      " [ 0.542-5.812j  1.459-4.076j -3.833-3.436j -2.411-2.588j 12.   +0.j     0.659-3.091j]\n",
      " [ 3.025+0.401j  7.325+4.86j   0.907-1.208j -4.571+2.134j  0.659+3.091j  6.179+0.j   ]]\n",
      "Eigenvalues of P* = [-0.    -0.     0.    15.419 18.394 29.366]\n",
      "Actual Total Power of the Optimal Solution: (63.178504463310595+0j)\n",
      "Interference in new user with new solution: (7.302356108684904e-09+2.053218706166149e-14j)\n",
      "Interference in new user with previous solution: (1605.32598882976-1.0658141036401503e-13j)\n",
      "\n",
      "--------------------\n",
      "Lagrange Multipliers\n",
      "--------------------\n",
      "For P >= 0: \n",
      "[[ 11.69  +0.j      4.239 +8.9j    -4.186 -5.786j -10.455 +9.695j   0.313 +3.463j -31.114 -1.441j]\n",
      " [  4.239 -8.9j     8.321 -0.j     -5.917 +1.094j   3.59 +11.474j   2.754 +1.017j -12.389+23.171j]\n",
      " [ -4.186 +5.786j  -5.917 -1.094j   4.369 +0.j     -1.057 -8.65j   -1.826 -1.089j  11.853-14.878j]\n",
      " [-10.455 -9.695j   3.59 -11.474j  -1.057 +8.65j   17.409 -0.j      2.598 -3.363j  26.649+27.102j]\n",
      " [  0.313 -3.463j   2.754 -1.017j  -1.826 +1.089j   2.598 +3.363j   1.041 -0.j     -1.262 +9.19j ]\n",
      " [-31.114 +1.441j -12.389-23.171j  11.853+14.878j  26.649-27.102j  -1.262 -9.19j   83.03  +0.j   ]]\n",
      "Eigenvalues of Lagrange Multiplier of P >=0: [ -0.     -0.      0.      0.011   0.022 125.827]\n",
      "For total power:\n",
      "7.158127495889746e-19\n",
      "For the limit power of each TX:\n",
      "[0.06730430187826764, 0.03532440324640332, 0.044781140692199045, 0.08439063710753797, 0.04573855608065472, 0.0, 0.6917069200017273]\n",
      "For the zero interference in new user: \n",
      "0.6917069200017273\n",
      "\n"
     ]
    }
   ],
   "source": [
    "# Calculation of the Rn for the analysis of the results\n",
    "Rn_sqr = np.linalg.inv(Rn_sqr_inv.value)\n",
    "Rn = Rn_sqr @ Rn_sqr\n",
    "\n",
    "save_results(\"problem2_SCS_10e6.txt\", num_tx, num_rx, power_limit_per_tx, total_power, new_prob, objective, new_constraints, P, H, Rn, hc.value, first_optimal_solution)"
   ]
  },
  {
   "cell_type": "markdown",
   "metadata": {},
   "source": [
    "### Problem 2 results with CLARABEL solver"
   ]
  },
  {
   "cell_type": "code",
   "execution_count": 13,
   "metadata": {},
   "outputs": [
    {
     "data": {
      "text/plain": [
       "22.673901278429597"
      ]
     },
     "execution_count": 13,
     "metadata": {},
     "output_type": "execute_result"
    }
   ],
   "source": [
    "new_prob.solve(solver=cvx.CLARABEL, verbose=VerboseMode)"
   ]
  },
  {
   "cell_type": "code",
   "execution_count": 14,
   "metadata": {},
   "outputs": [
    {
     "name": "stdout",
     "output_type": "stream",
     "text": [
      "SIMULATION OUTPUT FILE\n",
      "CONSTANTS\n",
      "\n",
      "Number of Transmitters: 6\n",
      "Number of Receivers: 4\n",
      "Power Limits per TX: [9, 18, 10, 8, 12, 16] (sum = 73)\n",
      "Total Power Limit: 65\n",
      "\n",
      "------------------------\n",
      "INPUT PARAMETERS GENERATED\n",
      "------------------------\n",
      "Covariance Matrix Noise Rn = \n",
      "[[3.233+0.j    2.31 +3.628j 1.95 -2.023j 0.12 +0.368j]\n",
      " [2.31 -3.628j 9.704-0.j    2.357-3.332j 2.855+1.571j]\n",
      " [1.95 +2.023j 2.357+3.332j 5.133-0.j    1.897+1.29j ]\n",
      " [0.12 -0.368j 2.855-1.571j 1.897-1.29j  1.99 -0.j   ]]\n",
      "Channel Matrix  H = \n",
      "[[-0.486+0.593j -0.598+0.658j -0.475+0.202j -0.009+0.626j]\n",
      " [-0.79 -0.533j  0.166+0.886j  1.174+0.363j  0.525-0.211j]\n",
      " [-0.136+0.345j -0.628-0.053j -0.528+0.8j    1.197+1.075j]\n",
      " [ 0.036+1.545j -0.45 -0.987j  0.135-1.021j  1.485-0.357j]\n",
      " [ 0.085+0.113j  0.436+0.62j   0.212+0.223j -0.249-1.43j ]\n",
      " [-0.808-0.217j -0.247+0.585j -0.148+0.163j  0.415+0.539j]]\n",
      "\n",
      "--------------------\n",
      "RESULTS\n",
      "--------------------\n",
      "Status: optimal_inaccurate\n",
      "Num iterations: 22\n",
      "Solve Time: 0.0422647\n",
      "Solver name: CLARABEL\n",
      "Optimal value: 22.673901278429597\n",
      "Num of Constraints: 9\n",
      "\n",
      "\n",
      "P* = \n",
      "[[ 8.992+0.j     1.554-3.138j -0.949+3.714j -2.554-0.092j  3.183+5.382j  3.627-0.853j]\n",
      " [ 1.554+3.138j 17.988+0.j    -4.018-8.76j  -2.546+6.161j  2.747+6.876j  8.984-4.633j]\n",
      " [-0.949-3.714j -4.018+8.76j   9.988+0.j    -0.465+0.746j -5.015+1.023j  0.558+3.293j]\n",
      " [-2.554+0.092j -2.546-6.161j -0.465-0.746j  7.994+0.j    -1.99 -0.153j -5.47 -2.587j]\n",
      " [ 3.183-5.382j  2.747-6.876j -5.015-1.023j -1.99 +0.153j 11.988+0.j     1.547-5.231j]\n",
      " [ 3.627+0.853j  8.984+4.633j  0.558-3.293j -5.47 +2.587j  1.547+5.231j  7.689+0.j   ]]\n",
      "Eigenvalues of P* = [-0.     0.021  0.047 10.912 17.063 36.596]\n",
      "Actual Total Power of the Optimal Solution: (64.63908052436462+0j)\n",
      "Interference in new user with new solution: (-9.58897598429733e-07-6.234813013095142e-14j)\n",
      "Interference in new user with previous solution: (1605.32598882976-1.0658141036401503e-13j)\n",
      "\n",
      "--------------------\n",
      "Lagrange Multipliers\n",
      "--------------------\n",
      "For P >= 0: \n",
      "[[  4066.72    +1.565j   1476.751+3099.356j  -1457.115-2014.309j  -3638.553+3373.331j    109.702+1205.473j -10832.573 -507.035j]\n",
      " [  1476.751-3097.648j   2897.064   -0.495j  -2063.284 +379.237j   1249.757+3995.986j    958.193 +353.814j  -4316.755+8068.789j]\n",
      " [ -1457.115+2012.816j  -2063.284 -378.803j   1519.072   -0.05j    -367.082-3009.429j   -636.098 -377.385j   4130.296-5181.475j]\n",
      " [ -3638.553-3375.51j    1249.757-3999.268j   -367.082+3011.829j   6055.453   -0.381j    901.984-1169.963j   9274.849+9441.476j]\n",
      " [   109.702-1205.167j    958.193 -354.394j   -636.098 +377.725j    901.984+1168.935j    360.205   -0.13j    -441.246+3196.719j]\n",
      " [-10832.573 +498.603j  -4316.755-8073.078j   4130.296+5185.294j   9274.849-9435.267j   -441.246-3197.424j  28917.058  +11.33j ]]\n",
      "Eigenvalues of Lagrange Multiplier of P >=0: [   -3.668    -0.233    -0.011     1.141     2.531 43815.813]\n",
      "For total power:\n",
      "0.0015477932276750815\n",
      "For the limit power of each TX:\n",
      "[0.058903668477273574, 0.04132227895573995, 0.040441547777073726, 0.07750853834831617, 0.04007562734268744, 6.3362959882817e-05, 240.87988880939628]\n",
      "For the zero interference in new user: \n",
      "240.87988880939628\n",
      "\n"
     ]
    }
   ],
   "source": [
    "\n",
    "save_results(\"problem2_CLARABEL.txt\", num_tx, num_rx, power_limit_per_tx, total_power, new_prob, objective, new_constraints, P, H, Rn, hc.value, first_optimal_solution)"
   ]
  }
 ],
 "metadata": {
  "kernelspec": {
   "display_name": "Python 3 (ipykernel)",
   "language": "python",
   "name": "python3"
  },
  "language_info": {
   "codemirror_mode": {
    "name": "ipython",
    "version": 3
   },
   "file_extension": ".py",
   "mimetype": "text/x-python",
   "name": "python",
   "nbconvert_exporter": "python",
   "pygments_lexer": "ipython3",
   "version": "3.11.5"
  }
 },
 "nbformat": 4,
 "nbformat_minor": 2
}
